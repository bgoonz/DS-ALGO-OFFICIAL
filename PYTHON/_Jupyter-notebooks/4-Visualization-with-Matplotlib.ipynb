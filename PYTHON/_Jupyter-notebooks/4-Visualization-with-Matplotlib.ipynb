{
 "cells": [
  {
   "cell_type": "markdown",
   "source": [
    "ISRC Python Workshop: Visualization with Matplotlib\n",
    "\n",
    "___Visualization with Matplotlib and Seaborn___"
   ],
   "metadata": {}
  },
  {
   "cell_type": "markdown",
   "source": [
    "<hr>"
   ],
   "metadata": {}
  },
  {
   "cell_type": "markdown",
   "source": [
    "@author: Zhiya Zuo\n",
    "\n",
    "@email: zhiya-zuo@uiowa.edu"
   ],
   "metadata": {}
  },
  {
   "cell_type": "markdown",
   "source": [
    "<hr>"
   ],
   "metadata": {}
  },
  {
   "cell_type": "code",
   "execution_count": 108,
   "source": [
    "import numpy as np"
   ],
   "outputs": [],
   "metadata": {
    "ExecuteTime": {
     "end_time": "2018-01-28T18:51:57.841456Z",
     "start_time": "2018-01-28T18:51:57.835813Z"
    }
   }
  },
  {
   "cell_type": "markdown",
   "source": [
    "The following imports the main module in package `matplotlib`. Note that `%matplotlib inline` means we want the plot to be inline in our notebook instead of getting a pop-up windows."
   ],
   "metadata": {}
  },
  {
   "cell_type": "code",
   "execution_count": 109,
   "source": [
    "from matplotlib import pyplot as plt\r\n",
    "%matplotlib inline"
   ],
   "outputs": [],
   "metadata": {
    "ExecuteTime": {
     "end_time": "2018-01-28T18:51:58.541533Z",
     "start_time": "2018-01-28T18:51:58.514311Z"
    }
   }
  },
  {
   "cell_type": "markdown",
   "source": [
    "<hr>"
   ],
   "metadata": {}
  },
  {
   "cell_type": "markdown",
   "source": [
    "#### Introduction"
   ],
   "metadata": {}
  },
  {
   "cell_type": "markdown",
   "source": [
    "Visualization is one of the most important things of data analysis. Besides just producing ___readable___ plots, we should make an effort to improve the overall attractiveness of the plots. `matplotlib` is a powerful package for ___Python___ users. Let's start with an example."
   ],
   "metadata": {}
  },
  {
   "cell_type": "markdown",
   "source": [
    "First we generate sample data"
   ],
   "metadata": {}
  },
  {
   "cell_type": "code",
   "execution_count": 110,
   "source": [
    "X_arr = np.arange(10)\r\n",
    "Y_arr = 3*X_arr + 2 + np.random.random(size=X_arr.size) # linear with some noise\r\n",
    "print(X_arr)\r\n",
    "print(Y_arr)"
   ],
   "outputs": [
    {
     "output_type": "stream",
     "name": "stdout",
     "text": [
      "[0 1 2 3 4 5 6 7 8 9]\n",
      "[ 2.01486134  5.25099205  8.51321917 11.03441301 14.57193933 17.29545064\n",
      " 20.35492655 23.4540255  26.15927674 29.59403265]\n"
     ]
    }
   ],
   "metadata": {
    "ExecuteTime": {
     "end_time": "2018-01-28T18:52:00.129863Z",
     "start_time": "2018-01-28T18:52:00.114814Z"
    }
   }
  },
  {
   "cell_type": "markdown",
   "source": [
    "To plot a simple scatter plot, we can use `plt.scatter()` function"
   ],
   "metadata": {}
  },
  {
   "cell_type": "code",
   "execution_count": 111,
   "source": [
    "plt.scatter(X_arr, Y_arr)"
   ],
   "outputs": [
    {
     "output_type": "execute_result",
     "data": {
      "text/plain": [
       "<matplotlib.collections.PathCollection at 0x11b4dbe48>"
      ]
     },
     "metadata": {},
     "execution_count": 111
    },
    {
     "output_type": "display_data",
     "data": {
      "image/png": "[encoded data removed]",
      "text/plain": [
       "<matplotlib.figure.Figure at 0x11b14e128>"
      ]
     },
     "metadata": {}
    }
   ],
   "metadata": {
    "ExecuteTime": {
     "end_time": "2018-01-28T18:52:01.719648Z",
     "start_time": "2018-01-28T18:52:01.480937Z"
    }
   }
  },
  {
   "cell_type": "markdown",
   "source": [
    "See how easy this is? However, this is still too simple - we do not even have X or Y axis labels. Further we may want to change the scatter markers. Let's get a better plot!"
   ],
   "metadata": {}
  },
  {
   "cell_type": "code",
   "execution_count": 112,
   "source": [
    "# Use `+` as marker; color set as `g` (green); size proportion to Y values\n",
    "plt.scatter(X_arr, Y_arr, marker='+', c='g', s=Y_arr*10) \n",
    "# How about adding a line to it? Let's use `plt.plot()`\n",
    "# set line style to dashed; color as `k` (black) \n",
    "plt.plot(X_arr, Y_arr, linestyle='dashed', color='k')\n",
    "# set x/y axis limits: first two are xlow and xhigh; last two are ylow and yhigh\n",
    "plt.axis([0, 10, 0, 35])\n",
    "# set x/y labels\n",
    "plt.xlabel('My X Axis')\n",
    "plt.ylabel('My Y Axis')\n",
    "# set title\n",
    "plt.title('My First Plot')"
   ],
   "outputs": [
    {
     "output_type": "execute_result",
     "data": {
      "text/plain": [
       "Text(0.5,1,'My First Plot')"
      ]
     },
     "metadata": {},
     "execution_count": 112
    },
    {
     "output_type": "display_data",
     "data": {
      "image/png": "[encoded data removed]",
      "text/plain": [
       "<matplotlib.figure.Figure at 0x11b37f278>"
      ]
     },
     "metadata": {}
    }
   ],
   "metadata": {
    "ExecuteTime": {
     "end_time": "2018-01-28T18:52:03.125922Z",
     "start_time": "2018-01-28T18:52:02.667513Z"
    }
   }
  },
  {
   "cell_type": "markdown",
   "source": [
    "##### Anatomy of a Figure"
   ],
   "metadata": {}
  },
  {
   "cell_type": "markdown",
   "source": [
    "Before we go deeper, let's take a look at the structure of a figure in `matplotlib`:\n",
    "\n",
    "<img width=700 src=\"https://matplotlib.org/_images/anatomy1.png\">"
   ],
   "metadata": {}
  },
  {
   "cell_type": "markdown",
   "source": [
    "As you can see, we have done things for many of the elements. There's no need to memorize them, though. We can always Google and find information on specific parts that we want to update."
   ],
   "metadata": {}
  },
  {
   "cell_type": "markdown",
   "source": [
    "---"
   ],
   "metadata": {}
  },
  {
   "cell_type": "markdown",
   "source": [
    "#### Coding style (personal recommendation)"
   ],
   "metadata": {}
  },
  {
   "cell_type": "markdown",
   "source": [
    "I myself prefer the following way of getting a figure with `matplotlib`:"
   ],
   "metadata": {}
  },
  {
   "cell_type": "code",
   "execution_count": 113,
   "source": [
    "# `plt.subplots()` returns a figure object (which is the whole thing as shown above)\n",
    "# and `axes` that control specific plots in the figure.\n",
    "# Here our \"subplots\" layout is by default 1 row and 1 col and therefore 1 plot\n",
    "fig, ax = plt.subplots()\n",
    "# Setting figure size\n",
    "fig.set_figwidth(6)\n",
    "fig.set_figheight(5)\n",
    "# plot should be done on the `axis`: ax\n",
    "ax.plot(X_arr, Y_arr)"
   ],
   "outputs": [
    {
     "output_type": "execute_result",
     "data": {
      "text/plain": [
       "[<matplotlib.lines.Line2D at 0x11b3a3048>]"
      ]
     },
     "metadata": {},
     "execution_count": 113
    },
    {
     "output_type": "display_data",
     "data": {
      "image/png": "[encoded data removed]",
      "text/plain": [
       "<matplotlib.figure.Figure at 0x11b3a3588>"
      ]
     },
     "metadata": {}
    }
   ],
   "metadata": {
    "ExecuteTime": {
     "end_time": "2018-01-28T18:52:31.602659Z",
     "start_time": "2018-01-28T18:52:30.002316Z"
    }
   }
  },
  {
   "cell_type": "markdown",
   "source": [
    "Applying what we did earlier:"
   ],
   "metadata": {}
  },
  {
   "cell_type": "code",
   "execution_count": 114,
   "source": [
    "fig, ax = plt.subplots()\n",
    "fig.set_figwidth(6)\n",
    "fig.set_figheight(5)\n",
    "# What we just did, applying to `ax`\n",
    "ax.scatter(X_arr, Y_arr, marker='+', c='g', s=Y_arr*10) \n",
    "ax.plot(X_arr, Y_arr, linestyle='dashed', color='k')\n",
    "ax.axis([0, 10, 0, 35])\n",
    "ax.set_xlabel('My X Axis')\n",
    "ax.set_ylabel('My Y Axis')\n",
    "ax.set_title('My First Plot')"
   ],
   "outputs": [
    {
     "output_type": "execute_result",
     "data": {
      "text/plain": [
       "Text(0.5,1,'My First Plot')"
      ]
     },
     "metadata": {},
     "execution_count": 114
    },
    {
     "output_type": "display_data",
     "data": {
      "image/png": "[encoded data removed]",
      "text/plain": [
       "<matplotlib.figure.Figure at 0x117d36240>"
      ]
     },
     "metadata": {}
    }
   ],
   "metadata": {
    "ExecuteTime": {
     "end_time": "2018-01-28T18:52:32.072684Z",
     "start_time": "2018-01-28T18:52:31.609378Z"
    }
   }
  },
  {
   "cell_type": "markdown",
   "source": [
    "This is especially useful when handling multiple plots in one figure. Let's use an example of 4 plots: 2x2 layout"
   ],
   "metadata": {}
  },
  {
   "cell_type": "code",
   "execution_count": 115,
   "source": [
    "# Now the returned `ax` would be array with a shape a 2x2\n",
    "fig, ax_arr = plt.subplots(nrows=2, ncols=2)\n",
    "ax_arr.shape"
   ],
   "outputs": [
    {
     "output_type": "execute_result",
     "data": {
      "text/plain": [
       "(2, 2)"
      ]
     },
     "metadata": {},
     "execution_count": 115
    },
    {
     "output_type": "display_data",
     "data": {
      "image/png": "[encoded data removed]",
      "text/plain": [
       "<matplotlib.figure.Figure at 0x116763630>"
      ]
     },
     "metadata": {}
    }
   ],
   "metadata": {
    "ExecuteTime": {
     "end_time": "2018-01-28T18:52:33.871634Z",
     "start_time": "2018-01-28T18:52:32.984934Z"
    }
   }
  },
  {
   "cell_type": "markdown",
   "source": [
    "We can plot in each of them by adding `plot` to each of the `axes` using a `for` loop. (In reality we should plot different things in different subplots)"
   ],
   "metadata": {}
  },
  {
   "cell_type": "code",
   "execution_count": 116,
   "source": [
    "# Now the returned `ax` would be array with a shape a 2x2\n",
    "fig, ax_arr = plt.subplots(nrows=2, ncols=2)\n",
    "for ax_row in ax_arr:\n",
    "    for ax in ax_row:\n",
    "        ax.plot(X_arr, Y_arr)"
   ],
   "outputs": [
    {
     "output_type": "display_data",
     "data": {
      "image/png": "[encoded data removed]",
      "text/plain": [
       "<matplotlib.figure.Figure at 0x117805dd8>"
      ]
     },
     "metadata": {}
    }
   ],
   "metadata": {
    "ExecuteTime": {
     "end_time": "2018-01-28T18:52:34.990482Z",
     "start_time": "2018-01-28T18:52:34.001898Z"
    }
   }
  },
  {
   "cell_type": "markdown",
   "source": [
    "---"
   ],
   "metadata": {}
  },
  {
   "cell_type": "markdown",
   "source": [
    "#### Different plots"
   ],
   "metadata": {}
  },
  {
   "cell_type": "markdown",
   "source": [
    "Instead of the simpletst scatter/line plots, there are of course other options."
   ],
   "metadata": {}
  },
  {
   "cell_type": "markdown",
   "source": [
    "##### Histogram"
   ],
   "metadata": {}
  },
  {
   "cell_type": "markdown",
   "source": [
    "Let's use a Gaussian distribution for illustration"
   ],
   "metadata": {}
  },
  {
   "cell_type": "code",
   "execution_count": 117,
   "source": [
    "mu, sigma = 15, 1\n",
    "gaussian_arr = np.random.normal(mu, sigma, size=10000)\n",
    "np.mean(gaussian_arr), np.std(gaussian_arr, ddof=1)"
   ],
   "outputs": [
    {
     "output_type": "execute_result",
     "data": {
      "text/plain": [
       "(15.018546230524336, 0.9973813325728333)"
      ]
     },
     "metadata": {},
     "execution_count": 117
    }
   ],
   "metadata": {
    "ExecuteTime": {
     "end_time": "2018-01-28T18:52:36.613867Z",
     "start_time": "2018-01-28T18:52:36.600420Z"
    }
   }
  },
  {
   "cell_type": "code",
   "execution_count": 118,
   "source": [
    "fig, ax = plt.subplots()\n",
    "# `hist()` will return something but we usually do not need.\n",
    "freq_arr, bin_arr, _ = ax.hist(gaussian_arr)"
   ],
   "outputs": [
    {
     "output_type": "display_data",
     "data": {
      "image/png": "[encoded data removed]",
      "text/plain": [
       "<matplotlib.figure.Figure at 0x1176f8cf8>"
      ]
     },
     "metadata": {}
    }
   ],
   "metadata": {
    "ExecuteTime": {
     "end_time": "2018-01-28T18:52:37.321621Z",
     "start_time": "2018-01-28T18:52:36.964449Z"
    }
   }
  },
  {
   "cell_type": "markdown",
   "source": [
    "We can actually customize and make it prettier"
   ],
   "metadata": {}
  },
  {
   "cell_type": "code",
   "execution_count": 119,
   "source": [
    "fig, ax = plt.subplots()\n",
    "# Facecolor set to green; transparency (`alpha`) level: 30%\n",
    "freq_arr, bin_arr, _ = ax.hist(gaussian_arr, facecolor='g', alpha=0.3)\n",
    "# Add grid\n",
    "ax.grid()"
   ],
   "outputs": [
    {
     "output_type": "display_data",
     "data": {
      "image/png": "[encoded data removed]",
      "text/plain": [
       "<matplotlib.figure.Figure at 0x11562ae80>"
      ]
     },
     "metadata": {}
    }
   ],
   "metadata": {
    "ExecuteTime": {
     "end_time": "2018-01-28T18:52:38.273234Z",
     "start_time": "2018-01-28T18:52:37.827321Z"
    }
   }
  },
  {
   "cell_type": "markdown",
   "source": [
    "##### Boxplot"
   ],
   "metadata": {}
  },
  {
   "cell_type": "markdown",
   "source": [
    "With the guaussian data, we can use a different form: box plot"
   ],
   "metadata": {
    "ExecuteTime": {
     "end_time": "2018-01-28T18:17:05.788237Z",
     "start_time": "2018-01-28T18:17:05.776588Z"
    }
   }
  },
  {
   "cell_type": "code",
   "execution_count": 120,
   "source": [
    "fig, ax = plt.subplots()\n",
    "ax.boxplot(gaussian_arr, \n",
    "           vert=False,  # verticle\n",
    "           showfliers=False, # do not show outliers\n",
    "           showmeans=True, # show the mean\n",
    "           labels=['Gaussian'] # group name (label)\n",
    "          )"
   ],
   "outputs": [
    {
     "output_type": "execute_result",
     "data": {
      "text/plain": [
       "{'boxes': [<matplotlib.lines.Line2D at 0x112b1aba8>],\n",
       " 'caps': [<matplotlib.lines.Line2D at 0x1133b8ef0>,\n",
       "  <matplotlib.lines.Line2D at 0x1133b8d30>],\n",
       " 'fliers': [],\n",
       " 'means': [<matplotlib.lines.Line2D at 0x11303a400>],\n",
       " 'medians': [<matplotlib.lines.Line2D at 0x1133b8c88>],\n",
       " 'whiskers': [<matplotlib.lines.Line2D at 0x112b1a2b0>,\n",
       "  <matplotlib.lines.Line2D at 0x112574438>]}"
      ]
     },
     "metadata": {},
     "execution_count": 120
    },
    {
     "output_type": "display_data",
     "data": {
      "image/png": "[encoded data removed]",
      "text/plain": [
       "<matplotlib.figure.Figure at 0x1147d7668>"
      ]
     },
     "metadata": {}
    }
   ],
   "metadata": {
    "ExecuteTime": {
     "end_time": "2018-01-28T18:52:41.292074Z",
     "start_time": "2018-01-28T18:52:40.902371Z"
    }
   }
  },
  {
   "cell_type": "markdown",
   "source": [
    "##### Bar chart"
   ],
   "metadata": {}
  },
  {
   "cell_type": "markdown",
   "source": [
    "Random data for bar chart input:"
   ],
   "metadata": {}
  },
  {
   "cell_type": "code",
   "execution_count": 121,
   "source": [
    "bar_arr = np.array(['Spring', 'Summer', 'Fall', 'Winder'])\n",
    "freq_arr = np.random.randint(0, 100, 4) # generate 4 random integers for bar chart\n",
    "freq_arr"
   ],
   "outputs": [
    {
     "output_type": "execute_result",
     "data": {
      "text/plain": [
       "array([36, 16, 67, 73])"
      ]
     },
     "metadata": {},
     "execution_count": 121
    }
   ],
   "metadata": {
    "ExecuteTime": {
     "end_time": "2018-01-28T18:52:42.321189Z",
     "start_time": "2018-01-28T18:52:42.312011Z"
    }
   }
  },
  {
   "cell_type": "markdown",
   "source": [
    "We can also add error bars:"
   ],
   "metadata": {}
  },
  {
   "cell_type": "code",
   "execution_count": 122,
   "source": [
    "yerr_arr = np.random.randint(5, 10, 4)\n",
    "yerr_arr"
   ],
   "outputs": [
    {
     "output_type": "execute_result",
     "data": {
      "text/plain": [
       "array([7, 5, 9, 8])"
      ]
     },
     "metadata": {},
     "execution_count": 122
    }
   ],
   "metadata": {
    "ExecuteTime": {
     "end_time": "2018-01-28T18:52:43.268921Z",
     "start_time": "2018-01-28T18:52:43.257325Z"
    }
   }
  },
  {
   "cell_type": "code",
   "execution_count": 123,
   "source": [
    "fig, ax = plt.subplots()\n",
    "ax.bar(bar_arr, freq_arr, # X and Y\n",
    "       yerr = yerr_arr, # error bars\n",
    "       color='gold',\n",
    "      )"
   ],
   "outputs": [
    {
     "output_type": "execute_result",
     "data": {
      "text/plain": [
       "<Container object of 4 artists>"
      ]
     },
     "metadata": {},
     "execution_count": 123
    },
    {
     "output_type": "display_data",
     "data": {
      "image/png": "[encoded data removed]",
      "text/plain": [
       "<matplotlib.figure.Figure at 0x11242bbe0>"
      ]
     },
     "metadata": {}
    }
   ],
   "metadata": {
    "ExecuteTime": {
     "end_time": "2018-01-28T18:52:44.282059Z",
     "start_time": "2018-01-28T18:52:43.946397Z"
    }
   }
  },
  {
   "cell_type": "markdown",
   "source": [
    "##### Group these plots together!"
   ],
   "metadata": {}
  },
  {
   "cell_type": "code",
   "execution_count": 124,
   "source": [
    "fig, ax_arr = plt.subplots(nrows=2, ncols=2, \n",
    "                           # let their scales be different\n",
    "                           sharex=False, sharey=False)\n",
    "fig.set_figwidth(12)\n",
    "fig.set_figheight(8)\n",
    "# set global title\n",
    "fig.suptitle(\"My first subplots\")\n",
    "\n",
    "## first\n",
    "ax_arr[0, 0].scatter(X_arr, Y_arr, marker='+', c='g', s=Y_arr*10) \n",
    "ax_arr[0, 0].plot(X_arr, Y_arr, linestyle='dashed', color='k')\n",
    "ax_arr[0, 0].axis([0, 10, 0, 35])\n",
    "ax_arr[0, 0].set_title('My First Plot')\n",
    "## second \n",
    "ax_arr[0, 1].hist(gaussian_arr, facecolor='g', alpha=0.3)\n",
    "ax_arr[0, 1].set_title('Histogram')\n",
    "## third\n",
    "ax_arr[1, 0].boxplot(gaussian_arr, vert=False, showfliers=False,\n",
    "                     showmeans=True, labels=['Gaussian'])\n",
    "ax_arr[1, 0].set_title('Box plot')\n",
    "## last one\n",
    "ax_arr[1,1].bar(bar_arr, freq_arr, \n",
    "                yerr = yerr_arr, color='gold')\n",
    "ax_arr[1, 1].set_title('Bar chart')"
   ],
   "outputs": [
    {
     "output_type": "execute_result",
     "data": {
      "text/plain": [
       "Text(0.5,1,'Bar chart')"
      ]
     },
     "metadata": {},
     "execution_count": 124
    },
    {
     "output_type": "display_data",
     "data": {
      "image/png": "[encoded data removed]",
      "text/plain": [
       "<matplotlib.figure.Figure at 0x10a62c9e8>"
      ]
     },
     "metadata": {}
    }
   ],
   "metadata": {
    "ExecuteTime": {
     "end_time": "2018-01-28T18:52:46.683295Z",
     "start_time": "2018-01-28T18:52:45.521346Z"
    }
   }
  },
  {
   "cell_type": "markdown",
   "source": [
    "---"
   ],
   "metadata": {}
  },
  {
   "cell_type": "markdown",
   "source": [
    "#### Seaborn: Made life easier"
   ],
   "metadata": {}
  },
  {
   "cell_type": "markdown",
   "source": [
    "Finally, I would like to introduce [`seaborn`](https://seaborn.pydata.org/). This package really helps me get some good-looking plots for journal/conference submissions. Specifically, I would like to show you two examples."
   ],
   "metadata": {}
  },
  {
   "cell_type": "code",
   "execution_count": 125,
   "source": [
    "import seaborn as sns"
   ],
   "outputs": [],
   "metadata": {
    "ExecuteTime": {
     "end_time": "2018-01-28T18:52:51.087827Z",
     "start_time": "2018-01-28T18:52:51.082151Z"
    }
   }
  },
  {
   "cell_type": "markdown",
   "source": [
    "##### Example 1: Heatmap"
   ],
   "metadata": {}
  },
  {
   "cell_type": "markdown",
   "source": [
    "I would use the example of correlataion matrix. First I load a sample data `iris`"
   ],
   "metadata": {}
  },
  {
   "cell_type": "code",
   "execution_count": 126,
   "source": [
    "df = sns.load_dataset('iris')\n",
    "df.head()"
   ],
   "outputs": [
    {
     "output_type": "execute_result",
     "data": {
      "text/html": [
       "<div>\n",
       "<style scoped>\n",
       "    .dataframe tbody tr th:only-of-type {\n",
       "        vertical-align: middle;\n",
       "    }\n",
       "\n",
       "    .dataframe tbody tr th {\n",
       "        vertical-align: top;\n",
       "    }\n",
       "\n",
       "    .dataframe thead th {\n",
       "        text-align: right;\n",
       "    }\n",
       "</style>\n",
       "<table border=\"1\" class=\"dataframe\">\n",
       "  <thead>\n",
       "    <tr style=\"text-align: right;\">\n",
       "      <th></th>\n",
       "      <th>sepal_length</th>\n",
       "      <th>sepal_width</th>\n",
       "      <th>petal_length</th>\n",
       "      <th>petal_width</th>\n",
       "      <th>species</th>\n",
       "    </tr>\n",
       "  </thead>\n",
       "  <tbody>\n",
       "    <tr>\n",
       "      <th>0</th>\n",
       "      <td>5.1</td>\n",
       "      <td>3.5</td>\n",
       "      <td>1.4</td>\n",
       "      <td>0.2</td>\n",
       "      <td>setosa</td>\n",
       "    </tr>\n",
       "    <tr>\n",
       "      <th>1</th>\n",
       "      <td>4.9</td>\n",
       "      <td>3.0</td>\n",
       "      <td>1.4</td>\n",
       "      <td>0.2</td>\n",
       "      <td>setosa</td>\n",
       "    </tr>\n",
       "    <tr>\n",
       "      <th>2</th>\n",
       "      <td>4.7</td>\n",
       "      <td>3.2</td>\n",
       "      <td>1.3</td>\n",
       "      <td>0.2</td>\n",
       "      <td>setosa</td>\n",
       "    </tr>\n",
       "    <tr>\n",
       "      <th>3</th>\n",
       "      <td>4.6</td>\n",
       "      <td>3.1</td>\n",
       "      <td>1.5</td>\n",
       "      <td>0.2</td>\n",
       "      <td>setosa</td>\n",
       "    </tr>\n",
       "    <tr>\n",
       "      <th>4</th>\n",
       "      <td>5.0</td>\n",
       "      <td>3.6</td>\n",
       "      <td>1.4</td>\n",
       "      <td>0.2</td>\n",
       "      <td>setosa</td>\n",
       "    </tr>\n",
       "  </tbody>\n",
       "</table>\n",
       "</div>"
      ],
      "text/plain": [
       "   sepal_length  sepal_width  petal_length  petal_width species\n",
       "0           5.1          3.5           1.4          0.2  setosa\n",
       "1           4.9          3.0           1.4          0.2  setosa\n",
       "2           4.7          3.2           1.3          0.2  setosa\n",
       "3           4.6          3.1           1.5          0.2  setosa\n",
       "4           5.0          3.6           1.4          0.2  setosa"
      ]
     },
     "metadata": {},
     "execution_count": 126
    }
   ],
   "metadata": {
    "ExecuteTime": {
     "end_time": "2018-01-28T18:52:52.507148Z",
     "start_time": "2018-01-28T18:52:52.468461Z"
    }
   }
  },
  {
   "cell_type": "markdown",
   "source": [
    "Let's get the correlation between the first 3 columns:"
   ],
   "metadata": {}
  },
  {
   "cell_type": "code",
   "execution_count": 127,
   "source": [
    "corr_df = df[df.columns[:3]].corr()\n",
    "corr_df"
   ],
   "outputs": [
    {
     "output_type": "execute_result",
     "data": {
      "text/html": [
       "<div>\n",
       "<style scoped>\n",
       "    .dataframe tbody tr th:only-of-type {\n",
       "        vertical-align: middle;\n",
       "    }\n",
       "\n",
       "    .dataframe tbody tr th {\n",
       "        vertical-align: top;\n",
       "    }\n",
       "\n",
       "    .dataframe thead th {\n",
       "        text-align: right;\n",
       "    }\n",
       "</style>\n",
       "<table border=\"1\" class=\"dataframe\">\n",
       "  <thead>\n",
       "    <tr style=\"text-align: right;\">\n",
       "      <th></th>\n",
       "      <th>sepal_length</th>\n",
       "      <th>sepal_width</th>\n",
       "      <th>petal_length</th>\n",
       "    </tr>\n",
       "  </thead>\n",
       "  <tbody>\n",
       "    <tr>\n",
       "      <th>sepal_length</th>\n",
       "      <td>1.000000</td>\n",
       "      <td>-0.11757</td>\n",
       "      <td>0.871754</td>\n",
       "    </tr>\n",
       "    <tr>\n",
       "      <th>sepal_width</th>\n",
       "      <td>-0.117570</td>\n",
       "      <td>1.00000</td>\n",
       "      <td>-0.428440</td>\n",
       "    </tr>\n",
       "    <tr>\n",
       "      <th>petal_length</th>\n",
       "      <td>0.871754</td>\n",
       "      <td>-0.42844</td>\n",
       "      <td>1.000000</td>\n",
       "    </tr>\n",
       "  </tbody>\n",
       "</table>\n",
       "</div>"
      ],
      "text/plain": [
       "              sepal_length  sepal_width  petal_length\n",
       "sepal_length      1.000000     -0.11757      0.871754\n",
       "sepal_width      -0.117570      1.00000     -0.428440\n",
       "petal_length      0.871754     -0.42844      1.000000"
      ]
     },
     "metadata": {},
     "execution_count": 127
    }
   ],
   "metadata": {
    "ExecuteTime": {
     "end_time": "2018-01-28T18:52:53.755854Z",
     "start_time": "2018-01-28T18:52:53.737185Z"
    }
   }
  },
  {
   "cell_type": "markdown",
   "source": [
    "Getting a heatmap in `seaborn` is very straightfoward:"
   ],
   "metadata": {}
  },
  {
   "cell_type": "code",
   "execution_count": 128,
   "source": [
    "fig, ax = plt.subplots()\n",
    "fig.set_figwidth(8)\n",
    "fig.set_figheight(7)\n",
    "sns.heatmap(corr_df, \n",
    "            annot=True, # show the values\n",
    "            fmt=\".2f\", # format of the value\n",
    "            cmap=sns.light_palette(\"#F4D03F\", as_cmap=True), # color map to be used \n",
    "            ax=ax # plot on the `ax` we just instaniated\n",
    "           )"
   ],
   "outputs": [
    {
     "output_type": "execute_result",
     "data": {
      "text/plain": [
       "<matplotlib.axes._subplots.AxesSubplot at 0x113395e80>"
      ]
     },
     "metadata": {},
     "execution_count": 128
    },
    {
     "output_type": "display_data",
     "data": {
      "image/png": "[encoded data removed]",
      "text/plain": [
       "<matplotlib.figure.Figure at 0x10b0892e8>"
      ]
     },
     "metadata": {}
    }
   ],
   "metadata": {
    "ExecuteTime": {
     "end_time": "2018-01-28T18:52:55.743813Z",
     "start_time": "2018-01-28T18:52:55.288495Z"
    }
   }
  },
  {
   "cell_type": "markdown",
   "source": [
    "##### Example 2: Linear regression"
   ],
   "metadata": {}
  },
  {
   "cell_type": "markdown",
   "source": [
    "Using the same dataset, let's plot the bivariate regression between sepal length and width for different species:"
   ],
   "metadata": {}
  },
  {
   "cell_type": "code",
   "execution_count": 129,
   "source": [
    "sns.lmplot(x=\"sepal_length\", y=\"sepal_width\", \n",
    "           data=df, # the data to be used\n",
    "           col=\"species\", # seperate data into column based on `species`\n",
    "           hue=\"species\", # color for each subplot (facet)\n",
    "           col_wrap=3, # wrap into a new row for every 2 columns\n",
    "           ci=None, # do not show confidence interval\n",
    "           palette=\"muted\", # color palette to use\n",
    "           size=4, # size of each subplot (facet)\n",
    "          )"
   ],
   "outputs": [
    {
     "output_type": "execute_result",
     "data": {
      "text/plain": [
       "<seaborn.axisgrid.FacetGrid at 0x11becb160>"
      ]
     },
     "metadata": {},
     "execution_count": 129
    },
    {
     "output_type": "display_data",
     "data": {
      "image/png": "[encoded data removed]",
      "text/plain": [
       "<matplotlib.figure.Figure at 0x11bea3828>"
      ]
     },
     "metadata": {}
    }
   ],
   "metadata": {
    "ExecuteTime": {
     "end_time": "2018-01-28T18:52:57.863481Z",
     "start_time": "2018-01-28T18:52:56.969108Z"
    }
   }
  },
  {
   "cell_type": "markdown",
   "source": [
    "Note that `lmplot()` is a wrapper of ['FacetGrid'](https://seaborn.pydata.org/generated/seaborn.FacetGrid.html) so we cannot set the `axes` for this figure."
   ],
   "metadata": {}
  },
  {
   "cell_type": "markdown",
   "source": [
    "---"
   ],
   "metadata": {}
  },
  {
   "cell_type": "markdown",
   "source": [
    "#### Some helpful tutorials...\n",
    "\n",
    "Finally, I list some tutorials that I think will greatly benefit the understanding of the packages mentioend above:\n",
    "\n",
    "- https://matplotlib.org/users/pyplot_tutorial.html\n",
    "- https://matplotlib.org/faq/usage_faq.html#parts-of-a-figure\n",
    "- https://seaborn.pydata.org/examples/index.html"
   ],
   "metadata": {}
  }
 ],
 "metadata": {
  "kernelspec": {
   "name": "python3",
   "display_name": "Python 3.9.6 64-bit"
  },
  "language_info": {
   "codemirror_mode": {
    "name": "ipython",
    "version": 3
   },
   "file_extension": ".py",
   "mimetype": "text/x-python",
   "name": "python",
   "nbconvert_exporter": "python",
   "pygments_lexer": "ipython3",
   "version": "3.9.6"
  },
  "toc": {
   "nav_menu": {},
   "number_sections": true,
   "sideBar": true,
   "skip_h1_title": false,
   "toc_cell": false,
   "toc_position": {
    "height": "888px",
    "left": "0px",
    "right": "1583px",
    "top": "92px",
    "width": "337px"
   },
   "toc_section_display": "block",
   "toc_window_display": true
  },
  "varInspector": {
   "cols": {
    "lenName": 16,
    "lenType": 16,
    "lenVar": 40
   },
   "kernels_config": {
    "python": {
     "delete_cmd_postfix": "",
     "delete_cmd_prefix": "del ",
     "library": "var_list.py",
     "varRefreshCmd": "print(var_dic_list())"
    },
    "r": {
     "delete_cmd_postfix": ") ",
     "delete_cmd_prefix": "rm(",
     "library": "var_list.r",
     "varRefreshCmd": "cat(var_dic_list()) "
    }
   },
   "types_to_exclude": [
    "module",
    "function",
    "builtin_function_or_method",
    "instance",
    "_Feature"
   ],
   "window_display": false
  },
  "interpreter": {
   "hash": "b3816142bb66cdf83a7ab71b32fe9673b85aaeb7895e987f91cada867a028bdf"
  }
 },
 "nbformat": 4,
 "nbformat_minor": 2
}