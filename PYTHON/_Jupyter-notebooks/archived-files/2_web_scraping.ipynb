{
 "cells": [
  {
   "cell_type": "markdown",
   "metadata": {},
   "source": [
    "## ISRC Python Workshop 2: Web Scraping (Mar. 09th 2017)"
   ]
  },
  {
   "cell_type": "markdown",
   "metadata": {},
   "source": [
    "### 1. Use off-the-shelf tools: _Do not reinvent the wheel!!!_"
   ]
  },
  {
   "cell_type": "markdown",
   "metadata": {},
   "source": [
    "#### Use Application Programming Interfaces (APIs): Twitter API as an example\n",
    "\n",
    "Many web servers have their own APIs ready to use. By using these convenient tools, we can get started right off following their documentations and examples without any manual efforts. We will be using <a href=\"https://apps.twitter.com/\" target=\"_blank\">Twitter API</a> as an example."
   ]
  },
  {
   "cell_type": "markdown",
   "metadata": {},
   "source": [
    "First, we have to register an account for Twitter Developer and register an app. Let's go to https://dev.twitter.com/ and get an app togther. <a href=\"https://python-twitter.readthedocs.io/en/latest/getting_started.html\" target=\"_b lank\">Here</a>'s a quick start on how you can do this."
   ]
  },
  {
   "cell_type": "markdown",
   "metadata": {},
   "source": [
    "After we obtain *__consumer key__*, *__consumer secret__*, *__access token__*, and *__access token secret__*, we are ready to retrieve some data from Twitter!"
   ]
  },
  {
   "cell_type": "code",
   "execution_count": 1,
   "metadata": {
    "scrolled": true
   },
   "outputs": [
    {
     "name": "stdout",
     "output_type": "stream",
     "text": [
      "{\"created_at\": \"Sun Aug 17 22:58:25 +0000 2014\", \"description\": \"haha\", \"followers_count\": 1, \"friends_count\": 8, \"geo_enabled\": true, \"id\": 2740697738, \"lang\": \"en\", \"location\": \"Iowa, USA\", \"name\": \"Zhiya Zuo\", \"profile_background_color\": \"709397\", \"profile_background_image_url\": \"http://abs.twimg.com/images/themes/theme6/bg.gif\", \"profile_banner_url\": \"https://pbs.twimg.com/profile_banners/2740697738/1408396835\", \"profile_image_url\": \"http://pbs.twimg.com/profile_images/501478704422211585/ZRxyBIQ4_normal.png\", \"profile_link_color\": \"FF3300\", \"profile_sidebar_fill_color\": \"A0C5C7\", \"profile_text_color\": \"333333\", \"screen_name\": \"zhiyzuo\", \"status\": {\"created_at\": \"Mon Oct 31 16:40:09 +0000 2016\", \"id\": 793130450583638016, \"id_str\": \"793130450583638016\", \"lang\": \"en\", \"source\": \"<a href=\\\"https://fabric.io\\\" rel=\\\"nofollow\\\">Created by Fabric for zhiya-zuos-projects2: com.example.zhiyzuo.twitterapp on android</a>\", \"text\": \"#fabric #myowntwitterapp fun app!\"}, \"statuses_count\": 6, \"time_zone\": \"Central Time (US & Canada)\", \"utc_offset\": -21600}\n"
     ]
    },
    {
     "name": "stderr",
     "output_type": "stream",
     "text": [
      "/usr/local/Cellar/python/2.7.13/Frameworks/Python.framework/Versions/2.7/lib/python2.7/json/encoder.py:207: DeprecationWarning: Interpreting naive datetime as local 2017-03-09 17:04:06.010321. Please add timezone info to timestamps.\n",
      "  chunks = self.iterencode(o, _one_shot=True)\n"
     ]
    }
   ],
   "source": [
    "## suppress warnings\n",
    "import warnings\n",
    "warnings.filterwarnings('ignore')\n",
    "\n",
    "## read my app keys\n",
    "## I saved my own keys into a text file.\n",
    "## Please put your keys and secrest following\n",
    "## These four lines of commented code below:\n",
    "## consumer_key = \"your_consumer_key\"        \n",
    "## consumer_secret = \"your_consumer_secret\"\n",
    "## access_token = \"your_access_token\"\n",
    "## access_secret = \"your_access_secret\"\n",
    "\n",
    "with open(\"./twitter_keys.csv\", \"r\") as twitter_keys:\n",
    "    keys = twitter_keys.read()\n",
    "    consumer_key, consumer_secret, access_token, access_secret = \\\n",
    "        keys.split(\"\\n\")[:-1]\n",
    "\n",
    "'''\n",
    "consumer_key = \"e2hTzk3cSLWwj7P2gqzKYe054\"        \n",
    "consumer_secret = \"BJYoFI8Tm3CgLlCQs4tu6HfKfA2yeVyje18Uhz8z72sb0BpLrd\"\n",
    "access_token = \"2740697738-gJ9TRAgG1RB9HBlzkgO5XUAAUipJXevFhrhLRaU\"\n",
    "access_secret = \"kgnOc0sK2GFqrGwzninGPVcBRRampjbZg7LQYg7wh9cTx\"\n",
    "'''\n",
    "\n",
    "## load twitter package, which a well-written Python package for Twitter APIs\n",
    "import twitter\n",
    "api = twitter.Api(consumer_key=consumer_key,\n",
    "                  consumer_secret=consumer_secret,                  \n",
    "                  access_token_key=access_token,\n",
    "                  access_token_secret=access_secret)\n",
    "\n",
    "## check status\n",
    "print(api.VerifyCredentials())"
   ]
  },
  {
   "cell_type": "code",
   "execution_count": 3,
   "metadata": {},
   "outputs": [
    {
     "name": "stdout",
     "output_type": "stream",
     "text": [
      "[u'#fabric #myowntwitterapp fun app!', u'test my fabric composer', u'Test pic http://t.co/C8CJbKg19b', u'Test url twitter api http://t.co/3eXsFUEZPo', u'This is a test tweet for the api.', u'Test tweet']\n",
      "[u'Mon Oct 31 16:40:09 +0000 2016', u'Mon Oct 31 04:03:32 +0000 2016', u'Wed Dec 10 17:11:50 +0000 2014', u'Wed Dec 10 17:01:40 +0000 2014', u'Fri Dec 05 22:28:49 +0000 2014', u'Fri Dec 05 17:54:31 +0000 2014']\n",
      "[u'qix', u'Overleaf', u'Bookbyte', u'Andrew Ng', u'Iowa Memorial Union', u'The Daily Iowan', u'University of Iowa', u'kevin Garnet']\n"
     ]
    }
   ],
   "source": [
    "## Try to do some simple tasks\n",
    "# get statuses\n",
    "statuses = api.GetUserTimeline(screen_name=\"Zhiya Zuo\")\n",
    "print([s.text for s in statuses])\n",
    "statuses = api.GetUserTimeline(user_id=\"2740697738\")\n",
    "print([s.created_at for s in statuses])\n",
    "\n",
    "## Get your friends\n",
    "friends = api.GetFriends()\n",
    "print([f.name for f in friends])"
   ]
  },
  {
   "cell_type": "code",
   "execution_count": 4,
   "metadata": {},
   "outputs": [
    {
     "name": "stdout",
     "output_type": "stream",
     "text": [
      "Coming up, one man reveals an unpublished novel by Walt Whitman. Read the \"Life and Adventures of Jack Engle\" https://t.co/Jah3KgoPVg tweeted by \u001b[41mnpratc\u001b[0m\n"
     ]
    }
   ],
   "source": [
    "## More interestingly, let's go get some tweets from Twitter\n",
    "## See https://dev.twitter.com/rest/public/search for more informaiton on how to construct a query\n",
    "results = api.GetSearch(\n",
    "    raw_query=\"q=uiowa&result_type=popular&since=2014-12-01&count=20&lang=en\")\n",
    "# How to set `lang` parameter -> https://dev.twitter.com/rest/reference/get/help/languages\n",
    "\n",
    "# show all the text in the retrieved tweets, with user screen name highlited\n",
    "from IPython.display import clear_output\n",
    "for tw in results:\n",
    "    clear_output() # clear output in iPython Notebook after each print\n",
    "    print(\"%s tweeted by \\033[41m%s\\033[0m\"%(tw.text, tw.user.screen_name))"
   ]
  },
  {
   "cell_type": "markdown",
   "metadata": {},
   "source": [
    "### 2. Create your own manual parsing programs "
   ]
  },
  {
   "cell_type": "markdown",
   "metadata": {},
   "source": [
    "#### Manually scraping\n",
    "\n",
    "Sometimes, they have APIs but they have no well-written packages in the language you prefer (e.g. only Java but no Python libraries). Even worse, there may not be APIs for the public and we have to design a scraper to retrieve all the relevant informaiton we want. In such cases, we can manually look at the returned values and build our own wrapper functions."
   ]
  },
  {
   "cell_type": "markdown",
   "metadata": {},
   "source": [
    "#### Preliminiary examples"
   ]
  },
  {
   "cell_type": "markdown",
   "metadata": {},
   "source": [
    "Examples from <a href=\"https://www.w3schools.com/html/tryit.asp?filename=tryhtml_basic_document\" target=\"blank_\">w3schools</a>."
   ]
  },
  {
   "cell_type": "markdown",
   "metadata": {},
   "source": [
    "```html\n",
    "<!DOCTYPE html>\n",
    "<html>\n",
    "<body>\n",
    "\n",
    "<h1>My First Heading</h1>\n",
    "\n",
    "<p>My 1st paragraph.</p>\n",
    "<p>My 2nd paragraph.</p>\n",
    "<p>My 3rd paragraph.</p>\n",
    "\n",
    "</body>\n",
    "</html>\n",
    "```"
   ]
  },
  {
   "cell_type": "markdown",
   "metadata": {},
   "source": [
    "Save this code to your disk as `sample.html` (or any other name). We will use a great library called ___`Beautiful Soup`___ to read the contents from Python. You may also need to install lxml, which is for parsing specific formats (e.g., html and xml)."
   ]
  },
  {
   "cell_type": "code",
   "execution_count": 5,
   "metadata": {},
   "outputs": [
    {
     "name": "stdout",
     "output_type": "stream",
     "text": [
      "<html>\n",
      " <body>\n",
      "  <h1>\n",
      "   My First Heading\n",
      "  </h1>\n",
      "  <p>\n",
      "   My 1st paragraph.\n",
      "  </p>\n",
      "  <p>\n",
      "   My 2nd paragraph.\n",
      "  </p>\n",
      "  <p>\n",
      "   My 3rd paragraph.\n",
      "  </p>\n",
      " </body>\n",
      "</html>\n",
      "\n"
     ]
    }
   ],
   "source": [
    "## Do the following if you have not\n",
    "# pip install beautifulsoup4 lxml\n",
    "\n",
    "from bs4 import BeautifulSoup as Soup\n",
    "\n",
    "with open(\"./sample.html\", \"r\") as sample:\n",
    "    sample_contents = sample.read()\n",
    "\n",
    "sample_soup = Soup(sample_contents)\n",
    "# by printing it, we can see the exact contents as shown above with proper indentation\n",
    "print(sample_soup.prettify())"
   ]
  },
  {
   "cell_type": "code",
   "execution_count": 6,
   "metadata": {},
   "outputs": [
    {
     "name": "stdout",
     "output_type": "stream",
     "text": [
      "My 1st paragraph.\n",
      "My 2nd paragraph.\n",
      "My 3rd paragraph.\n"
     ]
    }
   ],
   "source": [
    "## Get the contents of interest: all the p's\n",
    "# ** p means paragraph in html. Check more tag definitions on w3schools.org\n",
    "p_tags = sample_soup.find_all(\"p\")\n",
    "for p in p_tags:\n",
    "    print(p.text)"
   ]
  },
  {
   "cell_type": "markdown",
   "metadata": {},
   "source": [
    "#### Locate your contents of interest in browser\n",
    "As you can see, this is very straightforward. Let's use a real website for illustration. For example, if we are interested in company profiles, we can scrape from Google Finance. We will be using <a href=\"https://www.google.com/finance?q=NYSE%3AIBM&ei=Ij62WPHgGdSLmAHrja_wAQ\" target=\"_blank\">IBM's profile</a> as an example. However, you may find off-the-shelf packages. We will only use this for an introduction on how to scrape manually."
   ]
  },
  {
   "cell_type": "markdown",
   "metadata": {},
   "source": [
    "To view the \"text style\" or the real structure of a web page, you can use ___`developer tools`___ function in your browser. For example, you can see something like this. If you move your mouse to a place, the console will show you the corresponding tags in the source html files. You will find that the description text is located within a `p` tag."
   ]
  },
  {
   "cell_type": "markdown",
   "metadata": {},
   "source": [
    "<img src=\"http://i.imgur.com/IEl2uyG.png\" width=\"1000\">"
   ]
  },
  {
   "cell_type": "code",
   "execution_count": 7,
   "metadata": {},
   "outputs": [
    {
     "name": "stdout",
     "output_type": "stream",
     "text": [
      "\u001b[43m\n",
      "International Business Machines Corporation (IBM) is a technology company. The Company operates through five segments: Global Technology Services (GTS), Global Business Services (GBS), Software, Systems Hardware and Global Financing. The Company's GTS segment offers services, including strategic outsourcing, integrated technology services, cloud and technology support services (maintenance services). Its GBS segment provides consulting and systems integration, application management services and process services. The software segment consists primarily of middleware and operating systems software. The Systems Hardware segment provides clients with infrastructure technologies. The Company's Global Financing segment includes client financing, commercial financing, and remanufacturing and remarketing.\n",
      "\n",
      "\n",
      "More from Reuters »\n",
      "\n",
      "\u001b[0m\n"
     ]
    }
   ],
   "source": [
    "import urllib2 \n",
    "ibm_url = \"https://www.google.com/finance?q=NYSE%3AIBM&ei=Ij62WPHgGdSLmAHrja_wAQ\"\n",
    "## read it as strings\n",
    "ibm_page = urllib2.urlopen(ibm_url).read()\n",
    "## convert it to a soup object\n",
    "ibm_soup = Soup(ibm_page)\n",
    "## find the correponding tag. Note that class_ has a trailing underscore\n",
    "summary_tag = ibm_soup.find(\"div\", class_=\"companySummary\")\n",
    "print(\"\\033[43m%s\\033[0m\"%(summary_tag.text))"
   ]
  },
  {
   "cell_type": "markdown",
   "metadata": {},
   "source": [
    "With this in mind, you can scrape almost any webpage of interest. Other formats such as <a href=\"http://www.json.org/\" target=\"_blank\">JSON</a> and <a href=\"https://www.w3.org/XML/\" target=\"_blank\">XML</a> do have high similarities and a few differences. They are not very difficult to know the basics!\n",
    "\n",
    "***But keep in mind that you should act politely, with propoer permission. To find out whether specific paths/contents are allowed to be scraped, you can check their ___`robots.txt`___. For example, <a href=\"https://www.google.com/robots.txt\" target=\"_blank\">here's</a> the permission information set by Google.***"
   ]
  },
  {
   "cell_type": "markdown",
   "metadata": {},
   "source": [
    "### 3. Exercise: build our own Scopus scraper"
   ]
  },
  {
   "cell_type": "markdown",
   "metadata": {},
   "source": [
    "We will be using <a href=\"https://dev.elsevier.com/\" target=\"_blank\">Scopus APIs</a> as an example (it seems like they are actively building such tools to facilitate developing applications but we can still DIY wrappers that most fit our own usage). I build my own called <a href=\"http://zhiyzuo.github.io/python-scopus/\" target=\"_blank\">python-scopus</a>."
   ]
  },
  {
   "cell_type": "markdown",
   "metadata": {},
   "source": [
    "#### A quick start"
   ]
  },
  {
   "cell_type": "markdown",
   "metadata": {},
   "source": [
    "The first step will still be getting your API key for access to Elsevier's database. Go to https://dev.elsevier.com/ and request a key. Then we can write a simple query to try it out!"
   ]
  },
  {
   "cell_type": "code",
   "execution_count": 8,
   "metadata": {},
   "outputs": [
    {
     "name": "stdout",
     "output_type": "stream",
     "text": [
      "XML: http://api.elsevier.com/content/search/scopus?query=TITLE-ABS-KEY%28protein+structure%29&apikey=f4ef78418fdf4df42cdd4108dea1d803\n",
      "JSON: http://api.elsevier.com/content/search/scopus?query=TITLE-ABS-KEY%28protein+structure%29&httpAccept=application%2Fjson&apikey=f4ef78418fdf4df42cdd4108dea1d803\n"
     ]
    }
   ],
   "source": [
    "with open(\"./scopus_apikey.csv\", \"r\") as scopus_key:\n",
    "    key = scopus_key.read().strip(\"\\n\")\n",
    "## check out http://api.elsevier.com/documentation/SCOPUSSearchAPI.wadl\n",
    "## search tips: http://api.elsevier.com/documentation/search/SCOPUSSearchTips.htm\n",
    "search_uri = \"http://api.elsevier.com/content/search/scopus\"\n",
    "\n",
    "import requests\n",
    "## notice how we supply the query parameters using requests package\n",
    "## http://docs.python-requests.org/en/master/user/quickstart/#make-a-request\n",
    "par = {'apikey': key, 'query': 'TITLE-ABS-KEY(protein structure)'}\n",
    "r = requests.get(search_uri, params=par)\n",
    "## click to see\n",
    "print(\"XML: %s\"%r.url)\n",
    "\n",
    "## by default this is an XML repsonse, we can ask elsevier to return a JSON object\n",
    "par_json = {'apikey': key, 'query': 'TITLE-ABS-KEY(protein structure)', 'httpAccept':'application/json'}\n",
    "r_json = requests.get(search_uri, params=par_json)\n",
    "## click to see\n",
    "print(\"JSON: %s\"%r_json.url)"
   ]
  },
  {
   "cell_type": "markdown",
   "metadata": {},
   "source": [
    "For parsing the JSON object, you can use <a href=\"http://docs.python-guide.org/en/latest/scenarios/json/\" target=\"_blank\">***`JSON`***</a> library, which we will cover later. \n",
    "\n",
    "So, we currently have something like this:"
   ]
  },
  {
   "cell_type": "markdown",
   "metadata": {},
   "source": [
    "<img src=\"http://i.imgur.com/4NnM00t.png\">"
   ]
  },
  {
   "cell_type": "markdown",
   "metadata": {},
   "source": [
    "We can actually use the same trick as we did for the html files for xml formats: first download it using ___`urlopen`___ function in ___`urllib2`___ library. However, ___`requests`___ make all these much easier for us:"
   ]
  },
  {
   "cell_type": "code",
   "execution_count": 9,
   "metadata": {},
   "outputs": [
    {
     "name": "stdout",
     "output_type": "stream",
     "text": [
      "{u'search-results': {u'opensearch:Query': {u'@searchTerms': u'TITLE-ABS-KEY(protein structure)', u'@role': u'request', u'@startPage': u'0'}, u'opensearch:itemsPerPage': u'25', u'opensearch:totalResults': u'854559', u'link': [{u'@href': u'http://api.elsevier.com/content/search/scopus?start=0&count=25&query=TITLE-ABS-KEY%28protein+structure%29&apikey=f4ef78418fdf4df42cdd4108dea1d803', u'@ref': u'self', u'@_fa': u'true', u'@type': u'application/json'}, {u'@href': u'http://api.elsevier.com/content/search/scopus?start=0&count=25&query=TITLE-ABS-KEY%28protein+structure%29&apikey=f4ef78418fdf4df42cdd4108dea1d803', u'@ref': u'first', u'@_fa': u'true', u'@type': u'application/json'}, {u'@href': u'http://api.elsevier.com/content/search/scopus?start=25&count=25&query=TITLE-ABS-KEY%28protein+structure%29&apikey=f4ef78418fdf4df42cdd4108dea1d803', u'@ref': u'next', u'@_fa': u'true', u'@type': u'application/json'}, {u'@href': u'http://api.elsevier.com/content/search/scopus?start=4975&count=25&query=TITLE-ABS-KEY%28protein+structure%29&apikey=f4ef78418fdf4df42cdd4108dea1d803', u'@ref': u'last', u'@_fa': u'true', u'@type': u'application/json'}], u'opensearch:startIndex': u'0', u'entry': [{u'prism:volume': u'32', u'prism:issueIdentifier': u'1', u'dc:title': u'Investigation of PDE5/PDE6 and PDE5/PDE11 selective potent tadalafil-like PDE5 inhibitors using combination of molecular modeling approaches, molecular fingerprint-based virtual screening protocols and structure-based pharmacophore development', u'affiliation': [{u'affiliation-country': u'Turkey', u'affiliation-city': u'Istanbul', u'@_fa': u'true', u'affilname': u'Istanbul Teknik Universitesi'}, {u'affiliation-country': u'Italy', u'affiliation-city': u'Pisa', u'@_fa': u'true', u'affilname': u'Universita di Pisa'}], u'prism:publicationName': u'Journal of enzyme inhibition and medicinal chemistry', u'pubmed-id': u'28150511', u'dc:identifier': u'SCOPUS_ID:85013218391', u'subtypeDescription': u'Article', u'citedby-count': u'0', u'source-id': u'17605', u'prism:eIssn': u'14756374', u'link': [{u'@href': u'http://api.elsevier.com/content/abstract/scopus_id/85013218391', u'@ref': u'self', u'@_fa': u'true'}, {u'@href': u'http://api.elsevier.com/content/abstract/scopus_id/85013218391?field=author,affiliation', u'@ref': u'author-affiliation', u'@_fa': u'true'}, {u'@href': u'https://www.scopus.com/inward/record.uri?partnerID=HzOxMe3b&scp=85013218391&origin=inward', u'@ref': u'scopus', u'@_fa': u'true'}, {u'@href': u'https://www.scopus.com/inward/citedby.uri?partnerID=HzOxMe3b&scp=85013218391&origin=inward', u'@ref': u'scopus-citedby', u'@_fa': u'true'}], u'dc:creator': u'Kay\\u0131k G.', u'prism:coverDate': u'2017-12-01', u'prism:doi': u'10.1080/14756366.2016.1250756', u'prism:coverDisplayDate': u'1 December 2017', u'subtype': u'ar', u'prism:aggregationType': u'Journal', u'eid': u'2-s2.0-85013218391', u'prism:pageRange': u'311-330', u'@_fa': u'true', u'prism:url': u'http://api.elsevier.com/content/abstract/scopus_id/85013218391'}, {u'prism:volume': u'32', u'prism:issueIdentifier': u'1', u'dc:title': u'Probing the druggability of membrane-bound Rab5 by molecular dynamics simulations', u'affiliation': [{u'affiliation-country': u'Germany', u'affiliation-city': u'Magdeburg', u'@_fa': u'true', u'affilname': u'Max Planck Institute for Dynamics of Complex Technical Systems'}], u'prism:publicationName': u'Journal of enzyme inhibition and medicinal chemistry', u'pubmed-id': u'28090783', u'dc:identifier': u'SCOPUS_ID:85013156560', u'subtypeDescription': u'Article', u'citedby-count': u'0', u'source-id': u'17605', u'prism:eIssn': u'14756374', u'link': [{u'@href': u'http://api.elsevier.com/content/abstract/scopus_id/85013156560', u'@ref': u'self', u'@_fa': u'true'}, {u'@href': u'http://api.elsevier.com/content/abstract/scopus_id/85013156560?field=author,affiliation', u'@ref': u'author-affiliation', u'@_fa': u'true'}, {u'@href': u'https://www.scopus.com/inward/record.uri?partnerID=HzOxMe3b&scp=85013156560&origin=inward', u'@ref': u'scopus', u'@_fa': u'true'}, {u'@href': u'https://www.scopus.com/inward/citedby.uri?partnerID=HzOxMe3b&scp=85013156560&origin=inward', u'@ref': u'scopus-citedby', u'@_fa': u'true'}], u'dc:creator': u'Edler E.', u'prism:coverDate': u'2017-12-01', u'prism:doi': u'10.1080/14756366.2016.1260564', u'prism:coverDisplayDate': u'1 December 2017', u'subtype': u'ar', u'prism:aggregationType': u'Journal', u'eid': u'2-s2.0-85013156560', u'prism:pageRange': u'434-443', u'@_fa': u'true', u'prism:url': u'http://api.elsevier.com/content/abstract/scopus_id/85013156560'}, {u'prism:volume': u'32', u'prism:issueIdentifier': u'1', u'dc:title': u\"Novel multitarget-directed tacrine derivatives as potential candidates for the treatment of Alzheimer's disease\", u'affiliation': [{u'affiliation-country': u'China', u'affiliation-city': u'Nanjing', u'@_fa': u'true', u'affilname': u'Nanjing University of Traditional Chinese Medicine'}, {u'affiliation-country': u'China', u'affiliation-city': u'Nanjing', u'@_fa': u'true', u'affilname': u'Nanjing University of Traditional Chinese Medicine'}], u'prism:publicationName': u'Journal of enzyme inhibition and medicinal chemistry', u'pubmed-id': u'28133981', u'dc:identifier': u'SCOPUS_ID:85013140426', u'subtypeDescription': u'Review', u'citedby-count': u'0', u'source-id': u'17605', u'prism:eIssn': u'14756374', u'link': [{u'@href': u'http://api.elsevier.com/content/abstract/scopus_id/85013140426', u'@ref': u'self', u'@_fa': u'true'}, {u'@href': u'http://api.elsevier.com/content/abstract/scopus_id/85013140426?field=author,affiliation', u'@ref': u'author-affiliation', u'@_fa': u'true'}, {u'@href': u'https://www.scopus.com/inward/record.uri?partnerID=HzOxMe3b&scp=85013140426&origin=inward', u'@ref': u'scopus', u'@_fa': u'true'}, {u'@href': u'https://www.scopus.com/inward/citedby.uri?partnerID=HzOxMe3b&scp=85013140426&origin=inward', u'@ref': u'scopus-citedby', u'@_fa': u'true'}], u'dc:creator': u'Wu W.', u'prism:coverDate': u'2017-12-01', u'prism:doi': u'10.1080/14756366.2016.1210139', u'prism:coverDisplayDate': u'1 December 2017', u'subtype': u're', u'prism:aggregationType': u'Journal', u'eid': u'2-s2.0-85013140426', u'prism:pageRange': u'572-587', u'@_fa': u'true', u'prism:url': u'http://api.elsevier.com/content/abstract/scopus_id/85013140426'}, {u'prism:volume': u'7', u'prism:issueIdentifier': u'1', u'dc:title': u'Complementary function of two transketolase isoforms from Moniliella megachiliensis in relation to stress response', u'affiliation': [{u'affiliation-country': u'Japan', u'affiliation-city': u'Tokyo', u'@_fa': u'true', u'affilname': u'Nihon University'}], u'prism:publicationName': u'AMB Express', u'dc:identifier': u'SCOPUS_ID:85013452709', u'subtypeDescription': u'Article', u'citedby-count': u'0', u'source-id': u'21100198481', u'prism:eIssn': u'21910855', u'link': [{u'@href': u'http://api.elsevier.com/content/abstract/scopus_id/85013452709', u'@ref': u'self', u'@_fa': u'true'}, {u'@href': u'http://api.elsevier.com/content/abstract/scopus_id/85013452709?field=author,affiliation', u'@ref': u'author-affiliation', u'@_fa': u'true'}, {u'@href': u'https://www.scopus.com/inward/record.uri?partnerID=HzOxMe3b&scp=85013452709&origin=inward', u'@ref': u'scopus', u'@_fa': u'true'}, {u'@href': u'https://www.scopus.com/inward/citedby.uri?partnerID=HzOxMe3b&scp=85013452709&origin=inward', u'@ref': u'scopus-citedby', u'@_fa': u'true'}], u'dc:creator': u'Iwata H.', u'prism:coverDate': u'2017-12-01', u'prism:doi': u'10.1186/s13568-017-0342-0', u'prism:coverDisplayDate': u'1 December 2017', u'subtype': u'ar', u'prism:aggregationType': u'Journal', u'eid': u'2-s2.0-85013452709', u'prism:pageRange': None, u'@_fa': u'true', u'prism:url': u'http://api.elsevier.com/content/abstract/scopus_id/85013452709', u'article-number': u'45'}, {u'prism:volume': u'10', u'prism:issueIdentifier': u'1', u'dc:title': u'Two NADPH: Protochlorophyllide Oxidoreductase (POR) Isoforms Play Distinct Roles in Environmental Adaptation in Rice', u'affiliation': [{u'affiliation-country': u'South Korea', u'affiliation-city': u'Seoul', u'@_fa': u'true', u'affilname': u'Seoul National University'}], u'prism:publicationName': u'Rice', u'prism:issn': u'19398425', u'dc:identifier': u'SCOPUS_ID:85009219497', u'subtypeDescription': u'Article', u'citedby-count': u'0', u'source-id': u'19500157075', u'prism:eIssn': u'19398433', u'link': [{u'@href': u'http://api.elsevier.com/content/abstract/scopus_id/85009219497', u'@ref': u'self', u'@_fa': u'true'}, {u'@href': u'http://api.elsevier.com/content/abstract/scopus_id/85009219497?field=author,affiliation', u'@ref': u'author-affiliation', u'@_fa': u'true'}, {u'@href': u'https://www.scopus.com/inward/record.uri?partnerID=HzOxMe3b&scp=85009219497&origin=inward', u'@ref': u'scopus', u'@_fa': u'true'}, {u'@href': u'https://www.scopus.com/inward/citedby.uri?partnerID=HzOxMe3b&scp=85009219497&origin=inward', u'@ref': u'scopus-citedby', u'@_fa': u'true'}], u'dc:creator': u'Kwon C.', u'prism:coverDate': u'2017-12-01', u'prism:doi': u'10.1186/s12284-016-0141-2', u'prism:coverDisplayDate': u'1 December 2017', u'subtype': u'ar', u'prism:aggregationType': u'Journal', u'eid': u'2-s2.0-85009219497', u'prism:pageRange': None, u'@_fa': u'true', u'prism:url': u'http://api.elsevier.com/content/abstract/scopus_id/85009219497', u'article-number': u'1'}, {u'prism:volume': u'58', u'prism:issueIdentifier': u'1', u'dc:title': u'Characterization of LhSorP5CS, a gene catalyzing proline synthesis in Oriental hybrid lily Sorbonne: molecular modelling and expression analysis', u'affiliation': [{u'affiliation-country': u'China', u'affiliation-city': u'Beijing', u'@_fa': u'true', u'affilname': u'Chinese Academy of Sciences'}, {u'affiliation-country': u'China', u'affiliation-city': u'Beijing', u'@_fa': u'true', u'affilname': u'Chinese Academy of Sciences'}], u'prism:publicationName': u'Botanical Studies', u'prism:issn': u'1817406X', u'dc:identifier': u'SCOPUS_ID:85009863222', u'subtypeDescription': u'Article', u'citedby-count': u'0', u'source-id': u'4700151601', u'link': [{u'@href': u'http://api.elsevier.com/content/abstract/scopus_id/85009863222', u'@ref': u'self', u'@_fa': u'true'}, {u'@href': u'http://api.elsevier.com/content/abstract/scopus_id/85009863222?field=author,affiliation', u'@ref': u'author-affiliation', u'@_fa': u'true'}, {u'@href': u'https://www.scopus.com/inward/record.uri?partnerID=HzOxMe3b&scp=85009863222&origin=inward', u'@ref': u'scopus', u'@_fa': u'true'}, {u'@href': u'https://www.scopus.com/inward/citedby.uri?partnerID=HzOxMe3b&scp=85009863222&origin=inward', u'@ref': u'scopus-citedby', u'@_fa': u'true'}], u'dc:creator': u'Wang L.', u'prism:coverDate': u'2017-12-01', u'prism:doi': u'10.1186/s40529-017-0163-0', u'prism:coverDisplayDate': u'1 December 2017', u'subtype': u'ar', u'prism:aggregationType': u'Journal', u'eid': u'2-s2.0-85009863222', u'prism:pageRange': None, u'@_fa': u'true', u'prism:url': u'http://api.elsevier.com/content/abstract/scopus_id/85009863222', u'article-number': u'10'}, {u'prism:volume': u'38', u'prism:issueIdentifier': u'9', u'dc:title': u'Formation of concentrated biopolymer particles composed of oppositely charged WPI and pectin for food applications', u'affiliation': [{u'affiliation-country': None, u'affiliation-city': u'Stuttgart', u'@_fa': u'true', u'affilname': u'Institute of Food Science and Biotechnology University of Hohenheim'}], u'prism:publicationName': u'Journal of Dispersion Science and Technology', u'prism:issn': u'01932691', u'dc:identifier': u'SCOPUS_ID:85012992155', u'subtypeDescription': u'Article', u'citedby-count': u'0', u'source-id': u'26952', u'prism:eIssn': u'15322351', u'link': [{u'@href': u'http://api.elsevier.com/content/abstract/scopus_id/85012992155', u'@ref': u'self', u'@_fa': u'true'}, {u'@href': u'http://api.elsevier.com/content/abstract/scopus_id/85012992155?field=author,affiliation', u'@ref': u'author-affiliation', u'@_fa': u'true'}, {u'@href': u'https://www.scopus.com/inward/record.uri?partnerID=HzOxMe3b&scp=85012992155&origin=inward', u'@ref': u'scopus', u'@_fa': u'true'}, {u'@href': u'https://www.scopus.com/inward/citedby.uri?partnerID=HzOxMe3b&scp=85012992155&origin=inward', u'@ref': u'scopus-citedby', u'@_fa': u'true'}], u'dc:creator': u'Stenger C.', u'prism:coverDate': u'2017-09-02', u'prism:doi': u'10.1080/01932691.2016.1234381', u'prism:coverDisplayDate': u'2 September 2017', u'subtype': u'ar', u'prism:aggregationType': u'Journal', u'eid': u'2-s2.0-85012992155', u'prism:pageRange': u'1258-1265', u'@_fa': u'true', u'prism:url': u'http://api.elsevier.com/content/abstract/scopus_id/85012992155'}, {u'pii': u'S0959440X16301324', u'prism:volume': u'45', u'prism:eIssn': u'1879033X', u'dc:title': u'Structure-guided rational design of red fluorescent proteins: towards designer genetically-encoded fluorophores', u'affiliation': [{u'affiliation-country': u'Canada', u'affiliation-city': u'Ottawa', u'@_fa': u'true', u'affilname': u'University of Ottawa, Canada'}], u'prism:publicationName': u'Current Opinion in Structural Biology', u'prism:issn': u'0959440X', u'dc:identifier': u'SCOPUS_ID:85007137238', u'subtypeDescription': u'Review', u'citedby-count': u'0', u'source-id': u'17400', u'link': [{u'@href': u'http://api.elsevier.com/content/abstract/scopus_id/85007137238', u'@ref': u'self', u'@_fa': u'true'}, {u'@href': u'http://api.elsevier.com/content/abstract/scopus_id/85007137238?field=author,affiliation', u'@ref': u'author-affiliation', u'@_fa': u'true'}, {u'@href': u'https://www.scopus.com/inward/record.uri?partnerID=HzOxMe3b&scp=85007137238&origin=inward', u'@ref': u'scopus', u'@_fa': u'true'}, {u'@href': u'https://www.scopus.com/inward/citedby.uri?partnerID=HzOxMe3b&scp=85007137238&origin=inward', u'@ref': u'scopus-citedby', u'@_fa': u'true'}, {u'@href': u'http://api.elsevier.com/content/article/eid/1-s2.0-S0959440X16301324', u'@ref': u'full-text', u'@_fa': u'true'}], u'dc:creator': u'Eason M.', u'prism:coverDate': u'2017-08-01', u'prism:doi': u'10.1016/j.sbi.2016.12.001', u'prism:coverDisplayDate': u'1 August 2017', u'subtype': u're', u'prism:aggregationType': u'Journal', u'eid': u'2-s2.0-85007137238', u'prism:pageRange': u'91-99', u'@_fa': u'true', u'prism:url': u'http://api.elsevier.com/content/abstract/scopus_id/85007137238'}, {u'pii': u'S0268005X16308384', u'prism:volume': u'69', u'prism:coverDate': u'2017-08-01', u'citedby-count': u'0', u'dc:identifier': u'SCOPUS_ID:85013018555', u'source-id': u'22597', u'dc:title': u'Molecular forces involved in heat-induced freshwater surimi gel: Effects of various bond disrupting agents on the gel properties and protein conformation changes', u'prism:doi': u'10.1016/j.foodhyd.2017.02.003', u'subtypeDescription': u'Article', u'prism:coverDisplayDate': u'1 August 2017', u'affiliation': [{u'affiliation-country': None, u'affiliation-city': u'Wuxi', u'@_fa': u'true', u'affilname': u'Jiangnan University'}], u'prism:aggregationType': u'Journal', u'subtype': u'ar', u'link': [{u'@href': u'http://api.elsevier.com/content/abstract/scopus_id/85013018555', u'@ref': u'self', u'@_fa': u'true'}, {u'@href': u'http://api.elsevier.com/content/abstract/scopus_id/85013018555?field=author,affiliation', u'@ref': u'author-affiliation', u'@_fa': u'true'}, {u'@href': u'https://www.scopus.com/inward/record.uri?partnerID=HzOxMe3b&scp=85013018555&origin=inward', u'@ref': u'scopus', u'@_fa': u'true'}, {u'@href': u'https://www.scopus.com/inward/citedby.uri?partnerID=HzOxMe3b&scp=85013018555&origin=inward', u'@ref': u'scopus-citedby', u'@_fa': u'true'}, {u'@href': u'http://api.elsevier.com/content/article/eid/1-s2.0-S0268005X16308384', u'@ref': u'full-text', u'@_fa': u'true'}], u'eid': u'2-s2.0-85013018555', u'prism:pageRange': u'193-201', u'prism:publicationName': u'Food Hydrocolloids', u'dc:creator': u'Yu N.', u'@_fa': u'true', u'prism:url': u'http://api.elsevier.com/content/abstract/scopus_id/85013018555', u'prism:issn': u'0268005X'}, {u'pii': u'S0268005X16308311', u'prism:volume': u'69', u'prism:coverDate': u'2017-08-01', u'citedby-count': u'0', u'dc:identifier': u'SCOPUS_ID:85012986098', u'source-id': u'22597', u'dc:title': u'Effect of Maillard induced glycation on protein hydrolysis by lysine/arginine and non-lysine/arginine specific proteases', u'prism:doi': u'10.1016/j.foodhyd.2017.02.007', u'subtypeDescription': u'Article', u'prism:coverDisplayDate': u'1 August 2017', u'affiliation': [{u'affiliation-country': u'Netherlands', u'affiliation-city': u'Wageningen', u'@_fa': u'true', u'affilname': u'Wageningen University and Research Centre'}], u'prism:aggregationType': u'Journal', u'subtype': u'ar', u'link': [{u'@href': u'http://api.elsevier.com/content/abstract/scopus_id/85012986098', u'@ref': u'self', u'@_fa': u'true'}, {u'@href': u'http://api.elsevier.com/content/abstract/scopus_id/85012986098?field=author,affiliation', u'@ref': u'author-affiliation', u'@_fa': u'true'}, {u'@href': u'https://www.scopus.com/inward/record.uri?partnerID=HzOxMe3b&scp=85012986098&origin=inward', u'@ref': u'scopus', u'@_fa': u'true'}, {u'@href': u'https://www.scopus.com/inward/citedby.uri?partnerID=HzOxMe3b&scp=85012986098&origin=inward', u'@ref': u'scopus-citedby', u'@_fa': u'true'}, {u'@href': u'http://api.elsevier.com/content/article/eid/1-s2.0-S0268005X16308311', u'@ref': u'full-text', u'@_fa': u'true'}], u'eid': u'2-s2.0-85012986098', u'prism:pageRange': u'210-219', u'prism:publicationName': u'Food Hydrocolloids', u'dc:creator': u'Deng Y.', u'@_fa': u'true', u'prism:url': u'http://api.elsevier.com/content/abstract/scopus_id/85012986098', u'prism:issn': u'0268005X'}, {u'pii': u'S0959440X16300938', u'prism:volume': u'45', u'prism:eIssn': u'1879033X', u'dc:title': u'Structure and elevator mechanism of the Na<sup>+</sup>-citrate transporter CitS', u'affiliation': [{u'affiliation-country': u'Netherlands', u'affiliation-city': u'Groningen', u'@_fa': u'true', u'affilname': u'Rijksuniversiteit Groningen'}], u'prism:publicationName': u'Current Opinion in Structural Biology', u'prism:issn': u'0959440X', u'dc:identifier': u'SCOPUS_ID:84992420214', u'subtypeDescription': u'Review', u'citedby-count': u'0', u'source-id': u'17400', u'link': [{u'@href': u'http://api.elsevier.com/content/abstract/scopus_id/84992420214', u'@ref': u'self', u'@_fa': u'true'}, {u'@href': u'http://api.elsevier.com/content/abstract/scopus_id/84992420214?field=author,affiliation', u'@ref': u'author-affiliation', u'@_fa': u'true'}, {u'@href': u'https://www.scopus.com/inward/record.uri?partnerID=HzOxMe3b&scp=84992420214&origin=inward', u'@ref': u'scopus', u'@_fa': u'true'}, {u'@href': u'https://www.scopus.com/inward/citedby.uri?partnerID=HzOxMe3b&scp=84992420214&origin=inward', u'@ref': u'scopus-citedby', u'@_fa': u'true'}, {u'@href': u'http://api.elsevier.com/content/article/eid/1-s2.0-S0959440X16300938', u'@ref': u'full-text', u'@_fa': u'true'}], u'dc:creator': u'Lolkema J.', u'prism:coverDate': u'2017-08-01', u'prism:doi': u'10.1016/j.sbi.2016.10.004', u'prism:coverDisplayDate': u'1 August 2017', u'subtype': u're', u'prism:aggregationType': u'Journal', u'eid': u'2-s2.0-84992420214', u'prism:pageRange': u'1-9', u'@_fa': u'true', u'prism:url': u'http://api.elsevier.com/content/abstract/scopus_id/84992420214'}, {u'pii': u'S0268005X17300164', u'prism:volume': u'69', u'prism:coverDate': u'2017-08-01', u'citedby-count': u'0', u'dc:identifier': u'SCOPUS_ID:85012054608', u'source-id': u'22597', u'dc:title': u'Probing the internal and external micelle structures of differently sized casein micelles from individual cows milk by dynamic light and small-angle X-ray scattering', u'prism:doi': u'10.1016/j.foodhyd.2017.01.007', u'subtypeDescription': u'Article', u'prism:coverDisplayDate': u'1 August 2017', u'affiliation': [{u'affiliation-country': u'Australia', u'affiliation-city': u'Werribee', u'@_fa': u'true', u'affilname': u'CSIRO Agriculture and Food'}, {u'affiliation-country': u'New Zealand', u'affiliation-city': u'Palmerston North', u'@_fa': u'true', u'affilname': u'AgResearch Grasslands Research Centre'}], u'prism:aggregationType': u'Journal', u'subtype': u'ar', u'link': [{u'@href': u'http://api.elsevier.com/content/abstract/scopus_id/85012054608', u'@ref': u'self', u'@_fa': u'true'}, {u'@href': u'http://api.elsevier.com/content/abstract/scopus_id/85012054608?field=author,affiliation', u'@ref': u'author-affiliation', u'@_fa': u'true'}, {u'@href': u'https://www.scopus.com/inward/record.uri?partnerID=HzOxMe3b&scp=85012054608&origin=inward', u'@ref': u'scopus', u'@_fa': u'true'}, {u'@href': u'https://www.scopus.com/inward/citedby.uri?partnerID=HzOxMe3b&scp=85012054608&origin=inward', u'@ref': u'scopus-citedby', u'@_fa': u'true'}, {u'@href': u'http://api.elsevier.com/content/article/eid/1-s2.0-S0268005X17300164', u'@ref': u'full-text', u'@_fa': u'true'}], u'eid': u'2-s2.0-85012054608', u'prism:pageRange': u'150-163', u'prism:publicationName': u'Food Hydrocolloids', u'dc:creator': u'Day L.', u'@_fa': u'true', u'prism:url': u'http://api.elsevier.com/content/abstract/scopus_id/85012054608', u'prism:issn': u'0268005X'}, {u'pii': u'S0268005X16307858', u'prism:volume': u'69', u'prism:coverDate': u'2017-08-01', u'citedby-count': u'0', u'dc:identifier': u'SCOPUS_ID:85012280219', u'source-id': u'22597', u'dc:title': u'Relationship between cellulose chemical substitution, structure and fat digestion in o/w emulsions', u'prism:doi': u'10.1016/j.foodhyd.2017.01.030', u'subtypeDescription': u'Article', u'prism:coverDisplayDate': u'1 August 2017', u'affiliation': [{u'affiliation-country': u'Spain', u'affiliation-city': u'Valencia', u'@_fa': u'true', u'affilname': u'CSIC - Instituto de Agroquimica y Tecnologia de los Alimentos (IATA)'}], u'prism:aggregationType': u'Journal', u'subtype': u'ar', u'link': [{u'@href': u'http://api.elsevier.com/content/abstract/scopus_id/85012280219', u'@ref': u'self', u'@_fa': u'true'}, {u'@href': u'http://api.elsevier.com/content/abstract/scopus_id/85012280219?field=author,affiliation', u'@ref': u'author-affiliation', u'@_fa': u'true'}, {u'@href': u'https://www.scopus.com/inward/record.uri?partnerID=HzOxMe3b&scp=85012280219&origin=inward', u'@ref': u'scopus', u'@_fa': u'true'}, {u'@href': u'https://www.scopus.com/inward/citedby.uri?partnerID=HzOxMe3b&scp=85012280219&origin=inward', u'@ref': u'scopus-citedby', u'@_fa': u'true'}, {u'@href': u'http://api.elsevier.com/content/article/eid/1-s2.0-S0268005X16307858', u'@ref': u'full-text', u'@_fa': u'true'}], u'eid': u'2-s2.0-85012280219', u'prism:pageRange': u'76-85', u'prism:publicationName': u'Food Hydrocolloids', u'dc:creator': u'Espert M.', u'@_fa': u'true', u'prism:url': u'http://api.elsevier.com/content/abstract/scopus_id/85012280219', u'prism:issn': u'0268005X'}, {u'pii': u'S0308814617301371', u'prism:volume': u'228', u'prism:eIssn': u'18737072', u'dc:title': u'Cryoprotective roles of trehalose and alginate oligosaccharides during frozen storage of peeled shrimp (Litopenaeus vannamei)', u'affiliation': [{u'affiliation-country': u'China', u'affiliation-city': u'Zhoushan', u'@_fa': u'true', u'affilname': u'Zhejiang Ocean University'}], u'prism:publicationName': u'Food Chemistry', u'prism:issn': u'03088146', u'dc:identifier': u'SCOPUS_ID:85012079848', u'subtypeDescription': u'Article', u'citedby-count': u'0', u'source-id': u'24039', u'link': [{u'@href': u'http://api.elsevier.com/content/abstract/scopus_id/85012079848', u'@ref': u'self', u'@_fa': u'true'}, {u'@href': u'http://api.elsevier.com/content/abstract/scopus_id/85012079848?field=author,affiliation', u'@ref': u'author-affiliation', u'@_fa': u'true'}, {u'@href': u'https://www.scopus.com/inward/record.uri?partnerID=HzOxMe3b&scp=85012079848&origin=inward', u'@ref': u'scopus', u'@_fa': u'true'}, {u'@href': u'https://www.scopus.com/inward/citedby.uri?partnerID=HzOxMe3b&scp=85012079848&origin=inward', u'@ref': u'scopus-citedby', u'@_fa': u'true'}, {u'@href': u'http://api.elsevier.com/content/article/eid/1-s2.0-S0308814617301371', u'@ref': u'full-text', u'@_fa': u'true'}], u'dc:creator': u'Zhang B.', u'prism:coverDate': u'2017-08-01', u'prism:doi': u'10.1016/j.foodchem.2017.01.124', u'prism:coverDisplayDate': u'1 August 2017', u'subtype': u'ar', u'prism:aggregationType': u'Journal', u'eid': u'2-s2.0-85012079848', u'prism:pageRange': u'257-264', u'@_fa': u'true', u'prism:url': u'http://api.elsevier.com/content/abstract/scopus_id/85012079848'}, {u'pii': u'S0308814617302157', u'prism:volume': u'228', u'prism:eIssn': u'18737072', u'dc:title': u'Molecular study of mucin-procyanidin interaction by fluorescence quenching and Saturation Transfer Difference (STD)-NMR', u'affiliation': [{u'affiliation-country': u'Portugal', u'affiliation-city': u'Porto', u'@_fa': u'true', u'affilname': u'REQUIMTE'}], u'prism:publicationName': u'Food Chemistry', u'prism:issn': u'03088146', u'dc:identifier': u'SCOPUS_ID:85012248860', u'subtypeDescription': u'Article', u'citedby-count': u'0', u'source-id': u'24039', u'link': [{u'@href': u'http://api.elsevier.com/content/abstract/scopus_id/85012248860', u'@ref': u'self', u'@_fa': u'true'}, {u'@href': u'http://api.elsevier.com/content/abstract/scopus_id/85012248860?field=author,affiliation', u'@ref': u'author-affiliation', u'@_fa': u'true'}, {u'@href': u'https://www.scopus.com/inward/record.uri?partnerID=HzOxMe3b&scp=85012248860&origin=inward', u'@ref': u'scopus', u'@_fa': u'true'}, {u'@href': u'https://www.scopus.com/inward/citedby.uri?partnerID=HzOxMe3b&scp=85012248860&origin=inward', u'@ref': u'scopus-citedby', u'@_fa': u'true'}, {u'@href': u'http://api.elsevier.com/content/article/eid/1-s2.0-S0308814617302157', u'@ref': u'full-text', u'@_fa': u'true'}], u'dc:creator': u'Brand\\xe3o E.', u'prism:coverDate': u'2017-08-01', u'prism:doi': u'10.1016/j.foodchem.2017.02.027', u'prism:coverDisplayDate': u'1 August 2017', u'subtype': u'ar', u'prism:aggregationType': u'Journal', u'eid': u'2-s2.0-85012248860', u'prism:pageRange': u'427-434', u'@_fa': u'true', u'prism:url': u'http://api.elsevier.com/content/abstract/scopus_id/85012248860'}, {u'pii': u'S0268005X16307846', u'prism:volume': u'69', u'prism:coverDate': u'2017-08-01', u'citedby-count': u'0', u'dc:identifier': u'SCOPUS_ID:85011591529', u'source-id': u'22597', u'dc:title': u'Effect of sodium carboxymethyl cellulose on complex coacervates formation with gelatin: Coacervates characterization, stabilization and formation mechanism', u'prism:doi': u'10.1016/j.foodhyd.2017.01.035', u'subtypeDescription': u'Article', u'prism:coverDisplayDate': u'1 August 2017', u'affiliation': [{u'affiliation-country': u'China', u'affiliation-city': u'Wuxi', u'@_fa': u'true', u'affilname': u'Jiangnan University'}], u'prism:aggregationType': u'Journal', u'subtype': u'ar', u'link': [{u'@href': u'http://api.elsevier.com/content/abstract/scopus_id/85011591529', u'@ref': u'self', u'@_fa': u'true'}, {u'@href': u'http://api.elsevier.com/content/abstract/scopus_id/85011591529?field=author,affiliation', u'@ref': u'author-affiliation', u'@_fa': u'true'}, {u'@href': u'https://www.scopus.com/inward/record.uri?partnerID=HzOxMe3b&scp=85011591529&origin=inward', u'@ref': u'scopus', u'@_fa': u'true'}, {u'@href': u'https://www.scopus.com/inward/citedby.uri?partnerID=HzOxMe3b&scp=85011591529&origin=inward', u'@ref': u'scopus-citedby', u'@_fa': u'true'}, {u'@href': u'http://api.elsevier.com/content/article/eid/1-s2.0-S0268005X16307846', u'@ref': u'full-text', u'@_fa': u'true'}], u'eid': u'2-s2.0-85011591529', u'prism:pageRange': u'111-120', u'prism:publicationName': u'Food Hydrocolloids', u'dc:creator': u'Duhoranimana E.', u'@_fa': u'true', u'prism:url': u'http://api.elsevier.com/content/abstract/scopus_id/85011591529', u'prism:issn': u'0268005X'}, {u'pii': u'S030881461730050X', u'prism:volume': u'227', u'prism:eIssn': u'18737072', u'dc:title': u'Changes in the myosin secondary structure and shrimp surimi gel strength induced by dense phase carbon dioxide', u'affiliation': [{u'affiliation-country': u'China', u'affiliation-city': u'Zhanjiang', u'@_fa': u'true', u'affilname': u'Guangdong Ocean University'}], u'prism:publicationName': u'Food Chemistry', u'prism:issn': u'03088146', u'dc:identifier': u'SCOPUS_ID:85010682879', u'subtypeDescription': u'Article', u'citedby-count': u'0', u'source-id': u'24039', u'link': [{u'@href': u'http://api.elsevier.com/content/abstract/scopus_id/85010682879', u'@ref': u'self', u'@_fa': u'true'}, {u'@href': u'http://api.elsevier.com/content/abstract/scopus_id/85010682879?field=author,affiliation', u'@ref': u'author-affiliation', u'@_fa': u'true'}, {u'@href': u'https://www.scopus.com/inward/record.uri?partnerID=HzOxMe3b&scp=85010682879&origin=inward', u'@ref': u'scopus', u'@_fa': u'true'}, {u'@href': u'https://www.scopus.com/inward/citedby.uri?partnerID=HzOxMe3b&scp=85010682879&origin=inward', u'@ref': u'scopus-citedby', u'@_fa': u'true'}, {u'@href': u'http://api.elsevier.com/content/article/eid/1-s2.0-S030881461730050X', u'@ref': u'full-text', u'@_fa': u'true'}], u'dc:creator': u'Guo M.', u'prism:coverDate': u'2017-07-15', u'prism:doi': u'10.1016/j.foodchem.2017.01.050', u'prism:coverDisplayDate': u'15 July 2017', u'subtype': u'ar', u'prism:aggregationType': u'Journal', u'eid': u'2-s2.0-85010682879', u'prism:pageRange': u'219-226', u'@_fa': u'true', u'prism:url': u'http://api.elsevier.com/content/abstract/scopus_id/85010682879'}, {u'pii': u'S0308814617301073', u'prism:volume': u'227', u'prism:eIssn': u'18737072', u'dc:title': u'Optimization of culturing conditions of recombined Escherichia coli to produce umami octopeptide-containing protein', u'affiliation': [{u'affiliation-country': u'China', u'affiliation-city': u'Chengdu', u'@_fa': u'true', u'affilname': u'Chengdu University'}, {u'affiliation-country': u'China', u'affiliation-city': u'Chengdu', u'@_fa': u'true', u'affilname': u'Sichuan University'}], u'prism:publicationName': u'Food Chemistry', u'prism:issn': u'03088146', u'dc:identifier': u'SCOPUS_ID:85009987601', u'subtypeDescription': u'Article', u'citedby-count': u'0', u'source-id': u'24039', u'link': [{u'@href': u'http://api.elsevier.com/content/abstract/scopus_id/85009987601', u'@ref': u'self', u'@_fa': u'true'}, {u'@href': u'http://api.elsevier.com/content/abstract/scopus_id/85009987601?field=author,affiliation', u'@ref': u'author-affiliation', u'@_fa': u'true'}, {u'@href': u'https://www.scopus.com/inward/record.uri?partnerID=HzOxMe3b&scp=85009987601&origin=inward', u'@ref': u'scopus', u'@_fa': u'true'}, {u'@href': u'https://www.scopus.com/inward/citedby.uri?partnerID=HzOxMe3b&scp=85009987601&origin=inward', u'@ref': u'scopus-citedby', u'@_fa': u'true'}, {u'@href': u'http://api.elsevier.com/content/article/eid/1-s2.0-S0308814617301073', u'@ref': u'full-text', u'@_fa': u'true'}], u'dc:creator': u'Zhang Y.', u'prism:coverDate': u'2017-07-15', u'prism:doi': u'10.1016/j.foodchem.2017.01.096', u'prism:coverDisplayDate': u'15 July 2017', u'subtype': u'ar', u'prism:aggregationType': u'Journal', u'eid': u'2-s2.0-85009987601', u'prism:pageRange': u'78-84', u'@_fa': u'true', u'prism:url': u'http://api.elsevier.com/content/abstract/scopus_id/85009987601'}, {u'pii': u'S0308814617301218', u'prism:volume': u'227', u'prism:eIssn': u'18737072', u'dc:title': u'Monitoring of the functional properties and unfolding change of Ovalbumin after DHPM treatment by HDX and FTICR MS: Functionality and unfolding of Oval after DHPM by HDX and FTICR MS', u'affiliation': [{u'affiliation-country': u'China', u'affiliation-city': u'Nanchang', u'@_fa': u'true', u'affilname': u'Jiangxi Normal University'}, {u'affiliation-country': u'China', u'affiliation-city': u'Nanchang', u'@_fa': u'true', u'affilname': u'Jiangxi Academy of Agricultural Sciences'}], u'prism:publicationName': u'Food Chemistry', u'prism:issn': u'03088146', u'dc:identifier': u'SCOPUS_ID:85011308768', u'subtypeDescription': u'Article', u'citedby-count': u'0', u'source-id': u'24039', u'link': [{u'@href': u'http://api.elsevier.com/content/abstract/scopus_id/85011308768', u'@ref': u'self', u'@_fa': u'true'}, {u'@href': u'http://api.elsevier.com/content/abstract/scopus_id/85011308768?field=author,affiliation', u'@ref': u'author-affiliation', u'@_fa': u'true'}, {u'@href': u'https://www.scopus.com/inward/record.uri?partnerID=HzOxMe3b&scp=85011308768&origin=inward', u'@ref': u'scopus', u'@_fa': u'true'}, {u'@href': u'https://www.scopus.com/inward/citedby.uri?partnerID=HzOxMe3b&scp=85011308768&origin=inward', u'@ref': u'scopus-citedby', u'@_fa': u'true'}, {u'@href': u'http://api.elsevier.com/content/article/eid/1-s2.0-S0308814617301218', u'@ref': u'full-text', u'@_fa': u'true'}], u'dc:creator': u'Liu G.', u'prism:coverDate': u'2017-07-15', u'prism:doi': u'10.1016/j.foodchem.2017.01.109', u'prism:coverDisplayDate': u'15 July 2017', u'subtype': u'ar', u'prism:aggregationType': u'Journal', u'eid': u'2-s2.0-85011308768', u'prism:pageRange': u'413-421', u'@_fa': u'true', u'prism:url': u'http://api.elsevier.com/content/abstract/scopus_id/85011308768'}, {u'pii': u'S0308814617300353', u'prism:volume': u'227', u'prism:eIssn': u'18737072', u'dc:title': u'Effect of 4-hydroxy-2-nonenal on myoglobin-mediated lipid oxidation when varying histidine content and hemin affinity', u'affiliation': [{u'affiliation-country': u'United States', u'affiliation-city': u'Madison', u'@_fa': u'true', u'affilname': u'University of Wisconsin Madison'}], u'prism:publicationName': u'Food Chemistry', u'prism:issn': u'03088146', u'dc:identifier': u'SCOPUS_ID:85010682317', u'subtypeDescription': u'Article', u'citedby-count': u'0', u'source-id': u'24039', u'link': [{u'@href': u'http://api.elsevier.com/content/abstract/scopus_id/85010682317', u'@ref': u'self', u'@_fa': u'true'}, {u'@href': u'http://api.elsevier.com/content/abstract/scopus_id/85010682317?field=author,affiliation', u'@ref': u'author-affiliation', u'@_fa': u'true'}, {u'@href': u'https://www.scopus.com/inward/record.uri?partnerID=HzOxMe3b&scp=85010682317&origin=inward', u'@ref': u'scopus', u'@_fa': u'true'}, {u'@href': u'https://www.scopus.com/inward/citedby.uri?partnerID=HzOxMe3b&scp=85010682317&origin=inward', u'@ref': u'scopus-citedby', u'@_fa': u'true'}, {u'@href': u'http://api.elsevier.com/content/article/eid/1-s2.0-S0308814617300353', u'@ref': u'full-text', u'@_fa': u'true'}], u'dc:creator': u'Grunwald E.', u'prism:coverDate': u'2017-07-15', u'prism:doi': u'10.1016/j.foodchem.2017.01.035', u'prism:coverDisplayDate': u'15 July 2017', u'subtype': u'ar', u'prism:aggregationType': u'Journal', u'eid': u'2-s2.0-85010682317', u'prism:pageRange': u'289-297', u'@_fa': u'true', u'prism:url': u'http://api.elsevier.com/content/abstract/scopus_id/85010682317'}, {u'pii': u'S1350417717300494', u'prism:volume': u'37', u'prism:eIssn': u'18732828', u'dc:title': u'Effect of high-intensity ultrasound on the technofunctional properties and structure of jackfruit (Artocarpus heterophyllus) seed protein isolate', u'affiliation': [{u'affiliation-country': u'Mexico', u'affiliation-city': u'Tepic', u'@_fa': u'true', u'affilname': u'Universidad Autonoma de Nayarit'}], u'prism:publicationName': u'Ultrasonics Sonochemistry', u'prism:issn': u'13504177', u'dc:identifier': u'SCOPUS_ID:85012202896', u'subtypeDescription': u'Article', u'citedby-count': u'0', u'source-id': u'13517', u'link': [{u'@href': u'http://api.elsevier.com/content/abstract/scopus_id/85012202896', u'@ref': u'self', u'@_fa': u'true'}, {u'@href': u'http://api.elsevier.com/content/abstract/scopus_id/85012202896?field=author,affiliation', u'@ref': u'author-affiliation', u'@_fa': u'true'}, {u'@href': u'https://www.scopus.com/inward/record.uri?partnerID=HzOxMe3b&scp=85012202896&origin=inward', u'@ref': u'scopus', u'@_fa': u'true'}, {u'@href': u'https://www.scopus.com/inward/citedby.uri?partnerID=HzOxMe3b&scp=85012202896&origin=inward', u'@ref': u'scopus-citedby', u'@_fa': u'true'}, {u'@href': u'http://api.elsevier.com/content/article/eid/1-s2.0-S1350417717300494', u'@ref': u'full-text', u'@_fa': u'true'}], u'dc:creator': u'Resendiz-Vazquez J.', u'prism:coverDate': u'2017-07-01', u'prism:doi': u'10.1016/j.ultsonch.2017.01.042', u'prism:coverDisplayDate': u'1 July 2017', u'subtype': u'ar', u'prism:aggregationType': u'Journal', u'eid': u'2-s2.0-85012202896', u'prism:pageRange': u'436-444', u'@_fa': u'true', u'prism:url': u'http://api.elsevier.com/content/abstract/scopus_id/85012202896'}, {u'pii': u'S030881461730078X', u'prism:volume': u'226', u'prism:eIssn': u'18737072', u'dc:title': u'FT-IR and Raman spectroscopies determine structural changes of tilapia fish protein isolate and surimi under different comminution conditions', u'affiliation': [{u'affiliation-country': u'United States', u'affiliation-city': u'Corvallis', u'@_fa': u'true', u'affilname': u'Oregon State University'}], u'prism:publicationName': u'Food Chemistry', u'prism:issn': u'03088146', u'dc:identifier': u'SCOPUS_ID:85009914345', u'subtypeDescription': u'Article', u'citedby-count': u'0', u'source-id': u'24039', u'link': [{u'@href': u'http://api.elsevier.com/content/abstract/scopus_id/85009914345', u'@ref': u'self', u'@_fa': u'true'}, {u'@href': u'http://api.elsevier.com/content/abstract/scopus_id/85009914345?field=author,affiliation', u'@ref': u'author-affiliation', u'@_fa': u'true'}, {u'@href': u'https://www.scopus.com/inward/record.uri?partnerID=HzOxMe3b&scp=85009914345&origin=inward', u'@ref': u'scopus', u'@_fa': u'true'}, {u'@href': u'https://www.scopus.com/inward/citedby.uri?partnerID=HzOxMe3b&scp=85009914345&origin=inward', u'@ref': u'scopus-citedby', u'@_fa': u'true'}, {u'@href': u'http://api.elsevier.com/content/article/eid/1-s2.0-S030881461730078X', u'@ref': u'full-text', u'@_fa': u'true'}], u'dc:creator': u'Kobayashi Y.', u'prism:coverDate': u'2017-07-01', u'prism:doi': u'10.1016/j.foodchem.2017.01.068', u'prism:coverDisplayDate': u'1 July 2017', u'subtype': u'ar', u'prism:aggregationType': u'Journal', u'eid': u'2-s2.0-85009914345', u'prism:pageRange': u'156-164', u'@_fa': u'true', u'prism:url': u'http://api.elsevier.com/content/abstract/scopus_id/85009914345'}, {u'pii': u'S0308814617300377', u'prism:volume': u'226', u'prism:eIssn': u'18737072', u'dc:title': u'Identification of glycated sites in ovalbumin under freeze-drying processing by liquid chromatography high-resolution mass spectrometry', u'affiliation': [{u'affiliation-country': u'China', u'affiliation-city': u'Nanchang', u'@_fa': u'true', u'affilname': u'Nanchang University'}, {u'affiliation-country': u'China', u'affiliation-city': u'Nanchang', u'@_fa': u'true', u'affilname': u'Jiangxi Normal University'}], u'prism:publicationName': u'Food Chemistry', u'prism:issn': u'03088146', u'dc:identifier': u'SCOPUS_ID:85009243605', u'subtypeDescription': u'Article', u'citedby-count': u'0', u'source-id': u'24039', u'link': [{u'@href': u'http://api.elsevier.com/content/abstract/scopus_id/85009243605', u'@ref': u'self', u'@_fa': u'true'}, {u'@href': u'http://api.elsevier.com/content/abstract/scopus_id/85009243605?field=author,affiliation', u'@ref': u'author-affiliation', u'@_fa': u'true'}, {u'@href': u'https://www.scopus.com/inward/record.uri?partnerID=HzOxMe3b&scp=85009243605&origin=inward', u'@ref': u'scopus', u'@_fa': u'true'}, {u'@href': u'https://www.scopus.com/inward/citedby.uri?partnerID=HzOxMe3b&scp=85009243605&origin=inward', u'@ref': u'scopus-citedby', u'@_fa': u'true'}, {u'@href': u'http://api.elsevier.com/content/article/eid/1-s2.0-S0308814617300377', u'@ref': u'full-text', u'@_fa': u'true'}], u'dc:creator': u'Tu Z.', u'prism:coverDate': u'2017-07-01', u'prism:doi': u'10.1016/j.foodchem.2017.01.038', u'prism:coverDisplayDate': u'1 July 2017', u'subtype': u'ar', u'prism:aggregationType': u'Journal', u'eid': u'2-s2.0-85009243605', u'prism:pageRange': u'1-7', u'@_fa': u'true', u'prism:url': u'http://api.elsevier.com/content/abstract/scopus_id/85009243605'}, {u'pii': u'S1350417716304783', u'prism:volume': u'37', u'prism:eIssn': u'18732828', u'dc:title': u'Effects of high intensity unltrasound on structural and physicochemical properties of myosin from silver carp', u'affiliation': [{u'affiliation-country': u'China', u'affiliation-city': u'Wuhan', u'@_fa': u'true', u'affilname': u'Huazhong Agricultural University'}, {u'affiliation-country': u'China', u'affiliation-city': None, u'@_fa': u'true', u'affilname': u'Collaborative Innovation Center for Efficient and Health Production of Fisheries in Hunan Province'}], u'prism:publicationName': u'Ultrasonics Sonochemistry', u'prism:issn': u'13504177', u'dc:identifier': u'SCOPUS_ID:85009107891', u'subtypeDescription': u'Article', u'citedby-count': u'0', u'source-id': u'13517', u'link': [{u'@href': u'http://api.elsevier.com/content/abstract/scopus_id/85009107891', u'@ref': u'self', u'@_fa': u'true'}, {u'@href': u'http://api.elsevier.com/content/abstract/scopus_id/85009107891?field=author,affiliation', u'@ref': u'author-affiliation', u'@_fa': u'true'}, {u'@href': u'https://www.scopus.com/inward/record.uri?partnerID=HzOxMe3b&scp=85009107891&origin=inward', u'@ref': u'scopus', u'@_fa': u'true'}, {u'@href': u'https://www.scopus.com/inward/citedby.uri?partnerID=HzOxMe3b&scp=85009107891&origin=inward', u'@ref': u'scopus-citedby', u'@_fa': u'true'}, {u'@href': u'http://api.elsevier.com/content/article/eid/1-s2.0-S1350417716304783', u'@ref': u'full-text', u'@_fa': u'true'}], u'dc:creator': u'Liu R.', u'prism:coverDate': u'2017-07-01', u'prism:doi': u'10.1016/j.ultsonch.2016.12.039', u'prism:coverDisplayDate': u'1 July 2017', u'subtype': u'ar', u'prism:aggregationType': u'Journal', u'eid': u'2-s2.0-85009107891', u'prism:pageRange': u'150-157', u'@_fa': u'true', u'prism:url': u'http://api.elsevier.com/content/abstract/scopus_id/85009107891'}, {u'pii': u'S0026286216302254', u'prism:volume': u'112', u'prism:eIssn': u'10959319', u'dc:title': u'Blockade of HMGB1 preserves vascular homeostasis and improves blood perfusion in rats of acute limb ischemia/reperfusion', u'affiliation': [{u'affiliation-country': None, u'affiliation-city': u'Jinan', u'@_fa': u'true', u'affilname': u'Qilu Hospital of Shandong University'}], u'prism:publicationName': u'Microvascular Research', u'prism:issn': u'00262862', u'dc:identifier': u'SCOPUS_ID:85013684949', u'subtypeDescription': u'Article', u'citedby-count': u'0', u'source-id': u'23948', u'link': [{u'@href': u'http://api.elsevier.com/content/abstract/scopus_id/85013684949', u'@ref': u'self', u'@_fa': u'true'}, {u'@href': u'http://api.elsevier.com/content/abstract/scopus_id/85013684949?field=author,affiliation', u'@ref': u'author-affiliation', u'@_fa': u'true'}, {u'@href': u'https://www.scopus.com/inward/record.uri?partnerID=HzOxMe3b&scp=85013684949&origin=inward', u'@ref': u'scopus', u'@_fa': u'true'}, {u'@href': u'https://www.scopus.com/inward/citedby.uri?partnerID=HzOxMe3b&scp=85013684949&origin=inward', u'@ref': u'scopus-citedby', u'@_fa': u'true'}, {u'@href': u'http://api.elsevier.com/content/article/eid/1-s2.0-S0026286216302254', u'@ref': u'full-text', u'@_fa': u'true'}], u'dc:creator': u'Liu Y.', u'prism:coverDate': u'2017-07-01', u'prism:doi': u'10.1016/j.mvr.2017.02.005', u'prism:coverDisplayDate': u'1 July 2017', u'subtype': u'ar', u'prism:aggregationType': u'Journal', u'eid': u'2-s2.0-85013684949', u'prism:pageRange': u'37-40', u'@_fa': u'true', u'prism:url': u'http://api.elsevier.com/content/abstract/scopus_id/85013684949'}]}}\n"
     ]
    }
   ],
   "source": [
    "## a method to convert the response into JSON!\n",
    "resp = r.json()\n",
    "print(resp)"
   ]
  },
  {
   "cell_type": "code",
   "execution_count": 10,
   "metadata": {},
   "outputs": [
    {
     "name": "stdout",
     "output_type": "stream",
     "text": [
      "Showing 25 items.\n",
      "A total number of 854559 results found in Scopus; Start index is 0.\n",
      "\u001b[43m{u'prism:volume': u'32', u'prism:issueIdentifier': u'1', u'dc:title': u'Investigation of PDE5/PDE6 and PDE5/PDE11 selective potent tadalafil-like PDE5 inhibitors using combination of molecular modeling approaches, molecular fingerprint-based virtual screening protocols and structure-based pharmacophore development', u'affiliation': [{u'affiliation-country': u'Turkey', u'affiliation-city': u'Istanbul', u'@_fa': u'true', u'affilname': u'Istanbul Teknik Universitesi'}, {u'affiliation-country': u'Italy', u'affiliation-city': u'Pisa', u'@_fa': u'true', u'affilname': u'Universita di Pisa'}], u'prism:publicationName': u'Journal of enzyme inhibition and medicinal chemistry', u'pubmed-id': u'28150511', u'dc:identifier': u'SCOPUS_ID:85013218391', u'subtypeDescription': u'Article', u'citedby-count': u'0', u'source-id': u'17605', u'prism:eIssn': u'14756374', u'link': [{u'@href': u'http://api.elsevier.com/content/abstract/scopus_id/85013218391', u'@ref': u'self', u'@_fa': u'true'}, {u'@href': u'http://api.elsevier.com/content/abstract/scopus_id/85013218391?field=author,affiliation', u'@ref': u'author-affiliation', u'@_fa': u'true'}, {u'@href': u'https://www.scopus.com/inward/record.uri?partnerID=HzOxMe3b&scp=85013218391&origin=inward', u'@ref': u'scopus', u'@_fa': u'true'}, {u'@href': u'https://www.scopus.com/inward/citedby.uri?partnerID=HzOxMe3b&scp=85013218391&origin=inward', u'@ref': u'scopus-citedby', u'@_fa': u'true'}], u'dc:creator': u'Kay\\u0131k G.', u'prism:coverDate': u'2017-12-01', u'prism:doi': u'10.1080/14756366.2016.1250756', u'prism:coverDisplayDate': u'1 December 2017', u'subtype': u'ar', u'prism:aggregationType': u'Journal', u'eid': u'2-s2.0-85013218391', u'prism:pageRange': u'311-330', u'@_fa': u'true', u'prism:url': u'http://api.elsevier.com/content/abstract/scopus_id/85013218391'}\u001b[0m\n"
     ]
    }
   ],
   "source": [
    "## by default it will return 25 results.\n",
    "print(\"Showing %s items.\"%len(resp['search-results']['entry']))\n",
    "## use start index to iterate thru all results\n",
    "total_count = resp['search-results']['opensearch:totalResults']\n",
    "start_index = resp['search-results']['opensearch:startIndex']\n",
    "print(\"A total number of %s results found in Scopus; Start index is %s.\"%(total_count, start_index))\n",
    "## Use a dictionary-style to access the values.\n",
    "print(\"\\033[43m%s\\033[0m\"%resp['search-results']['entry'][0])"
   ]
  },
  {
   "cell_type": "markdown",
   "metadata": {},
   "source": [
    "Suppose we only want the titles, we can write a very simple function to build a wrapper for code reuse:"
   ]
  },
  {
   "cell_type": "code",
   "execution_count": 36,
   "metadata": {},
   "outputs": [],
   "source": [
    "def search_scopus(key, query, index=0, verbose=True):\n",
    "    '''\n",
    "        Search Scopus database using key as api key, with query.\n",
    "        \n",
    "        Parameters\n",
    "        ----------\n",
    "        key : string\n",
    "            Elsevier api key. Get it here: https://dev.elsevier.com/index.html\n",
    "        query : string\n",
    "            Search query. See more details here: http://api.elsevier.com/documentation/search/SCOPUSSearchTips.htm\n",
    "        index : int\n",
    "            Start index. Will be used in search_scopus_plus function\n",
    "        verbose : bool\n",
    "            Verbose mode.\n",
    "        \n",
    "        Returns\n",
    "        -------\n",
    "        pandas DataFrame\n",
    "            id column stores scopus id and title column stores titles\n",
    "    '''\n",
    "    \n",
    "    import requests\n",
    "    par = {'apikey': key, 'query': query, 'start': index}\n",
    "    r = requests.get(search_uri, params=par)\n",
    "    resp = r.json()\n",
    "    ## print out some summaries\n",
    "    total_count = int(resp['search-results']['opensearch:totalResults'])\n",
    "    start_index = int(resp['search-results']['opensearch:startIndex'])\n",
    "    entries = resp['search-results']['entry']\n",
    "    if verbose:\n",
    "        print(\"Going to: %s\"%r.url)\n",
    "        print(\"A total number of %s results found in Scopus; Showing %d; Start index is %s.\"%\\\n",
    "              (total_count, len(entries), start_index))\n",
    "        print(\"--------------------------------------\")  \n",
    "\n",
    "    # iterate thru each entry\n",
    "    # You can also do this in a list comprehension with one line of code\n",
    "    # (I did not test the following code but it should work with minimal modification)\n",
    "    # id_title_list = [(entry['dc:identifier'].split(\":\")[-1], entry[\"dc:title\"]) for entry in entries]\n",
    "    id_title_list = []\n",
    "    for entry in entries:\n",
    "        scopus_id = entry['dc:identifier'].split(\":\")[-1]\n",
    "        id_title_list.append((scopus_id, entry[\"dc:title\"]))\n",
    "    \n",
    "    ## use pd.DataFrame to better store the results\n",
    "    import pandas as pd\n",
    "    result_df = pd.DataFrame(id_title_list, columns=list((\"id\", \"title\")))\n",
    "    if index == 0:\n",
    "        return(result_df, total_count)\n",
    "    else:\n",
    "        return(result_df)"
   ]
  },
  {
   "cell_type": "code",
   "execution_count": 37,
   "metadata": {},
   "outputs": [
    {
     "name": "stdout",
     "output_type": "stream",
     "text": [
      "Going to: http://api.elsevier.com/content/search/scopus?query=TITLE-ABS-KEY%28gender+in+science%29&apikey=f4ef78418fdf4df42cdd4108dea1d803&start=0\n",
      "A total number of 35036 results found in Scopus; Showing 25; Start index is 0.\n",
      "--------------------------------------\n"
     ]
    },
    {
     "data": {
      "text/html": [
       "<div>\n",
       "<table border=\"1\" class=\"dataframe\">\n",
       "  <thead>\n",
       "    <tr style=\"text-align: right;\">\n",
       "      <th></th>\n",
       "      <th>id</th>\n",
       "      <th>title</th>\n",
       "    </tr>\n",
       "  </thead>\n",
       "  <tbody>\n",
       "    <tr>\n",
       "      <th>0</th>\n",
       "      <td>85008225532</td>\n",
       "      <td>Prevalence of extra roots in permanent mandibu...</td>\n",
       "    </tr>\n",
       "    <tr>\n",
       "      <th>1</th>\n",
       "      <td>85007350529</td>\n",
       "      <td>Who votes for public health? U.S. senator char...</td>\n",
       "    </tr>\n",
       "    <tr>\n",
       "      <th>2</th>\n",
       "      <td>85008462870</td>\n",
       "      <td>Joint prediction of occurrence of heart block ...</td>\n",
       "    </tr>\n",
       "    <tr>\n",
       "      <th>3</th>\n",
       "      <td>84997218225</td>\n",
       "      <td>Academic social networks and communication res...</td>\n",
       "    </tr>\n",
       "    <tr>\n",
       "      <th>4</th>\n",
       "      <td>85008716292</td>\n",
       "      <td>Crafting a smartphone repurchase decision maki...</td>\n",
       "    </tr>\n",
       "    <tr>\n",
       "      <th>5</th>\n",
       "      <td>85012303065</td>\n",
       "      <td>The influence of affective cues on positive em...</td>\n",
       "    </tr>\n",
       "    <tr>\n",
       "      <th>6</th>\n",
       "      <td>85010440966</td>\n",
       "      <td>Students’ profiles of ICT use: Identification,...</td>\n",
       "    </tr>\n",
       "    <tr>\n",
       "      <th>7</th>\n",
       "      <td>85013115224</td>\n",
       "      <td>Development of a game-design workshop to promo...</td>\n",
       "    </tr>\n",
       "    <tr>\n",
       "      <th>8</th>\n",
       "      <td>84964031944</td>\n",
       "      <td>Transforming soccer to achieve solidarity: ‘Go...</td>\n",
       "    </tr>\n",
       "    <tr>\n",
       "      <th>9</th>\n",
       "      <td>85008237791</td>\n",
       "      <td>Gender difference and employees’ cybersecurity...</td>\n",
       "    </tr>\n",
       "    <tr>\n",
       "      <th>10</th>\n",
       "      <td>85007593397</td>\n",
       "      <td>Why Have Improved Cook-Stove Initiatives in In...</td>\n",
       "    </tr>\n",
       "    <tr>\n",
       "      <th>11</th>\n",
       "      <td>84961164005</td>\n",
       "      <td>Moderating Effects of Relational Interdependen...</td>\n",
       "    </tr>\n",
       "    <tr>\n",
       "      <th>12</th>\n",
       "      <td>84996524314</td>\n",
       "      <td>Factors Associated With Current Smoking Among ...</td>\n",
       "    </tr>\n",
       "    <tr>\n",
       "      <th>13</th>\n",
       "      <td>84966429185</td>\n",
       "      <td>Prevalence and Nature of Spiritual Distress Am...</td>\n",
       "    </tr>\n",
       "    <tr>\n",
       "      <th>14</th>\n",
       "      <td>85011256300</td>\n",
       "      <td>Survival, expenditure and disposition in patie...</td>\n",
       "    </tr>\n",
       "    <tr>\n",
       "      <th>15</th>\n",
       "      <td>84954525911</td>\n",
       "      <td>Exploration of Relationship Between Stress and...</td>\n",
       "    </tr>\n",
       "    <tr>\n",
       "      <th>16</th>\n",
       "      <td>85006515619</td>\n",
       "      <td>Promoting Optimal Native Outcomes (PONO) by Un...</td>\n",
       "    </tr>\n",
       "    <tr>\n",
       "      <th>17</th>\n",
       "      <td>85011715814</td>\n",
       "      <td>Cyborgian entanglements: post-human feminism, ...</td>\n",
       "    </tr>\n",
       "    <tr>\n",
       "      <th>18</th>\n",
       "      <td>84961215698</td>\n",
       "      <td>Applying critical realism in qualitative resea...</td>\n",
       "    </tr>\n",
       "    <tr>\n",
       "      <th>19</th>\n",
       "      <td>84954322922</td>\n",
       "      <td>Gender Gap in Science, Technology, Engineering...</td>\n",
       "    </tr>\n",
       "    <tr>\n",
       "      <th>20</th>\n",
       "      <td>85011088716</td>\n",
       "      <td>Time-to-credit gender inequities of first-year...</td>\n",
       "    </tr>\n",
       "    <tr>\n",
       "      <th>21</th>\n",
       "      <td>85007429446</td>\n",
       "      <td>Are all researchers male? Gender misattributio...</td>\n",
       "    </tr>\n",
       "    <tr>\n",
       "      <th>22</th>\n",
       "      <td>85012013224</td>\n",
       "      <td>Household structure and gender differences in ...</td>\n",
       "    </tr>\n",
       "    <tr>\n",
       "      <th>23</th>\n",
       "      <td>84995579352</td>\n",
       "      <td>Gender and choosing a STEM major in college: F...</td>\n",
       "    </tr>\n",
       "    <tr>\n",
       "      <th>24</th>\n",
       "      <td>84999810303</td>\n",
       "      <td>Investigating the impacts of avatar gender, av...</td>\n",
       "    </tr>\n",
       "  </tbody>\n",
       "</table>\n",
       "</div>"
      ],
      "text/plain": [
       "             id                                              title\n",
       "0   85008225532  Prevalence of extra roots in permanent mandibu...\n",
       "1   85007350529  Who votes for public health? U.S. senator char...\n",
       "2   85008462870  Joint prediction of occurrence of heart block ...\n",
       "3   84997218225  Academic social networks and communication res...\n",
       "4   85008716292  Crafting a smartphone repurchase decision maki...\n",
       "5   85012303065  The influence of affective cues on positive em...\n",
       "6   85010440966  Students’ profiles of ICT use: Identification,...\n",
       "7   85013115224  Development of a game-design workshop to promo...\n",
       "8   84964031944  Transforming soccer to achieve solidarity: ‘Go...\n",
       "9   85008237791  Gender difference and employees’ cybersecurity...\n",
       "10  85007593397  Why Have Improved Cook-Stove Initiatives in In...\n",
       "11  84961164005  Moderating Effects of Relational Interdependen...\n",
       "12  84996524314  Factors Associated With Current Smoking Among ...\n",
       "13  84966429185  Prevalence and Nature of Spiritual Distress Am...\n",
       "14  85011256300  Survival, expenditure and disposition in patie...\n",
       "15  84954525911  Exploration of Relationship Between Stress and...\n",
       "16  85006515619  Promoting Optimal Native Outcomes (PONO) by Un...\n",
       "17  85011715814  Cyborgian entanglements: post-human feminism, ...\n",
       "18  84961215698  Applying critical realism in qualitative resea...\n",
       "19  84954322922  Gender Gap in Science, Technology, Engineering...\n",
       "20  85011088716  Time-to-credit gender inequities of first-year...\n",
       "21  85007429446  Are all researchers male? Gender misattributio...\n",
       "22  85012013224  Household structure and gender differences in ...\n",
       "23  84995579352  Gender and choosing a STEM major in college: F...\n",
       "24  84999810303  Investigating the impacts of avatar gender, av..."
      ]
     },
     "metadata": {},
     "output_type": "display_data"
    }
   ],
   "source": [
    "result_df, total_count = search_scopus(key, 'TITLE-ABS-KEY(gender in science)')\n",
    "# use iPython's functions to print data frames prettier\n",
    "from IPython.display import display, HTML\n",
    "display(result_df)\n",
    "# OR: HTML(result_df.to_html())"
   ]
  },
  {
   "cell_type": "markdown",
   "metadata": {},
   "source": [
    "## * Conclusion\n",
    "\n",
    "Hopefully you see how the two different types of web data retrieval work and you will be able to scrape your own data now! Note that in our last example of scraping Scopus data, we only get 25 results. By a simple tweak of varying the indices, we can retrieve all of them! The following is a revised version of ***`search_scopus`*** to get all entries, just for your references, which is part of my code for ***`python-scopus`***."
   ]
  },
  {
   "cell_type": "code",
   "execution_count": 38,
   "metadata": {},
   "outputs": [],
   "source": [
    "def search_scopus_plus(key, query, number=200):\n",
    "    '''\n",
    "        Search Scopus database using key as api key, with query.\n",
    "        Reuse function ssearch_scopus(key, query, index, verbose)\n",
    "        \n",
    "        Parameters\n",
    "        ----------\n",
    "        key : string\n",
    "            Elsevier api key. Get it here: https://dev.elsevier.com/index.html\n",
    "        query : string\n",
    "            Search query. See more details here: http://api.elsevier.com/documentation/search/SCOPUSSearchTips.htm\n",
    "        number : int\n",
    "            The number of entries to return. By default it is 200.\n",
    "        \n",
    "        Returns\n",
    "        -------\n",
    "        pandas DataFrame\n",
    "            id column stores scopus id and title column stores titles\n",
    "    '''\n",
    "    \n",
    "    results_df, total_count = search_scopus(key, query, verbose=False)\n",
    "    if type(number) is not int or number > total_count:\n",
    "        import sys\n",
    "        raise ValueError(\"%s is not a valid input for the number of entries to return.\" %number)\n",
    "    \n",
    "    if number < 25:\n",
    "        # if less than 25, just one page of response is enough\n",
    "        return results_df[:number]\n",
    "    \n",
    "    # if larger than, go to next few pages until enough\n",
    "    index = 1\n",
    "    while True:\n",
    "        results_df = results_df.append(search_scopus(key, query, index, False), ignore_index=True)\n",
    "        if len(results_df) >= number:\n",
    "            return results_df[:number]\n",
    "        index += 1"
   ]
  },
  {
   "cell_type": "code",
   "execution_count": 39,
   "metadata": {},
   "outputs": [
    {
     "data": {
      "text/html": [
       "<div>\n",
       "<table border=\"1\" class=\"dataframe\">\n",
       "  <thead>\n",
       "    <tr style=\"text-align: right;\">\n",
       "      <th></th>\n",
       "      <th>id</th>\n",
       "      <th>title</th>\n",
       "    </tr>\n",
       "  </thead>\n",
       "  <tbody>\n",
       "    <tr>\n",
       "      <th>0</th>\n",
       "      <td>85013218391</td>\n",
       "      <td>Investigation of PDE5/PDE6 and PDE5/PDE11 sele...</td>\n",
       "    </tr>\n",
       "    <tr>\n",
       "      <th>1</th>\n",
       "      <td>85013156560</td>\n",
       "      <td>Probing the druggability of membrane-bound Rab...</td>\n",
       "    </tr>\n",
       "    <tr>\n",
       "      <th>2</th>\n",
       "      <td>85013140426</td>\n",
       "      <td>Novel multitarget-directed tacrine derivatives...</td>\n",
       "    </tr>\n",
       "    <tr>\n",
       "      <th>3</th>\n",
       "      <td>85013452709</td>\n",
       "      <td>Complementary function of two transketolase is...</td>\n",
       "    </tr>\n",
       "    <tr>\n",
       "      <th>4</th>\n",
       "      <td>85009219497</td>\n",
       "      <td>Two NADPH: Protochlorophyllide Oxidoreductase ...</td>\n",
       "    </tr>\n",
       "    <tr>\n",
       "      <th>5</th>\n",
       "      <td>85009863222</td>\n",
       "      <td>Characterization of LhSorP5CS, a gene catalyzi...</td>\n",
       "    </tr>\n",
       "    <tr>\n",
       "      <th>6</th>\n",
       "      <td>85012992155</td>\n",
       "      <td>Formation of concentrated biopolymer particles...</td>\n",
       "    </tr>\n",
       "    <tr>\n",
       "      <th>7</th>\n",
       "      <td>85007137238</td>\n",
       "      <td>Structure-guided rational design of red fluore...</td>\n",
       "    </tr>\n",
       "    <tr>\n",
       "      <th>8</th>\n",
       "      <td>85013018555</td>\n",
       "      <td>Molecular forces involved in heat-induced fres...</td>\n",
       "    </tr>\n",
       "    <tr>\n",
       "      <th>9</th>\n",
       "      <td>85012986098</td>\n",
       "      <td>Effect of Maillard induced glycation on protei...</td>\n",
       "    </tr>\n",
       "    <tr>\n",
       "      <th>10</th>\n",
       "      <td>84992420214</td>\n",
       "      <td>Structure and elevator mechanism of the Na&lt;sup...</td>\n",
       "    </tr>\n",
       "    <tr>\n",
       "      <th>11</th>\n",
       "      <td>85012054608</td>\n",
       "      <td>Probing the internal and external micelle stru...</td>\n",
       "    </tr>\n",
       "    <tr>\n",
       "      <th>12</th>\n",
       "      <td>85012280219</td>\n",
       "      <td>Relationship between cellulose chemical substi...</td>\n",
       "    </tr>\n",
       "    <tr>\n",
       "      <th>13</th>\n",
       "      <td>85012079848</td>\n",
       "      <td>Cryoprotective roles of trehalose and alginate...</td>\n",
       "    </tr>\n",
       "    <tr>\n",
       "      <th>14</th>\n",
       "      <td>85012248860</td>\n",
       "      <td>Molecular study of mucin-procyanidin interacti...</td>\n",
       "    </tr>\n",
       "    <tr>\n",
       "      <th>15</th>\n",
       "      <td>85011591529</td>\n",
       "      <td>Effect of sodium carboxymethyl cellulose on co...</td>\n",
       "    </tr>\n",
       "    <tr>\n",
       "      <th>16</th>\n",
       "      <td>85010682879</td>\n",
       "      <td>Changes in the myosin secondary structure and ...</td>\n",
       "    </tr>\n",
       "    <tr>\n",
       "      <th>17</th>\n",
       "      <td>85009987601</td>\n",
       "      <td>Optimization of culturing conditions of recomb...</td>\n",
       "    </tr>\n",
       "    <tr>\n",
       "      <th>18</th>\n",
       "      <td>85011308768</td>\n",
       "      <td>Monitoring of the functional properties and un...</td>\n",
       "    </tr>\n",
       "    <tr>\n",
       "      <th>19</th>\n",
       "      <td>85010682317</td>\n",
       "      <td>Effect of 4-hydroxy-2-nonenal on myoglobin-med...</td>\n",
       "    </tr>\n",
       "  </tbody>\n",
       "</table>\n",
       "</div>"
      ],
      "text/plain": [
       "             id                                              title\n",
       "0   85013218391  Investigation of PDE5/PDE6 and PDE5/PDE11 sele...\n",
       "1   85013156560  Probing the druggability of membrane-bound Rab...\n",
       "2   85013140426  Novel multitarget-directed tacrine derivatives...\n",
       "3   85013452709  Complementary function of two transketolase is...\n",
       "4   85009219497  Two NADPH: Protochlorophyllide Oxidoreductase ...\n",
       "5   85009863222  Characterization of LhSorP5CS, a gene catalyzi...\n",
       "6   85012992155  Formation of concentrated biopolymer particles...\n",
       "7   85007137238  Structure-guided rational design of red fluore...\n",
       "8   85013018555  Molecular forces involved in heat-induced fres...\n",
       "9   85012986098  Effect of Maillard induced glycation on protei...\n",
       "10  84992420214  Structure and elevator mechanism of the Na<sup...\n",
       "11  85012054608  Probing the internal and external micelle stru...\n",
       "12  85012280219  Relationship between cellulose chemical substi...\n",
       "13  85012079848  Cryoprotective roles of trehalose and alginate...\n",
       "14  85012248860  Molecular study of mucin-procyanidin interacti...\n",
       "15  85011591529  Effect of sodium carboxymethyl cellulose on co...\n",
       "16  85010682879  Changes in the myosin secondary structure and ...\n",
       "17  85009987601  Optimization of culturing conditions of recomb...\n",
       "18  85011308768  Monitoring of the functional properties and un...\n",
       "19  85010682317  Effect of 4-hydroxy-2-nonenal on myoglobin-med..."
      ]
     },
     "metadata": {},
     "output_type": "display_data"
    }
   ],
   "source": [
    "result_df_20 = search_scopus_plus(key, 'TITLE-ABS-KEY(protein structure)',20)\n",
    "display(result_df_20)"
   ]
  },
  {
   "cell_type": "code",
   "execution_count": 41,
   "metadata": {},
   "outputs": [
    {
     "data": {
      "text/html": [
       "<div>\n",
       "<table border=\"1\" class=\"dataframe\">\n",
       "  <thead>\n",
       "    <tr style=\"text-align: right;\">\n",
       "      <th></th>\n",
       "      <th>id</th>\n",
       "      <th>title</th>\n",
       "    </tr>\n",
       "  </thead>\n",
       "  <tbody>\n",
       "    <tr>\n",
       "      <th>0</th>\n",
       "      <td>85008225532</td>\n",
       "      <td>Prevalence of extra roots in permanent mandibu...</td>\n",
       "    </tr>\n",
       "    <tr>\n",
       "      <th>1</th>\n",
       "      <td>85007350529</td>\n",
       "      <td>Who votes for public health? U.S. senator char...</td>\n",
       "    </tr>\n",
       "    <tr>\n",
       "      <th>2</th>\n",
       "      <td>85008462870</td>\n",
       "      <td>Joint prediction of occurrence of heart block ...</td>\n",
       "    </tr>\n",
       "    <tr>\n",
       "      <th>3</th>\n",
       "      <td>84997218225</td>\n",
       "      <td>Academic social networks and communication res...</td>\n",
       "    </tr>\n",
       "    <tr>\n",
       "      <th>4</th>\n",
       "      <td>85008716292</td>\n",
       "      <td>Crafting a smartphone repurchase decision maki...</td>\n",
       "    </tr>\n",
       "    <tr>\n",
       "      <th>5</th>\n",
       "      <td>85012303065</td>\n",
       "      <td>The influence of affective cues on positive em...</td>\n",
       "    </tr>\n",
       "    <tr>\n",
       "      <th>6</th>\n",
       "      <td>85010440966</td>\n",
       "      <td>Students’ profiles of ICT use: Identification,...</td>\n",
       "    </tr>\n",
       "    <tr>\n",
       "      <th>7</th>\n",
       "      <td>85013115224</td>\n",
       "      <td>Development of a game-design workshop to promo...</td>\n",
       "    </tr>\n",
       "    <tr>\n",
       "      <th>8</th>\n",
       "      <td>84964031944</td>\n",
       "      <td>Transforming soccer to achieve solidarity: ‘Go...</td>\n",
       "    </tr>\n",
       "    <tr>\n",
       "      <th>9</th>\n",
       "      <td>85008237791</td>\n",
       "      <td>Gender difference and employees’ cybersecurity...</td>\n",
       "    </tr>\n",
       "    <tr>\n",
       "      <th>10</th>\n",
       "      <td>85007593397</td>\n",
       "      <td>Why Have Improved Cook-Stove Initiatives in In...</td>\n",
       "    </tr>\n",
       "    <tr>\n",
       "      <th>11</th>\n",
       "      <td>84961164005</td>\n",
       "      <td>Moderating Effects of Relational Interdependen...</td>\n",
       "    </tr>\n",
       "    <tr>\n",
       "      <th>12</th>\n",
       "      <td>84996524314</td>\n",
       "      <td>Factors Associated With Current Smoking Among ...</td>\n",
       "    </tr>\n",
       "    <tr>\n",
       "      <th>13</th>\n",
       "      <td>84966429185</td>\n",
       "      <td>Prevalence and Nature of Spiritual Distress Am...</td>\n",
       "    </tr>\n",
       "    <tr>\n",
       "      <th>14</th>\n",
       "      <td>85011256300</td>\n",
       "      <td>Survival, expenditure and disposition in patie...</td>\n",
       "    </tr>\n",
       "    <tr>\n",
       "      <th>15</th>\n",
       "      <td>84954525911</td>\n",
       "      <td>Exploration of Relationship Between Stress and...</td>\n",
       "    </tr>\n",
       "    <tr>\n",
       "      <th>16</th>\n",
       "      <td>85006515619</td>\n",
       "      <td>Promoting Optimal Native Outcomes (PONO) by Un...</td>\n",
       "    </tr>\n",
       "    <tr>\n",
       "      <th>17</th>\n",
       "      <td>85011715814</td>\n",
       "      <td>Cyborgian entanglements: post-human feminism, ...</td>\n",
       "    </tr>\n",
       "    <tr>\n",
       "      <th>18</th>\n",
       "      <td>84961215698</td>\n",
       "      <td>Applying critical realism in qualitative resea...</td>\n",
       "    </tr>\n",
       "    <tr>\n",
       "      <th>19</th>\n",
       "      <td>84954322922</td>\n",
       "      <td>Gender Gap in Science, Technology, Engineering...</td>\n",
       "    </tr>\n",
       "    <tr>\n",
       "      <th>20</th>\n",
       "      <td>85011088716</td>\n",
       "      <td>Time-to-credit gender inequities of first-year...</td>\n",
       "    </tr>\n",
       "    <tr>\n",
       "      <th>21</th>\n",
       "      <td>85007429446</td>\n",
       "      <td>Are all researchers male? Gender misattributio...</td>\n",
       "    </tr>\n",
       "    <tr>\n",
       "      <th>22</th>\n",
       "      <td>85012013224</td>\n",
       "      <td>Household structure and gender differences in ...</td>\n",
       "    </tr>\n",
       "    <tr>\n",
       "      <th>23</th>\n",
       "      <td>84995579352</td>\n",
       "      <td>Gender and choosing a STEM major in college: F...</td>\n",
       "    </tr>\n",
       "    <tr>\n",
       "      <th>24</th>\n",
       "      <td>84999810303</td>\n",
       "      <td>Investigating the impacts of avatar gender, av...</td>\n",
       "    </tr>\n",
       "    <tr>\n",
       "      <th>25</th>\n",
       "      <td>85007350529</td>\n",
       "      <td>Who votes for public health? U.S. senator char...</td>\n",
       "    </tr>\n",
       "    <tr>\n",
       "      <th>26</th>\n",
       "      <td>85008462870</td>\n",
       "      <td>Joint prediction of occurrence of heart block ...</td>\n",
       "    </tr>\n",
       "    <tr>\n",
       "      <th>27</th>\n",
       "      <td>84997218225</td>\n",
       "      <td>Academic social networks and communication res...</td>\n",
       "    </tr>\n",
       "    <tr>\n",
       "      <th>28</th>\n",
       "      <td>85008716292</td>\n",
       "      <td>Crafting a smartphone repurchase decision maki...</td>\n",
       "    </tr>\n",
       "    <tr>\n",
       "      <th>29</th>\n",
       "      <td>85012303065</td>\n",
       "      <td>The influence of affective cues on positive em...</td>\n",
       "    </tr>\n",
       "    <tr>\n",
       "      <th>30</th>\n",
       "      <td>85010440966</td>\n",
       "      <td>Students’ profiles of ICT use: Identification,...</td>\n",
       "    </tr>\n",
       "    <tr>\n",
       "      <th>31</th>\n",
       "      <td>85013115224</td>\n",
       "      <td>Development of a game-design workshop to promo...</td>\n",
       "    </tr>\n",
       "    <tr>\n",
       "      <th>32</th>\n",
       "      <td>84964031944</td>\n",
       "      <td>Transforming soccer to achieve solidarity: ‘Go...</td>\n",
       "    </tr>\n",
       "    <tr>\n",
       "      <th>33</th>\n",
       "      <td>85008237791</td>\n",
       "      <td>Gender difference and employees’ cybersecurity...</td>\n",
       "    </tr>\n",
       "    <tr>\n",
       "      <th>34</th>\n",
       "      <td>85007593397</td>\n",
       "      <td>Why Have Improved Cook-Stove Initiatives in In...</td>\n",
       "    </tr>\n",
       "    <tr>\n",
       "      <th>35</th>\n",
       "      <td>84961164005</td>\n",
       "      <td>Moderating Effects of Relational Interdependen...</td>\n",
       "    </tr>\n",
       "    <tr>\n",
       "      <th>36</th>\n",
       "      <td>84996524314</td>\n",
       "      <td>Factors Associated With Current Smoking Among ...</td>\n",
       "    </tr>\n",
       "    <tr>\n",
       "      <th>37</th>\n",
       "      <td>84966429185</td>\n",
       "      <td>Prevalence and Nature of Spiritual Distress Am...</td>\n",
       "    </tr>\n",
       "    <tr>\n",
       "      <th>38</th>\n",
       "      <td>85011256300</td>\n",
       "      <td>Survival, expenditure and disposition in patie...</td>\n",
       "    </tr>\n",
       "    <tr>\n",
       "      <th>39</th>\n",
       "      <td>84954525911</td>\n",
       "      <td>Exploration of Relationship Between Stress and...</td>\n",
       "    </tr>\n",
       "  </tbody>\n",
       "</table>\n",
       "</div>"
      ],
      "text/plain": [
       "             id                                              title\n",
       "0   85008225532  Prevalence of extra roots in permanent mandibu...\n",
       "1   85007350529  Who votes for public health? U.S. senator char...\n",
       "2   85008462870  Joint prediction of occurrence of heart block ...\n",
       "3   84997218225  Academic social networks and communication res...\n",
       "4   85008716292  Crafting a smartphone repurchase decision maki...\n",
       "5   85012303065  The influence of affective cues on positive em...\n",
       "6   85010440966  Students’ profiles of ICT use: Identification,...\n",
       "7   85013115224  Development of a game-design workshop to promo...\n",
       "8   84964031944  Transforming soccer to achieve solidarity: ‘Go...\n",
       "9   85008237791  Gender difference and employees’ cybersecurity...\n",
       "10  85007593397  Why Have Improved Cook-Stove Initiatives in In...\n",
       "11  84961164005  Moderating Effects of Relational Interdependen...\n",
       "12  84996524314  Factors Associated With Current Smoking Among ...\n",
       "13  84966429185  Prevalence and Nature of Spiritual Distress Am...\n",
       "14  85011256300  Survival, expenditure and disposition in patie...\n",
       "15  84954525911  Exploration of Relationship Between Stress and...\n",
       "16  85006515619  Promoting Optimal Native Outcomes (PONO) by Un...\n",
       "17  85011715814  Cyborgian entanglements: post-human feminism, ...\n",
       "18  84961215698  Applying critical realism in qualitative resea...\n",
       "19  84954322922  Gender Gap in Science, Technology, Engineering...\n",
       "20  85011088716  Time-to-credit gender inequities of first-year...\n",
       "21  85007429446  Are all researchers male? Gender misattributio...\n",
       "22  85012013224  Household structure and gender differences in ...\n",
       "23  84995579352  Gender and choosing a STEM major in college: F...\n",
       "24  84999810303  Investigating the impacts of avatar gender, av...\n",
       "25  85007350529  Who votes for public health? U.S. senator char...\n",
       "26  85008462870  Joint prediction of occurrence of heart block ...\n",
       "27  84997218225  Academic social networks and communication res...\n",
       "28  85008716292  Crafting a smartphone repurchase decision maki...\n",
       "29  85012303065  The influence of affective cues on positive em...\n",
       "30  85010440966  Students’ profiles of ICT use: Identification,...\n",
       "31  85013115224  Development of a game-design workshop to promo...\n",
       "32  84964031944  Transforming soccer to achieve solidarity: ‘Go...\n",
       "33  85008237791  Gender difference and employees’ cybersecurity...\n",
       "34  85007593397  Why Have Improved Cook-Stove Initiatives in In...\n",
       "35  84961164005  Moderating Effects of Relational Interdependen...\n",
       "36  84996524314  Factors Associated With Current Smoking Among ...\n",
       "37  84966429185  Prevalence and Nature of Spiritual Distress Am...\n",
       "38  85011256300  Survival, expenditure and disposition in patie...\n",
       "39  84954525911  Exploration of Relationship Between Stress and..."
      ]
     },
     "metadata": {},
     "output_type": "display_data"
    }
   ],
   "source": [
    "result_df_40 = search_scopus_plus(key, 'TITLE-ABS-KEY(gender in science)',40)\n",
    "display(result_df_40)"
   ]
  },
  {
   "cell_type": "code",
   "execution_count": 43,
   "metadata": {},
   "outputs": [
    {
     "ename": "ValueError",
     "evalue": "100000 is not a valid input for the number of entries to return.",
     "output_type": "error",
     "traceback": [
      "\u001b[0;31m---------------------------------------------------------------------------\u001b[0m",
      "\u001b[0;31mValueError\u001b[0m                                Traceback (most recent call last)",
      "\u001b[0;32m<ipython-input-43-e520e382a70a>\u001b[0m in \u001b[0;36m<module>\u001b[0;34m()\u001b[0m\n\u001b[0;32m----> 1\u001b[0;31m \u001b[0mresult_df_too_many\u001b[0m \u001b[0;34m=\u001b[0m \u001b[0msearch_scopus_plus\u001b[0m\u001b[0;34m(\u001b[0m\u001b[0mkey\u001b[0m\u001b[0;34m,\u001b[0m \u001b[0;34m'TITLE-ABS-KEY(gender in science)'\u001b[0m\u001b[0;34m,\u001b[0m \u001b[0;36m100000\u001b[0m\u001b[0;34m)\u001b[0m\u001b[0;34m\u001b[0m\u001b[0m\n\u001b[0m",
      "\u001b[0;32m<ipython-input-38-a1a03a4077e6>\u001b[0m in \u001b[0;36msearch_scopus_plus\u001b[0;34m(key, query, number)\u001b[0m\n\u001b[1;32m     22\u001b[0m     \u001b[0;32mif\u001b[0m \u001b[0mtype\u001b[0m\u001b[0;34m(\u001b[0m\u001b[0mnumber\u001b[0m\u001b[0;34m)\u001b[0m \u001b[0;32mis\u001b[0m \u001b[0;32mnot\u001b[0m \u001b[0mint\u001b[0m \u001b[0;32mor\u001b[0m \u001b[0mnumber\u001b[0m \u001b[0;34m>\u001b[0m \u001b[0mtotal_count\u001b[0m\u001b[0;34m:\u001b[0m\u001b[0;34m\u001b[0m\u001b[0m\n\u001b[1;32m     23\u001b[0m         \u001b[0;32mimport\u001b[0m \u001b[0msys\u001b[0m\u001b[0;34m\u001b[0m\u001b[0m\n\u001b[0;32m---> 24\u001b[0;31m         \u001b[0;32mraise\u001b[0m \u001b[0mValueError\u001b[0m\u001b[0;34m(\u001b[0m\u001b[0;34m\"%s is not a valid input for the number of entries to return.\"\u001b[0m \u001b[0;34m%\u001b[0m\u001b[0mnumber\u001b[0m\u001b[0;34m)\u001b[0m\u001b[0;34m\u001b[0m\u001b[0m\n\u001b[0m\u001b[1;32m     25\u001b[0m \u001b[0;34m\u001b[0m\u001b[0m\n\u001b[1;32m     26\u001b[0m     \u001b[0;32mif\u001b[0m \u001b[0mnumber\u001b[0m \u001b[0;34m<\u001b[0m \u001b[0;36m25\u001b[0m\u001b[0;34m:\u001b[0m\u001b[0;34m\u001b[0m\u001b[0m\n",
      "\u001b[0;31mValueError\u001b[0m: 100000 is not a valid input for the number of entries to return."
     ]
    }
   ],
   "source": [
    "result_df_too_many = search_scopus_plus(key, 'TITLE-ABS-KEY(gender in science)', 100000)"
   ]
  },
  {
   "cell_type": "code",
   "execution_count": null,
   "metadata": {
    "collapsed": true
   },
   "outputs": [],
   "source": []
  }
 ],
 "metadata": {
  "kernelspec": {
   "display_name": "Python 2",
   "language": "python",
   "name": "python2"
  },
  "language_info": {
   "codemirror_mode": {
    "name": "ipython",
    "version": 2
   },
   "file_extension": ".py",
   "mimetype": "text/x-python",
   "name": "python",
   "nbconvert_exporter": "python",
   "pygments_lexer": "ipython2",
   "version": "2.7.13"
  },
  "toc": {
   "colors": {
    "hover_highlight": "#DAA520",
    "navigate_num": "#000000",
    "navigate_text": "#333333",
    "running_highlight": "#FF0000",
    "selected_highlight": "#FFD700",
    "sidebar_border": "#EEEEEE",
    "wrapper_background": "#FFFFFF"
   },
   "moveMenuLeft": true,
   "nav_menu": {
    "height": "133px",
    "width": "254px"
   },
   "navigate_menu": true,
   "number_sections": true,
   "sideBar": true,
   "threshold": 4,
   "toc_cell": false,
   "toc_section_display": "block",
   "toc_window_display": true,
   "widenNotebook": false
  }
 },
 "nbformat": 4,
 "nbformat_minor": 2
}
