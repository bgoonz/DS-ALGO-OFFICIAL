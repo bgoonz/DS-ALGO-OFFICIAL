{
 "cells": [
  {
   "cell_type": "markdown",
   "metadata": {},
   "source": [
    "ISRC Python Workshop: Network analysis\n",
    "\n",
    "__Network Analysis with NetworkX__"
   ]
  },
  {
   "cell_type": "markdown",
   "metadata": {},
   "source": [
    "---"
   ]
  },
  {
   "cell_type": "markdown",
   "metadata": {},
   "source": [
    "@author: Zhiya Zuo\n",
    "\n",
    "@email: zhiya-zuo@uiowa.edu"
   ]
  },
  {
   "cell_type": "markdown",
   "metadata": {},
   "source": [
    "---"
   ]
  },
  {
   "cell_type": "code",
   "execution_count": 1,
   "metadata": {
    "ExecuteTime": {
     "end_time": "2019-03-27T21:22:24.378517Z",
     "start_time": "2019-03-27T21:22:23.592154Z"
    }
   },
   "outputs": [],
   "source": [
    "import numpy as np\n",
    "import pandas as pd"
   ]
  },
  {
   "cell_type": "markdown",
   "metadata": {},
   "source": [
    "---"
   ]
  },
  {
   "cell_type": "markdown",
   "metadata": {},
   "source": [
    "#### Introduction"
   ]
  },
  {
   "cell_type": "markdown",
   "metadata": {},
   "source": [
    "Network analysis, though well developed through the area of physics, has been deep in various research fields inclduing economics, finance, computer science, biology, etc. In this workshop, we will cover basics to <a href='https://networkx.github.io/documentation/stable/', target='_blank'>___NetworkX___</a>."
   ]
  },
  {
   "cell_type": "markdown",
   "metadata": {},
   "source": [
    "Before that, I here introduce two other popular Python packages: <a href='http://igraph.org/python/doc/tutorial/tutorial.html', target='_blank'>___iGraph___</a> and <a href='https://graph-tool.skewed.de/static/doc/index.html', target='_blank'>___graph-tool___</a>. Note that the installation of the latter may be painful but has trememdous speedup compared to the other two. (On Mac, you can easily use <a href='https://brew.sh/' target='_blank'>Homebrew</a> to isntall it!)"
   ]
  },
  {
   "cell_type": "markdown",
   "metadata": {},
   "source": [
    "<div class=\"mark\">\n",
    "Note that in the following, I will use the term __graph__ and __network__ interchangeably.</div><i class=\"fa fa-lightbulb-o \"></i>"
   ]
  },
  {
   "cell_type": "markdown",
   "metadata": {},
   "source": [
    "##### Sample graph data"
   ]
  },
  {
   "cell_type": "markdown",
   "metadata": {},
   "source": [
    "___NetworkX___ provides empirical network data for you to play with. We will be using <a href='https://en.wikipedia.org/wiki/Zachary%27s_karate_club' target='_blank'>Zachary's karate club</a> as an example here. \n",
    "\n",
    "_Note that if you have not installed __NetworkX__ yet, please run `pip install networkx` in your terminal to have it installed first_"
   ]
  },
  {
   "cell_type": "code",
   "execution_count": 2,
   "metadata": {
    "ExecuteTime": {
     "end_time": "2019-03-27T21:22:25.317673Z",
     "start_time": "2019-03-27T21:22:24.380814Z"
    }
   },
   "outputs": [],
   "source": [
    "# first import the library\n",
    "import networkx as nx"
   ]
  },
  {
   "cell_type": "code",
   "execution_count": 3,
   "metadata": {
    "ExecuteTime": {
     "end_time": "2019-03-27T21:22:25.331157Z",
     "start_time": "2019-03-27T21:22:25.320497Z"
    }
   },
   "outputs": [
    {
     "data": {
      "text/plain": [
       "'2.2'"
      ]
     },
     "execution_count": 3,
     "metadata": {},
     "output_type": "execute_result"
    }
   ],
   "source": [
    "# check the version of NetworkX\n",
    "nx.__version__"
   ]
  },
  {
   "cell_type": "code",
   "execution_count": 4,
   "metadata": {
    "ExecuteTime": {
     "end_time": "2019-03-27T21:22:25.341040Z",
     "start_time": "2019-03-27T21:22:25.333695Z"
    }
   },
   "outputs": [],
   "source": [
    "G = nx.karate_club_graph()"
   ]
  },
  {
   "cell_type": "markdown",
   "metadata": {},
   "source": [
    "`nx.info(G)` returns the basic description of the graph."
   ]
  },
  {
   "cell_type": "code",
   "execution_count": 5,
   "metadata": {
    "ExecuteTime": {
     "end_time": "2019-03-27T21:22:25.354836Z",
     "start_time": "2019-03-27T21:22:25.345091Z"
    }
   },
   "outputs": [
    {
     "name": "stdout",
     "output_type": "stream",
     "text": [
      "Name: Zachary's Karate Club\n",
      "Type: Graph\n",
      "Number of nodes: 34\n",
      "Number of edges: 78\n",
      "Average degree:   4.5882\n"
     ]
    }
   ],
   "source": [
    "print(nx.info(G))"
   ]
  },
  {
   "cell_type": "markdown",
   "metadata": {},
   "source": [
    "We can save the graph as a <a href='https://en.wikipedia.org/wiki/Graph_Modelling_Language'>___GML___</a> file"
   ]
  },
  {
   "cell_type": "code",
   "execution_count": 6,
   "metadata": {
    "ExecuteTime": {
     "end_time": "2019-03-27T21:22:25.365429Z",
     "start_time": "2019-03-27T21:22:25.358833Z"
    }
   },
   "outputs": [],
   "source": [
    "nx.write_gml(G, 'sample-data/karate.gml')"
   ]
  },
  {
   "cell_type": "markdown",
   "metadata": {},
   "source": [
    "##### Comparison of different libraries"
   ]
  },
  {
   "cell_type": "markdown",
   "metadata": {},
   "source": [
    "###### NetworkX"
   ]
  },
  {
   "cell_type": "code",
   "execution_count": 7,
   "metadata": {
    "ExecuteTime": {
     "end_time": "2019-03-27T21:22:25.392826Z",
     "start_time": "2019-03-27T21:22:25.369240Z"
    }
   },
   "outputs": [
    {
     "name": "stdout",
     "output_type": "stream",
     "text": [
      "Name: Zachary's Karate Club\n",
      "Type: Graph\n",
      "Number of nodes: 34\n",
      "Number of edges: 78\n",
      "Average degree:   4.5882\n"
     ]
    }
   ],
   "source": [
    "G_nx = nx.read_gml('sample-data/karate.gml')\n",
    "print(nx.info(G_nx))"
   ]
  },
  {
   "cell_type": "code",
   "execution_count": 8,
   "metadata": {
    "ExecuteTime": {
     "end_time": "2019-03-27T21:22:29.684434Z",
     "start_time": "2019-03-27T21:22:25.396376Z"
    }
   },
   "outputs": [
    {
     "name": "stdout",
     "output_type": "stream",
     "text": [
      "5.23 ms ± 1.14 ms per loop (mean ± std. dev. of 7 runs, 100 loops each)\n"
     ]
    }
   ],
   "source": [
    "%timeit nx.closeness_centrality(G_nx)"
   ]
  },
  {
   "cell_type": "markdown",
   "metadata": {},
   "source": [
    "###### iGraph"
   ]
  },
  {
   "cell_type": "code",
   "execution_count": 9,
   "metadata": {
    "ExecuteTime": {
     "end_time": "2019-03-27T21:22:29.857060Z",
     "start_time": "2019-03-27T21:22:29.687456Z"
    }
   },
   "outputs": [],
   "source": [
    "import igraph as ig"
   ]
  },
  {
   "cell_type": "code",
   "execution_count": 10,
   "metadata": {
    "ExecuteTime": {
     "end_time": "2019-03-27T21:22:29.878018Z",
     "start_time": "2019-03-27T21:22:29.860492Z"
    }
   },
   "outputs": [],
   "source": [
    "G_ig = ig.load('sample-data/karate.gml')"
   ]
  },
  {
   "cell_type": "code",
   "execution_count": 11,
   "metadata": {
    "ExecuteTime": {
     "end_time": "2019-03-27T21:22:29.888744Z",
     "start_time": "2019-03-27T21:22:29.881869Z"
    }
   },
   "outputs": [
    {
     "name": "stdout",
     "output_type": "stream",
     "text": [
      "IGRAPH U--- 34 78 -- \n",
      "+ attr: club (v), id (v), label (v)\n"
     ]
    }
   ],
   "source": [
    "print(G_ig.summary())"
   ]
  },
  {
   "cell_type": "code",
   "execution_count": 12,
   "metadata": {
    "ExecuteTime": {
     "end_time": "2019-03-27T21:22:31.131242Z",
     "start_time": "2019-03-27T21:22:29.891794Z"
    }
   },
   "outputs": [
    {
     "name": "stdout",
     "output_type": "stream",
     "text": [
      "144 µs ± 19.9 µs per loop (mean ± std. dev. of 7 runs, 1000 loops each)\n"
     ]
    }
   ],
   "source": [
    "%timeit G_ig.closeness()"
   ]
  },
  {
   "cell_type": "markdown",
   "metadata": {},
   "source": [
    "###### graph-tool"
   ]
  },
  {
   "cell_type": "code",
   "execution_count": 13,
   "metadata": {
    "ExecuteTime": {
     "end_time": "2019-03-27T21:22:33.263595Z",
     "start_time": "2019-03-27T21:22:31.140875Z"
    }
   },
   "outputs": [
    {
     "name": "stderr",
     "output_type": "stream",
     "text": [
      "/Users/zhiyzuo/.virtualenvs/py3/lib/python3.7/site-packages/graph_tool/draw/cairo_draw.py:39: RuntimeWarning: Error importing cairo. Graph drawing will not work.\n",
      "  warnings.warn(msg, RuntimeWarning)\n",
      "/Users/zhiyzuo/.virtualenvs/py3/lib/python3.7/site-packages/graph_tool/draw/cairo_draw.py:39: RuntimeWarning: Error importing cairo. Graph drawing will not work.\n",
      "  warnings.warn(msg, RuntimeWarning)\n",
      "/Users/zhiyzuo/.virtualenvs/py3/lib/python3.7/site-packages/graph_tool/draw/cairo_draw.py:39: RuntimeWarning: Error importing cairo. Graph drawing will not work.\n",
      "  warnings.warn(msg, RuntimeWarning)\n",
      "/Users/zhiyzuo/.virtualenvs/py3/lib/python3.7/site-packages/graph_tool/all.py:40: RuntimeWarning: Error importing draw module, proceeding nevertheless: No module named 'cairo'\n",
      "  warnings.warn(msg, RuntimeWarning)\n"
     ]
    }
   ],
   "source": [
    "import graph_tool.all as gt"
   ]
  },
  {
   "cell_type": "code",
   "execution_count": 14,
   "metadata": {
    "ExecuteTime": {
     "end_time": "2019-03-27T21:22:33.308260Z",
     "start_time": "2019-03-27T21:22:33.266724Z"
    }
   },
   "outputs": [],
   "source": [
    "G_gt = gt.load_graph('sample-data/karate.gml')"
   ]
  },
  {
   "cell_type": "code",
   "execution_count": 15,
   "metadata": {
    "ExecuteTime": {
     "end_time": "2019-03-27T21:22:33.317991Z",
     "start_time": "2019-03-27T21:22:33.312647Z"
    }
   },
   "outputs": [
    {
     "name": "stdout",
     "output_type": "stream",
     "text": [
      "<Graph object, undirected, with 34 vertices and 78 edges at 0x12f44b9b0>\n"
     ]
    }
   ],
   "source": [
    "print(G_gt)"
   ]
  },
  {
   "cell_type": "code",
   "execution_count": 16,
   "metadata": {
    "ExecuteTime": {
     "end_time": "2019-03-27T21:22:41.994992Z",
     "start_time": "2019-03-27T21:22:33.320897Z"
    }
   },
   "outputs": [
    {
     "name": "stdout",
     "output_type": "stream",
     "text": [
      "1.09 ms ± 230 µs per loop (mean ± std. dev. of 7 runs, 1000 loops each)\n"
     ]
    }
   ],
   "source": [
    "%timeit gt.closeness(G_gt)"
   ]
  },
  {
   "cell_type": "markdown",
   "metadata": {},
   "source": [
    "So we can see ___NetworkX___ is not very fast. However, it is noteworthy that the its well-written documents, ease of use, and all other features make it a very popular Python package for network analysis\n",
    "\n",
    "(By this, I am not saying the other two are not as good - they are powerful and defintely excellent libraries for network analytics!)"
   ]
  },
  {
   "cell_type": "markdown",
   "metadata": {},
   "source": [
    "---"
   ]
  },
  {
   "cell_type": "markdown",
   "metadata": {},
   "source": [
    "#### Creating a network"
   ]
  },
  {
   "cell_type": "markdown",
   "metadata": {},
   "source": [
    "##### Get a network from scratch"
   ]
  },
  {
   "cell_type": "markdown",
   "metadata": {},
   "source": [
    "Let's start with a brute-force approach of building a network. This will give an emptive graph:"
   ]
  },
  {
   "cell_type": "code",
   "execution_count": 17,
   "metadata": {
    "ExecuteTime": {
     "end_time": "2019-03-27T21:22:42.006441Z",
     "start_time": "2019-03-27T21:22:41.998649Z"
    }
   },
   "outputs": [
    {
     "name": "stdout",
     "output_type": "stream",
     "text": [
      "Name: \n",
      "Type: Graph\n",
      "Number of nodes: 0\n",
      "Number of edges: 0\n",
      "\n"
     ]
    }
   ],
   "source": [
    "G = nx.Graph()\n",
    "print(nx.info(G))"
   ]
  },
  {
   "cell_type": "markdown",
   "metadata": {},
   "source": [
    "We can then start adding nodes/edges. \n",
    "\n",
    "_In some other areas, nodes are also called vertices; edges are called links._"
   ]
  },
  {
   "cell_type": "code",
   "execution_count": 18,
   "metadata": {
    "ExecuteTime": {
     "end_time": "2019-03-27T21:22:42.040593Z",
     "start_time": "2019-03-27T21:22:42.013424Z"
    }
   },
   "outputs": [
    {
     "name": "stdout",
     "output_type": "stream",
     "text": [
      "1\n",
      "4\n"
     ]
    }
   ],
   "source": [
    "G.add_node(1) # add one node at a time\n",
    "print(G.number_of_nodes())\n",
    "G.add_nodes_from(range(2,5)) # add a list of nodes at once\n",
    "print(G.number_of_nodes())"
   ]
  },
  {
   "cell_type": "markdown",
   "metadata": {},
   "source": [
    "While we have something in our network now, we do not have any connections between them. After all, connectivity is the most interesting thing in networks!"
   ]
  },
  {
   "cell_type": "code",
   "execution_count": 19,
   "metadata": {
    "ExecuteTime": {
     "end_time": "2019-03-27T21:22:42.057185Z",
     "start_time": "2019-03-27T21:22:42.047681Z"
    }
   },
   "outputs": [
    {
     "name": "stdout",
     "output_type": "stream",
     "text": [
      "1\n",
      "3\n"
     ]
    }
   ],
   "source": [
    "G.add_edge(1, 2) # add one edge at a time\n",
    "print(G.number_of_edges())\n",
    "G.add_edges_from([(2, 3), (1, 4)]) # add a list of edges at once\n",
    "print(G.number_of_edges())"
   ]
  },
  {
   "cell_type": "code",
   "execution_count": 20,
   "metadata": {
    "ExecuteTime": {
     "end_time": "2019-03-27T21:22:42.065516Z",
     "start_time": "2019-03-27T21:22:42.060345Z"
    }
   },
   "outputs": [
    {
     "name": "stdout",
     "output_type": "stream",
     "text": [
      "Name: \n",
      "Type: Graph\n",
      "Number of nodes: 4\n",
      "Number of edges: 3\n",
      "Average degree:   1.5000\n"
     ]
    }
   ],
   "source": [
    "print(nx.info(G))"
   ]
  },
  {
   "cell_type": "markdown",
   "metadata": {},
   "source": [
    "We can now inspect what we have in our first network."
   ]
  },
  {
   "cell_type": "code",
   "execution_count": 21,
   "metadata": {
    "ExecuteTime": {
     "end_time": "2019-03-27T21:22:42.074853Z",
     "start_time": "2019-03-27T21:22:42.068217Z"
    }
   },
   "outputs": [
    {
     "data": {
      "text/plain": [
       "NodeView((1, 2, 3, 4))"
      ]
     },
     "execution_count": 21,
     "metadata": {},
     "output_type": "execute_result"
    }
   ],
   "source": [
    "G.nodes()"
   ]
  },
  {
   "cell_type": "code",
   "execution_count": 22,
   "metadata": {
    "ExecuteTime": {
     "end_time": "2019-03-27T21:22:42.084682Z",
     "start_time": "2019-03-27T21:22:42.077028Z"
    }
   },
   "outputs": [
    {
     "data": {
      "text/plain": [
       "EdgeView([(1, 2), (1, 4), (2, 3)])"
      ]
     },
     "execution_count": 22,
     "metadata": {},
     "output_type": "execute_result"
    }
   ],
   "source": [
    "G.edges()"
   ]
  },
  {
   "cell_type": "markdown",
   "metadata": {},
   "source": [
    "Degree is the number of connections a node has."
   ]
  },
  {
   "cell_type": "code",
   "execution_count": 23,
   "metadata": {
    "ExecuteTime": {
     "end_time": "2019-03-27T21:22:42.094452Z",
     "start_time": "2019-03-27T21:22:42.087319Z"
    }
   },
   "outputs": [
    {
     "data": {
      "text/plain": [
       "DegreeView({1: 2, 2: 2, 3: 1, 4: 1})"
      ]
     },
     "execution_count": 23,
     "metadata": {},
     "output_type": "execute_result"
    }
   ],
   "source": [
    "G.degree()"
   ]
  },
  {
   "cell_type": "markdown",
   "metadata": {},
   "source": [
    "<a id='sec22'></a>"
   ]
  },
  {
   "cell_type": "markdown",
   "metadata": {},
   "source": [
    "##### Graph generators"
   ]
  },
  {
   "cell_type": "markdown",
   "metadata": {},
   "source": [
    "Given specific parameters, we can ask __NetworkX__ to produce some ___random graphs___ for us. One of the use of random graphs is to compare the graph models to real data to see what are the differences/similarities between the two.\n",
    "\n",
    "Reference:\n",
    "> The Structure and Function of Complex Networks. M. E. J. Newman. SIAM Review 2003 45:2, 167-256"
   ]
  },
  {
   "cell_type": "markdown",
   "metadata": {},
   "source": [
    "Let's say we will use __karate club network__ as the real data."
   ]
  },
  {
   "cell_type": "code",
   "execution_count": 24,
   "metadata": {
    "ExecuteTime": {
     "end_time": "2019-03-27T21:22:42.103689Z",
     "start_time": "2019-03-27T21:22:42.097216Z"
    }
   },
   "outputs": [],
   "source": [
    "karate = nx.karate_club_graph()"
   ]
  },
  {
   "cell_type": "code",
   "execution_count": 25,
   "metadata": {
    "ExecuteTime": {
     "end_time": "2019-03-27T21:22:42.110808Z",
     "start_time": "2019-03-27T21:22:42.106787Z"
    }
   },
   "outputs": [
    {
     "name": "stdout",
     "output_type": "stream",
     "text": [
      "Name: Zachary's Karate Club\n",
      "Type: Graph\n",
      "Number of nodes: 34\n",
      "Number of edges: 78\n",
      "Average degree:   4.5882\n"
     ]
    }
   ],
   "source": [
    "print(nx.info(karate))"
   ]
  },
  {
   "cell_type": "markdown",
   "metadata": {},
   "source": [
    "###### Erdos-Renyi random graph"
   ]
  },
  {
   "cell_type": "markdown",
   "metadata": {},
   "source": [
    "This is a classic model for random graphs: given the number of nodes and probability of each possible edge formation, the model adds edges independently, also giving a tree like structure. "
   ]
  },
  {
   "cell_type": "code",
   "execution_count": 26,
   "metadata": {
    "ExecuteTime": {
     "end_time": "2019-03-27T21:22:42.118305Z",
     "start_time": "2019-03-27T21:22:42.114684Z"
    }
   },
   "outputs": [],
   "source": [
    "n = karate.number_of_nodes() # number of nodes\n",
    "p = 2.*karate.number_of_edges()/(n*(n-1)) # probability of edge creation (This is essentially the DENSITY of a network)"
   ]
  },
  {
   "cell_type": "code",
   "execution_count": 27,
   "metadata": {
    "ExecuteTime": {
     "end_time": "2019-03-27T21:22:42.127443Z",
     "start_time": "2019-03-27T21:22:42.121834Z"
    }
   },
   "outputs": [
    {
     "data": {
      "text/plain": [
       "(34, 0.13903743315508021)"
      ]
     },
     "execution_count": 27,
     "metadata": {},
     "output_type": "execute_result"
    }
   ],
   "source": [
    "n, p"
   ]
  },
  {
   "cell_type": "code",
   "execution_count": 28,
   "metadata": {
    "ExecuteTime": {
     "end_time": "2019-03-27T21:22:42.136598Z",
     "start_time": "2019-03-27T21:22:42.130821Z"
    }
   },
   "outputs": [
    {
     "data": {
      "text/plain": [
       "0.13903743315508021"
      ]
     },
     "execution_count": 28,
     "metadata": {},
     "output_type": "execute_result"
    }
   ],
   "source": [
    "nx.density(karate)"
   ]
  },
  {
   "cell_type": "code",
   "execution_count": 29,
   "metadata": {
    "ExecuteTime": {
     "end_time": "2019-03-27T21:22:42.145008Z",
     "start_time": "2019-03-27T21:22:42.139439Z"
    }
   },
   "outputs": [],
   "source": [
    "erdos_rg = nx.erdos_renyi_graph(n, p, seed=np.random.randint(10))"
   ]
  },
  {
   "cell_type": "code",
   "execution_count": 30,
   "metadata": {
    "ExecuteTime": {
     "end_time": "2019-03-27T21:22:42.152905Z",
     "start_time": "2019-03-27T21:22:42.148029Z"
    }
   },
   "outputs": [
    {
     "name": "stdout",
     "output_type": "stream",
     "text": [
      "Name: \n",
      "Type: Graph\n",
      "Number of nodes: 34\n",
      "Number of edges: 97\n",
      "Average degree:   5.7059\n"
     ]
    }
   ],
   "source": [
    "print(nx.info(erdos_rg))"
   ]
  },
  {
   "cell_type": "markdown",
   "metadata": {},
   "source": [
    "###### Configuration model"
   ]
  },
  {
   "cell_type": "markdown",
   "metadata": {},
   "source": [
    "This model helps to preserve a given degree distribution (i.e., the distribution of the number of connections each node has)"
   ]
  },
  {
   "cell_type": "code",
   "execution_count": 31,
   "metadata": {
    "ExecuteTime": {
     "end_time": "2019-03-27T21:22:42.164897Z",
     "start_time": "2019-03-27T21:22:42.156724Z"
    }
   },
   "outputs": [
    {
     "data": {
      "text/plain": [
       "array([16,  9, 10,  6,  3,  4,  4,  4,  5,  2,  3,  1,  2,  5,  2,  2,  2,\n",
       "        2,  2,  3,  2,  2,  2,  5,  3,  3,  2,  4,  3,  4,  4,  6, 12, 17])"
      ]
     },
     "execution_count": 31,
     "metadata": {},
     "output_type": "execute_result"
    }
   ],
   "source": [
    "degree_dist = np.asarray(list(dict(karate.degree()).values()))\n",
    "degree_dist"
   ]
  },
  {
   "cell_type": "code",
   "execution_count": 32,
   "metadata": {
    "ExecuteTime": {
     "end_time": "2019-03-27T21:22:42.172452Z",
     "start_time": "2019-03-27T21:22:42.167521Z"
    }
   },
   "outputs": [],
   "source": [
    "conf_rg = nx.configuration_model(degree_dist, seed=np.random.randint(10))"
   ]
  },
  {
   "cell_type": "code",
   "execution_count": 33,
   "metadata": {
    "ExecuteTime": {
     "end_time": "2019-03-27T21:22:42.180684Z",
     "start_time": "2019-03-27T21:22:42.175398Z"
    }
   },
   "outputs": [
    {
     "name": "stdout",
     "output_type": "stream",
     "text": [
      "Name: \n",
      "Type: MultiGraph\n",
      "Number of nodes: 34\n",
      "Number of edges: 78\n",
      "Average degree:   4.5882\n"
     ]
    }
   ],
   "source": [
    "print(nx.info(conf_rg))"
   ]
  },
  {
   "cell_type": "markdown",
   "metadata": {},
   "source": [
    "Note: a `MultiGraph` can contain different types of edges and self loops. We convert it back to `Graph`"
   ]
  },
  {
   "cell_type": "code",
   "execution_count": 34,
   "metadata": {
    "ExecuteTime": {
     "end_time": "2019-03-27T21:22:42.191672Z",
     "start_time": "2019-03-27T21:22:42.184574Z"
    }
   },
   "outputs": [],
   "source": [
    "conf_rg = nx.Graph(conf_rg)"
   ]
  },
  {
   "cell_type": "code",
   "execution_count": 35,
   "metadata": {
    "ExecuteTime": {
     "end_time": "2019-03-27T21:22:42.203372Z",
     "start_time": "2019-03-27T21:22:42.196083Z"
    }
   },
   "outputs": [
    {
     "name": "stdout",
     "output_type": "stream",
     "text": [
      "Name: \n",
      "Type: Graph\n",
      "Number of nodes: 34\n",
      "Number of edges: 71\n",
      "Average degree:   4.1765\n"
     ]
    }
   ],
   "source": [
    "print(nx.info(conf_rg))"
   ]
  },
  {
   "cell_type": "markdown",
   "metadata": {},
   "source": [
    "###### More..."
   ]
  },
  {
   "cell_type": "markdown",
   "metadata": {},
   "source": [
    "As we mentioned above, we can leverage ___NetworkX___'s built-in datasets as toy data for practice or even in your research or even in your research or even in your research or even in your research. See <a href='https://networkx.github.io/documentation/stable/reference/generators.html' target='_blank'>here</a> for more details."
   ]
  },
  {
   "cell_type": "markdown",
   "metadata": {},
   "source": [
    "---"
   ]
  },
  {
   "cell_type": "markdown",
   "metadata": {},
   "source": [
    "#### Visualization"
   ]
  },
  {
   "cell_type": "markdown",
   "metadata": {},
   "source": [
    "Personally, I don't like ___NetworkX___'s visualization. I suggest using: (i) <a href='http://igraph.org/r/' target='_blank'>iGraph in R</a>; (i) <a href='https://graph-tool.skewed.de/static/doc/draw.html' target='_blank'>graph-tool</a>; (iii) <a href='https://gephi.org/' target='_blank'>Gephi</a>, which are also easy to use and actually prettier. That said, we can still use __NetworkX__'s `draw` function to have a first taste of what our data looks like. Let's also use ___karate___ data for an example."
   ]
  },
  {
   "cell_type": "markdown",
   "metadata": {},
   "source": [
    "Note that we will need ___Matplotlib___ for visualization using ___NetworkX___. If you have not installed it, run `pip install matplotlib` in your terminal. If you use __Anaconda__, you are good to go."
   ]
  },
  {
   "cell_type": "code",
   "execution_count": 36,
   "metadata": {
    "ExecuteTime": {
     "end_time": "2019-03-27T21:22:42.727076Z",
     "start_time": "2019-03-27T21:22:42.206417Z"
    }
   },
   "outputs": [],
   "source": [
    "import matplotlib.pyplot as plt # import the dependent library"
   ]
  },
  {
   "cell_type": "markdown",
   "metadata": {},
   "source": [
    "The following line is a notebook magic command to draw figures ___inline___."
   ]
  },
  {
   "cell_type": "code",
   "execution_count": 37,
   "metadata": {
    "ExecuteTime": {
     "end_time": "2019-03-27T21:22:42.740134Z",
     "start_time": "2019-03-27T21:22:42.730486Z"
    }
   },
   "outputs": [],
   "source": [
    "%matplotlib inline"
   ]
  },
  {
   "cell_type": "markdown",
   "metadata": {},
   "source": [
    "every time we run this, it'll show us a different layout"
   ]
  },
  {
   "cell_type": "code",
   "execution_count": 38,
   "metadata": {
    "ExecuteTime": {
     "end_time": "2019-03-27T21:22:42.958058Z",
     "start_time": "2019-03-27T21:22:42.742492Z"
    }
   },
   "outputs": [
    {
     "data": {
      "image/png": "[encoded data removed]",
      "text/plain": [
       "<Figure size 432x288 with 1 Axes>"
      ]
     },
     "metadata": {},
     "output_type": "display_data"
    }
   ],
   "source": [
    "nx.draw(karate)"
   ]
  },
  {
   "cell_type": "markdown",
   "metadata": {},
   "source": [
    "Not bad, right? But! We want to make it better, start by adding node labels."
   ]
  },
  {
   "cell_type": "code",
   "execution_count": 39,
   "metadata": {
    "ExecuteTime": {
     "end_time": "2019-03-27T21:22:43.270450Z",
     "start_time": "2019-03-27T21:22:42.960382Z"
    }
   },
   "outputs": [
    {
     "data": {
      "image/png": "[encoded data removed]",
      "text/plain": [
       "<Figure size 432x288 with 1 Axes>"
      ]
     },
     "metadata": {},
     "output_type": "display_data"
    }
   ],
   "source": [
    "nx.draw(karate, with_labels=True)"
   ]
  },
  {
   "cell_type": "markdown",
   "metadata": {},
   "source": [
    "We can choose what layouts we want: consult <a href='https://networkx.github.io/documentation/stable/reference/drawing.html' target='_blank'>here</a> for more information."
   ]
  },
  {
   "cell_type": "code",
   "execution_count": 40,
   "metadata": {
    "ExecuteTime": {
     "end_time": "2019-03-27T21:22:44.247385Z",
     "start_time": "2019-03-27T21:22:43.274489Z"
    }
   },
   "outputs": [
    {
     "data": {
      "image/png": "[encoded data removed]",
      "text/plain": [
       "<Figure size 720x720 with 4 Axes>"
      ]
     },
     "metadata": {},
     "output_type": "display_data"
    }
   ],
   "source": [
    "plt.figure(figsize=(10,10))\n",
    "# plt.subplot() will create \"sub-plots\" in one canvas\n",
    "# Now we are telling matplotlib to give us a 2x2 subplot canvas\n",
    "plt.subplot(221)  # first subplot\n",
    "nx.draw_spring(karate, with_labels=True)\n",
    "plt.subplot(222) # second subplot\n",
    "nx.draw_spectral(karate, with_labels=True)\n",
    "plt.subplot(223) # third subplot\n",
    "nx.draw_circular(karate, with_labels=True)\n",
    "plt.subplot(224) # last subplot\n",
    "nx.draw_kamada_kawai(karate, with_labels=True)"
   ]
  },
  {
   "cell_type": "markdown",
   "metadata": {},
   "source": [
    "---"
   ]
  },
  {
   "cell_type": "markdown",
   "metadata": {},
   "source": [
    "#### Network statistics"
   ]
  },
  {
   "cell_type": "markdown",
   "metadata": {},
   "source": [
    "There are many useful functions to calculate network stats for you."
   ]
  },
  {
   "cell_type": "markdown",
   "metadata": {},
   "source": [
    "##### Global level stats"
   ]
  },
  {
   "cell_type": "code",
   "execution_count": 41,
   "metadata": {
    "ExecuteTime": {
     "end_time": "2019-03-27T21:22:44.258176Z",
     "start_time": "2019-03-27T21:22:44.250211Z"
    }
   },
   "outputs": [
    {
     "name": "stdout",
     "output_type": "stream",
     "text": [
      "Density: 0.13903743315508021\n"
     ]
    }
   ],
   "source": [
    "print('Density:', nx.density(karate))"
   ]
  },
  {
   "cell_type": "code",
   "execution_count": 42,
   "metadata": {
    "ExecuteTime": {
     "end_time": "2019-03-27T21:22:44.280035Z",
     "start_time": "2019-03-27T21:22:44.260816Z"
    }
   },
   "outputs": [
    {
     "name": "stdout",
     "output_type": "stream",
     "text": [
      "Avg. shortest path length: 2.408199643493761\n"
     ]
    }
   ],
   "source": [
    "print('Avg. shortest path length:', nx.average_shortest_path_length(karate))"
   ]
  },
  {
   "cell_type": "code",
   "execution_count": 43,
   "metadata": {
    "ExecuteTime": {
     "end_time": "2019-03-27T21:22:44.300416Z",
     "start_time": "2019-03-27T21:22:44.288125Z"
    }
   },
   "outputs": [
    {
     "name": "stdout",
     "output_type": "stream",
     "text": [
      "Avg. clustering coefficient: 0.5706384782076823\n"
     ]
    }
   ],
   "source": [
    "print('Avg. clustering coefficient:', nx.average_clustering(karate))"
   ]
  },
  {
   "cell_type": "code",
   "execution_count": 44,
   "metadata": {
    "ExecuteTime": {
     "end_time": "2019-03-27T21:22:44.319097Z",
     "start_time": "2019-03-27T21:22:44.308559Z"
    }
   },
   "outputs": [
    {
     "name": "stdout",
     "output_type": "stream",
     "text": [
      "Assortativity -0.47561309768461457\n"
     ]
    }
   ],
   "source": [
    "print('Assortativity', nx.degree_assortativity_coefficient(karate))"
   ]
  },
  {
   "cell_type": "markdown",
   "metadata": {},
   "source": [
    "Combining these with [Section 2.2](#sec22), we can play with some comparison between the synthesized and real network stats. A common routine is that we repeat the construction of random graphs over and over again to obtain the average values to decrease bias from the randomness."
   ]
  },
  {
   "cell_type": "markdown",
   "metadata": {},
   "source": [
    "Let's use `list` to save the stats:"
   ]
  },
  {
   "cell_type": "code",
   "execution_count": 45,
   "metadata": {
    "ExecuteTime": {
     "end_time": "2019-03-27T21:22:44.326947Z",
     "start_time": "2019-03-27T21:22:44.322048Z"
    }
   },
   "outputs": [],
   "source": [
    "erdos_assortativity_list = list()\n",
    "conf_assortativity_list = list()"
   ]
  },
  {
   "cell_type": "code",
   "execution_count": 46,
   "metadata": {
    "ExecuteTime": {
     "end_time": "2019-03-27T21:22:44.334160Z",
     "start_time": "2019-03-27T21:22:44.330010Z"
    }
   },
   "outputs": [],
   "source": [
    "n = karate.number_of_nodes() # number of nodes\n",
    "p = 2.*karate.number_of_edges()/(n*n-1) # probability of edge creation (This is essentially the DENSITY of a network)"
   ]
  },
  {
   "cell_type": "code",
   "execution_count": 47,
   "metadata": {
    "ExecuteTime": {
     "end_time": "2019-03-27T21:22:44.342542Z",
     "start_time": "2019-03-27T21:22:44.336754Z"
    }
   },
   "outputs": [
    {
     "data": {
      "text/plain": [
       "array([16,  9, 10,  6,  3,  4,  4,  4,  5,  2,  3,  1,  2,  5,  2,  2,  2,\n",
       "        2,  2,  3,  2,  2,  2,  5,  3,  3,  2,  4,  3,  4,  4,  6, 12, 17])"
      ]
     },
     "execution_count": 47,
     "metadata": {},
     "output_type": "execute_result"
    }
   ],
   "source": [
    "degree_dist = np.asarray(list(dict(karate.degree()).values()))\n",
    "degree_dist"
   ]
  },
  {
   "cell_type": "code",
   "execution_count": 48,
   "metadata": {
    "ExecuteTime": {
     "end_time": "2019-03-27T21:22:44.740032Z",
     "start_time": "2019-03-27T21:22:44.345653Z"
    }
   },
   "outputs": [],
   "source": [
    "for i in range(100): # randomly sample random graphs 100 times\n",
    "    erdos_rg = nx.erdos_renyi_graph(n, p, seed=np.random.randint(10))\n",
    "    conf_rg = nx.Graph(nx.configuration_model(degree_dist, seed=np.random.randint(10))) # convert `MultiGraph` to `Graph`\n",
    "    # calculate assortativity\n",
    "    erdos_assortativity_list.append(nx.degree_assortativity_coefficient(erdos_rg))\n",
    "    conf_assortativity_list.append(nx.degree_assortativity_coefficient(conf_rg))"
   ]
  },
  {
   "cell_type": "code",
   "execution_count": 49,
   "metadata": {
    "ExecuteTime": {
     "end_time": "2019-03-27T21:22:44.751034Z",
     "start_time": "2019-03-27T21:22:44.742282Z"
    }
   },
   "outputs": [
    {
     "name": "stdout",
     "output_type": "stream",
     "text": [
      "Erdos-Renyi assortativity: -0.0399590159833851 0.06704976562642845\n",
      "Conf. model assortativity: -0.1350366955396213 0.08130213975161112\n",
      "Real network value: -0.47561309768461457\n"
     ]
    }
   ],
   "source": [
    "print('Erdos-Renyi assortativity:', np.mean(erdos_assortativity_list), np.std(erdos_assortativity_list, ddof=1))\n",
    "print('Conf. model assortativity:', np.mean(conf_assortativity_list), np.std(conf_assortativity_list, ddof=1))\n",
    "print('Real network value:', nx.degree_assortativity_coefficient(karate))"
   ]
  },
  {
   "cell_type": "markdown",
   "metadata": {},
   "source": [
    "Now you see that there's a much higher tendency of the low degree nodes (mostly members) in ___karate club network___ to connect with high degree nodes (mostly leaders). We can then interpret that there may be a core-periphery or leader-member structure. (_We cannot be sure about this from this very simple approach though!_)"
   ]
  },
  {
   "cell_type": "markdown",
   "metadata": {},
   "source": [
    "##### Local level"
   ]
  },
  {
   "cell_type": "markdown",
   "metadata": {},
   "source": [
    "We can look at micro-level network stats by giving some nodes of interest."
   ]
  },
  {
   "cell_type": "code",
   "execution_count": 50,
   "metadata": {
    "ExecuteTime": {
     "end_time": "2019-03-27T21:22:44.758854Z",
     "start_time": "2019-03-27T21:22:44.753879Z"
    }
   },
   "outputs": [
    {
     "data": {
      "text/plain": [
       "9"
      ]
     },
     "execution_count": 50,
     "metadata": {},
     "output_type": "execute_result"
    }
   ],
   "source": [
    "karate.degree(1) # degree of one node"
   ]
  },
  {
   "cell_type": "code",
   "execution_count": 51,
   "metadata": {
    "ExecuteTime": {
     "end_time": "2019-03-27T21:22:44.768589Z",
     "start_time": "2019-03-27T21:22:44.761469Z"
    }
   },
   "outputs": [
    {
     "data": {
      "text/plain": [
       "DegreeView({1: 9, 2: 10})"
      ]
     },
     "execution_count": 51,
     "metadata": {},
     "output_type": "execute_result"
    }
   ],
   "source": [
    "karate.degree([1,2]) # degree of a list of nodes"
   ]
  },
  {
   "cell_type": "code",
   "execution_count": 52,
   "metadata": {
    "ExecuteTime": {
     "end_time": "2019-03-27T21:22:44.778374Z",
     "start_time": "2019-03-27T21:22:44.771776Z"
    }
   },
   "outputs": [
    {
     "data": {
      "text/plain": [
       "[1, 2, 9]"
      ]
     },
     "execution_count": 52,
     "metadata": {},
     "output_type": "execute_result"
    }
   ],
   "source": [
    "nx.shortest_path(karate, 1, 9) # one of the shortest path from node 1 to node 9"
   ]
  },
  {
   "cell_type": "markdown",
   "metadata": {},
   "source": [
    "---"
   ]
  },
  {
   "cell_type": "markdown",
   "metadata": {},
   "source": [
    "#### Conclusion"
   ]
  },
  {
   "cell_type": "markdown",
   "metadata": {},
   "source": [
    "There are definitely a lot more to explore. In closing, I list a few topics that may be of interest but may not be covered due to time limit."
   ]
  },
  {
   "cell_type": "markdown",
   "metadata": {},
   "source": [
    "P.S.: <a href='https://icon.colorado.edu/#!/networks' target='_blank'>Index of Complex Networks</a> is a good place to find more network data."
   ]
  },
  {
   "cell_type": "markdown",
   "metadata": {},
   "source": [
    "---"
   ]
  },
  {
   "cell_type": "markdown",
   "metadata": {},
   "source": [
    "##### PageRank"
   ]
  },
  {
   "cell_type": "markdown",
   "metadata": {},
   "source": [
    "Ranking nodes based on various strategies is a common thing in measuring node importance. PageRank is one of the most successful one and has still been used in both the industry and academia. Usually, PageRank is applied in a __directed network__, where an edge has a direction. For example, webpage ___A___ has a link to webpage ___B___ but not the other way around. Therefore in the network of WWW, we only have $A\\rightarrow B$ but NOT $B\\rightarrow A$."
   ]
  },
  {
   "cell_type": "markdown",
   "metadata": {},
   "source": [
    "Reference: \n",
    "> Page, Lawrence and Brin, Sergey and Motwani, Rajeev and Winograd, Terry (1999) The PageRank Citation Ranking: Bringing Order to the Web. Technical Report. Stanford InfoLab."
   ]
  },
  {
   "cell_type": "markdown",
   "metadata": {},
   "source": [
    "###### Build network"
   ]
  },
  {
   "cell_type": "markdown",
   "metadata": {},
   "source": [
    "Network data from http://tuvalu.santafe.edu/~aaronc/datacode.htm"
   ]
  },
  {
   "cell_type": "code",
   "execution_count": 53,
   "metadata": {
    "ExecuteTime": {
     "end_time": "2019-03-27T21:22:44.791352Z",
     "start_time": "2019-03-27T21:22:44.780731Z"
    }
   },
   "outputs": [
    {
     "data": {
      "text/plain": [
       "array([['1', '5'],\n",
       "       ['2', '5'],\n",
       "       ['3', '5'],\n",
       "       ['4', '5'],\n",
       "       ['4', '7']], dtype='<U2')"
      ]
     },
     "execution_count": 53,
     "metadata": {},
     "output_type": "execute_result"
    }
   ],
   "source": [
    "edge_list = np.loadtxt('sample-data/terrorists/terrorist.pairs', dtype=str)\n",
    "edge_list[:5]"
   ]
  },
  {
   "cell_type": "code",
   "execution_count": 54,
   "metadata": {
    "ExecuteTime": {
     "end_time": "2019-03-27T21:22:44.800233Z",
     "start_time": "2019-03-27T21:22:44.793540Z"
    }
   },
   "outputs": [
    {
     "data": {
      "text/plain": [
       "'Samir_Kashk'"
      ]
     },
     "execution_count": 54,
     "metadata": {},
     "output_type": "execute_result"
    }
   ],
   "source": [
    "node_name_dict = dict(np.loadtxt('sample-data/terrorists/terrorist.names', dtype=str))\n",
    "node_name_dict['1']"
   ]
  },
  {
   "cell_type": "markdown",
   "metadata": {},
   "source": [
    "Map names to name indices."
   ]
  },
  {
   "cell_type": "code",
   "execution_count": 55,
   "metadata": {
    "ExecuteTime": {
     "end_time": "2019-03-27T21:22:44.810470Z",
     "start_time": "2019-03-27T21:22:44.802803Z"
    }
   },
   "outputs": [
    {
     "data": {
      "text/plain": [
       "[('Samir_Kashk', 'Essid_Sami_Ben_Khemais'),\n",
       " ('Madjid_Sahoune', 'Essid_Sami_Ben_Khemais'),\n",
       " ('Fahid_al_Shakri', 'Essid_Sami_Ben_Khemais'),\n",
       " ('Lased_Ben_Heni', 'Essid_Sami_Ben_Khemais'),\n",
       " ('Lased_Ben_Heni', 'Mohamed_Bensakhria'),\n",
       " ('Essid_Sami_Ben_Khemais', 'Samir_Kashk'),\n",
       " ('Essid_Sami_Ben_Khemais', 'Madjid_Sahoune'),\n",
       " ('Essid_Sami_Ben_Khemais', 'Fahid_al_Shakri'),\n",
       " ('Essid_Sami_Ben_Khemais', 'Lased_Ben_Heni'),\n",
       " ('Essid_Sami_Ben_Khemais', 'Seifallah_ben_Hassine')]"
      ]
     },
     "execution_count": 55,
     "metadata": {},
     "output_type": "execute_result"
    }
   ],
   "source": [
    "edge_list = [(node_name_dict[source], node_name_dict[target]) for source, target in edge_list]\n",
    "edge_list[:10]"
   ]
  },
  {
   "cell_type": "code",
   "execution_count": 56,
   "metadata": {
    "ExecuteTime": {
     "end_time": "2019-03-27T21:22:44.820133Z",
     "start_time": "2019-03-27T21:22:44.813248Z"
    }
   },
   "outputs": [
    {
     "name": "stdout",
     "output_type": "stream",
     "text": [
      "Name: terrorist network 911\n",
      "Type: DiGraph\n",
      "Number of nodes: 62\n",
      "Number of edges: 304\n",
      "Average in degree:   4.9032\n",
      "Average out degree:   4.9032\n"
     ]
    }
   ],
   "source": [
    "terrorist_net = nx.DiGraph()\n",
    "terrorist_net.name = 'terrorist network 911'\n",
    "terrorist_net.add_edges_from(edge_list)\n",
    "print(nx.info(terrorist_net))"
   ]
  },
  {
   "cell_type": "code",
   "execution_count": 57,
   "metadata": {
    "ExecuteTime": {
     "end_time": "2019-03-27T21:22:44.829261Z",
     "start_time": "2019-03-27T21:22:44.822917Z"
    }
   },
   "outputs": [],
   "source": [
    "nx.write_gml(terrorist_net, 'sample-data/terrorists/terrorist.gml')"
   ]
  },
  {
   "cell_type": "markdown",
   "metadata": {},
   "source": [
    "###### Run PageRank"
   ]
  },
  {
   "cell_type": "code",
   "execution_count": 58,
   "metadata": {
    "ExecuteTime": {
     "end_time": "2019-03-27T21:22:44.857584Z",
     "start_time": "2019-03-27T21:22:44.831831Z"
    }
   },
   "outputs": [],
   "source": [
    "G = nx.read_gml('sample-data/terrorists/terrorist.gml')"
   ]
  },
  {
   "cell_type": "code",
   "execution_count": 59,
   "metadata": {
    "ExecuteTime": {
     "end_time": "2019-03-27T21:22:44.864748Z",
     "start_time": "2019-03-27T21:22:44.859890Z"
    }
   },
   "outputs": [
    {
     "name": "stdout",
     "output_type": "stream",
     "text": [
      "Name: terrorist network 911\n",
      "Type: DiGraph\n",
      "Number of nodes: 62\n",
      "Number of edges: 304\n",
      "Average in degree:   4.9032\n",
      "Average out degree:   4.9032\n"
     ]
    }
   ],
   "source": [
    "print(nx.info(G))"
   ]
  },
  {
   "cell_type": "markdown",
   "metadata": {},
   "source": [
    "$alpha=0.85$ is a commonly used dampling factor."
   ]
  },
  {
   "cell_type": "code",
   "execution_count": 60,
   "metadata": {
    "ExecuteTime": {
     "end_time": "2019-03-27T21:22:44.890132Z",
     "start_time": "2019-03-27T21:22:44.867432Z"
    }
   },
   "outputs": [],
   "source": [
    "pr = nx.pagerank(G, alpha=0.85)"
   ]
  },
  {
   "cell_type": "markdown",
   "metadata": {
    "ExecuteTime": {
     "end_time": "2017-11-12T23:32:41.327959Z",
     "start_time": "2017-11-12T23:32:41.315825Z"
    }
   },
   "source": [
    "The returned value is a dictionary containing nodes and their __PageRank__ scores. Let's print them from high to low."
   ]
  },
  {
   "cell_type": "code",
   "execution_count": 61,
   "metadata": {
    "ExecuteTime": {
     "end_time": "2019-03-27T21:22:44.929560Z",
     "start_time": "2019-03-27T21:22:44.892243Z"
    }
   },
   "outputs": [
    {
     "data": {
      "text/html": [
       "<div>\n",
       "<style scoped>\n",
       "    .dataframe tbody tr th:only-of-type {\n",
       "        vertical-align: middle;\n",
       "    }\n",
       "\n",
       "    .dataframe tbody tr th {\n",
       "        vertical-align: top;\n",
       "    }\n",
       "\n",
       "    .dataframe thead th {\n",
       "        text-align: right;\n",
       "    }\n",
       "</style>\n",
       "<table border=\"1\" class=\"dataframe\">\n",
       "  <thead>\n",
       "    <tr style=\"text-align: right;\">\n",
       "      <th></th>\n",
       "      <th>name</th>\n",
       "      <th>value</th>\n",
       "    </tr>\n",
       "  </thead>\n",
       "  <tbody>\n",
       "    <tr>\n",
       "      <th>0</th>\n",
       "      <td>Samir_Kashk</td>\n",
       "      <td>0.006114</td>\n",
       "    </tr>\n",
       "    <tr>\n",
       "      <th>1</th>\n",
       "      <td>Essid_Sami_Ben_Khemais</td>\n",
       "      <td>0.047815</td>\n",
       "    </tr>\n",
       "    <tr>\n",
       "      <th>2</th>\n",
       "      <td>Madjid_Sahoune</td>\n",
       "      <td>0.006114</td>\n",
       "    </tr>\n",
       "    <tr>\n",
       "      <th>3</th>\n",
       "      <td>Fahid_al_Shakri</td>\n",
       "      <td>0.006114</td>\n",
       "    </tr>\n",
       "    <tr>\n",
       "      <th>4</th>\n",
       "      <td>Lased_Ben_Heni</td>\n",
       "      <td>0.009873</td>\n",
       "    </tr>\n",
       "  </tbody>\n",
       "</table>\n",
       "</div>"
      ],
      "text/plain": [
       "                     name     value\n",
       "0             Samir_Kashk  0.006114\n",
       "1  Essid_Sami_Ben_Khemais  0.047815\n",
       "2          Madjid_Sahoune  0.006114\n",
       "3         Fahid_al_Shakri  0.006114\n",
       "4          Lased_Ben_Heni  0.009873"
      ]
     },
     "execution_count": 61,
     "metadata": {},
     "output_type": "execute_result"
    }
   ],
   "source": [
    "pr_df = pd.DataFrame([{'name': k, 'value': v} for k, v in pr.items()])\n",
    "pr_df.head()"
   ]
  },
  {
   "cell_type": "code",
   "execution_count": 62,
   "metadata": {
    "ExecuteTime": {
     "end_time": "2019-03-27T21:22:44.946511Z",
     "start_time": "2019-03-27T21:22:44.932816Z"
    }
   },
   "outputs": [
    {
     "data": {
      "text/html": [
       "<div>\n",
       "<style scoped>\n",
       "    .dataframe tbody tr th:only-of-type {\n",
       "        vertical-align: middle;\n",
       "    }\n",
       "\n",
       "    .dataframe tbody tr th {\n",
       "        vertical-align: top;\n",
       "    }\n",
       "\n",
       "    .dataframe thead th {\n",
       "        text-align: right;\n",
       "    }\n",
       "</style>\n",
       "<table border=\"1\" class=\"dataframe\">\n",
       "  <thead>\n",
       "    <tr style=\"text-align: right;\">\n",
       "      <th></th>\n",
       "      <th>name</th>\n",
       "      <th>value</th>\n",
       "    </tr>\n",
       "  </thead>\n",
       "  <tbody>\n",
       "    <tr>\n",
       "      <th>11</th>\n",
       "      <td>Mohamed_Atta</td>\n",
       "      <td>0.060755</td>\n",
       "    </tr>\n",
       "    <tr>\n",
       "      <th>1</th>\n",
       "      <td>Essid_Sami_Ben_Khemais</td>\n",
       "      <td>0.047815</td>\n",
       "    </tr>\n",
       "    <tr>\n",
       "      <th>31</th>\n",
       "      <td>Marwan_Al-Shehhi</td>\n",
       "      <td>0.044991</td>\n",
       "    </tr>\n",
       "    <tr>\n",
       "      <th>17</th>\n",
       "      <td>Djamal_Beghal</td>\n",
       "      <td>0.036374</td>\n",
       "    </tr>\n",
       "    <tr>\n",
       "      <th>43</th>\n",
       "      <td>Hani_Hanjour</td>\n",
       "      <td>0.035418</td>\n",
       "    </tr>\n",
       "    <tr>\n",
       "      <th>44</th>\n",
       "      <td>Nawaf_Alhazmi</td>\n",
       "      <td>0.032473</td>\n",
       "    </tr>\n",
       "    <tr>\n",
       "      <th>24</th>\n",
       "      <td>Ramzi_Bin_al-Shibh</td>\n",
       "      <td>0.027930</td>\n",
       "    </tr>\n",
       "    <tr>\n",
       "      <th>15</th>\n",
       "      <td>Zacarias_Moussaoui</td>\n",
       "      <td>0.026033</td>\n",
       "    </tr>\n",
       "    <tr>\n",
       "      <th>9</th>\n",
       "      <td>\u0003Tarek_Maaroufi</td>\n",
       "      <td>0.024306</td>\n",
       "    </tr>\n",
       "    <tr>\n",
       "      <th>30</th>\n",
       "      <td>Ziad_Jarrah</td>\n",
       "      <td>0.023493</td>\n",
       "    </tr>\n",
       "  </tbody>\n",
       "</table>\n",
       "</div>"
      ],
      "text/plain": [
       "                      name     value\n",
       "11            Mohamed_Atta  0.060755\n",
       "1   Essid_Sami_Ben_Khemais  0.047815\n",
       "31        Marwan_Al-Shehhi  0.044991\n",
       "17           Djamal_Beghal  0.036374\n",
       "43            Hani_Hanjour  0.035418\n",
       "44           Nawaf_Alhazmi  0.032473\n",
       "24      Ramzi_Bin_al-Shibh  0.027930\n",
       "15      Zacarias_Moussaoui  0.026033\n",
       "9          \u0003Tarek_Maaroufi  0.024306\n",
       "30             Ziad_Jarrah  0.023493"
      ]
     },
     "execution_count": 62,
     "metadata": {},
     "output_type": "execute_result"
    }
   ],
   "source": [
    "pr_df.sort_values('value', ascending=False).head(10)"
   ]
  },
  {
   "cell_type": "markdown",
   "metadata": {},
   "source": [
    "##### Community detection"
   ]
  },
  {
   "cell_type": "markdown",
   "metadata": {},
   "source": [
    "Naturally, we want to know if there are groups/clusters of nodes in a network. Well seperated networks may indicate some emergent patterns within the nodes."
   ]
  },
  {
   "cell_type": "markdown",
   "metadata": {},
   "source": [
    "For simplicity, we will again use ___karate___"
   ]
  },
  {
   "cell_type": "code",
   "execution_count": 63,
   "metadata": {
    "ExecuteTime": {
     "end_time": "2019-03-27T21:22:44.954666Z",
     "start_time": "2019-03-27T21:22:44.950449Z"
    }
   },
   "outputs": [],
   "source": [
    "karate = nx.karate_club_graph()"
   ]
  },
  {
   "cell_type": "markdown",
   "metadata": {},
   "source": [
    "There are several algorithms available in ___NetworkX___. Let us try the famous\n",
    "<a href='https://networkx.github.io/documentation/stable/reference/algorithms/generated/networkx.algorithms.community.centrality.girvan_newman.html#networkx.algorithms.community.centrality.girvan_newman' target='_blank'>Girvan–Newman method</a>.\n",
    "\n",
    "Reference:\n",
    "> Girvan M. and Newman M. E. J., Community structure in social and biological networks, Proc. Natl. Acad. Sci. USA 99, 7821–7826 (2002)"
   ]
  },
  {
   "cell_type": "code",
   "execution_count": 64,
   "metadata": {
    "ExecuteTime": {
     "end_time": "2019-03-27T21:22:45.209371Z",
     "start_time": "2019-03-27T21:22:44.957978Z"
    }
   },
   "outputs": [],
   "source": [
    "comm = list(nx.community.girvan_newman(karate))"
   ]
  },
  {
   "cell_type": "markdown",
   "metadata": {},
   "source": [
    "It is a hierarchical partition. Let's get the 1st partition."
   ]
  },
  {
   "cell_type": "code",
   "execution_count": 65,
   "metadata": {
    "ExecuteTime": {
     "end_time": "2019-03-27T21:22:45.223580Z",
     "start_time": "2019-03-27T21:22:45.214216Z"
    }
   },
   "outputs": [
    {
     "data": {
      "text/plain": [
       "({0, 1, 3, 4, 5, 6, 7, 10, 11, 12, 13, 16, 17, 19, 21},\n",
       " {2, 8, 9, 14, 15, 18, 20, 22, 23, 24, 25, 26, 27, 28, 29, 30, 31, 32, 33})"
      ]
     },
     "execution_count": 65,
     "metadata": {},
     "output_type": "execute_result"
    }
   ],
   "source": [
    "comm[0]"
   ]
  },
  {
   "cell_type": "markdown",
   "metadata": {
    "ExecuteTime": {
     "end_time": "2017-11-12T23:48:52.727197Z",
     "start_time": "2017-11-12T23:48:52.721984Z"
    }
   },
   "source": [
    "We can now update our visualization by adding colors based on community partition. "
   ]
  },
  {
   "cell_type": "code",
   "execution_count": 66,
   "metadata": {
    "ExecuteTime": {
     "end_time": "2019-03-27T21:22:45.241117Z",
     "start_time": "2019-03-27T21:22:45.226433Z"
    }
   },
   "outputs": [],
   "source": [
    "layout = nx.fruchterman_reingold_layout(karate) # positions for all nodes"
   ]
  },
  {
   "cell_type": "markdown",
   "metadata": {},
   "source": [
    "We can realize this by plotting nodes seperately."
   ]
  },
  {
   "cell_type": "code",
   "execution_count": 67,
   "metadata": {
    "ExecuteTime": {
     "end_time": "2019-03-27T21:22:45.489650Z",
     "start_time": "2019-03-27T21:22:45.243382Z"
    }
   },
   "outputs": [
    {
     "data": {
      "text/plain": [
       "<matplotlib.collections.LineCollection at 0x1340f0128>"
      ]
     },
     "execution_count": 67,
     "metadata": {},
     "output_type": "execute_result"
    },
    {
     "data": {
      "image/png": "[encoded data removed]",
      "text/plain": [
       "<Figure size 432x288 with 1 Axes>"
      ]
     },
     "metadata": {},
     "output_type": "display_data"
    }
   ],
   "source": [
    "# 1st community\n",
    "nx.draw_networkx_nodes(karate, layout, nodelist=comm[0][0],\n",
    "                       node_color='r')\n",
    "# 2nd community\n",
    "nx.draw_networkx_nodes(karate, layout, nodelist=comm[0][1],\n",
    "                       node_color='b')\n",
    "# draw edges\n",
    "nx.draw_networkx_edges(karate, layout, width=1.0, alpha=0.5)"
   ]
  }
 ],
 "metadata": {
  "kernelspec": {
   "display_name": "Python 3",
   "language": "python",
   "name": "python3"
  },
  "language_info": {
   "codemirror_mode": {
    "name": "ipython",
    "version": 3
   },
   "file_extension": ".py",
   "mimetype": "text/x-python",
   "name": "python",
   "nbconvert_exporter": "python",
   "pygments_lexer": "ipython3",
   "version": "3.7.2"
  },
  "toc": {
   "base_numbering": 1,
   "nav_menu": {},
   "number_sections": true,
   "sideBar": true,
   "skip_h1_title": false,
   "title_cell": "Table of Contents",
   "title_sidebar": "Contents",
   "toc_cell": false,
   "toc_position": {
    "height": "813px",
    "left": "0px",
    "right": "1468px",
    "top": "135px",
    "width": "212px"
   },
   "toc_section_display": "block",
   "toc_window_display": true
  },
  "varInspector": {
   "cols": {
    "lenName": 16,
    "lenType": 16,
    "lenVar": 40
   },
   "kernels_config": {
    "python": {
     "delete_cmd_postfix": "",
     "delete_cmd_prefix": "del ",
     "library": "var_list.py",
     "varRefreshCmd": "print(var_dic_list())"
    },
    "r": {
     "delete_cmd_postfix": ") ",
     "delete_cmd_prefix": "rm(",
     "library": "var_list.r",
     "varRefreshCmd": "cat(var_dic_list()) "
    }
   },
   "types_to_exclude": [
    "module",
    "function",
    "builtin_function_or_method",
    "instance",
    "_Feature"
   ],
   "window_display": false
  }
 },
 "nbformat": 4,
 "nbformat_minor": 2
}
