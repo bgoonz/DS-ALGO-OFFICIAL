{
 "cells": [
  {
   "cell_type": "markdown",
   "metadata": {
    "deletable": true,
    "editable": true
   },
   "source": [
    "## ISRC Python Workshop 3: Topic Modeling (Apr. 06th 2017)"
   ]
  },
  {
   "cell_type": "markdown",
   "metadata": {
    "deletable": true,
    "editable": true
   },
   "source": [
    "Text data is a great source for data analysis: sentiment analysis, topic retrieval, and so force. In this section, we will be covering a common precedure to conduct some basic analyses on text data retrieved from Scopus API. If you are interested in how to setup and get your own Twitter scraper work, please refer to the <a href=\"https://nbviewer.jupyter.org/github/zhiyzuo/uiowa-isrc-python/blob/master/2_web_scraping.ipynb\">previous IPython Notebook</a> for more details on web data retrieval."
   ]
  },
  {
   "cell_type": "markdown",
   "metadata": {
    "deletable": true,
    "editable": true,
    "solution2": "hidden",
    "solution2_first": true
   },
   "source": [
    "### 0. Retrieving Text Data"
   ]
  },
  {
   "cell_type": "code",
   "execution_count": null,
   "metadata": {
    "collapsed": true,
    "deletable": true,
    "editable": true,
    "solution2": "hidden"
   },
   "outputs": [],
   "source": [
    "## suppress warnings\n",
    "import warnings\n",
    "warnings.filterwarnings('ignore')"
   ]
  },
  {
   "cell_type": "code",
   "execution_count": null,
   "metadata": {
    "collapsed": false,
    "deletable": true,
    "editable": true,
    "solution2": "hidden"
   },
   "outputs": [],
   "source": [
    "with open(\"data/scopus_apikey.csv\", \"r\") as f:\n",
    "    key = f.read().strip()"
   ]
  },
  {
   "cell_type": "code",
   "execution_count": null,
   "metadata": {
    "collapsed": false,
    "deletable": true,
    "editable": true,
    "solution2": "hidden"
   },
   "outputs": [],
   "source": [
    "from pyscopus.scopus import Scopus\n",
    "## Supply your own key here.\n",
    "scopus = Scopus(key)"
   ]
  },
  {
   "cell_type": "code",
   "execution_count": null,
   "metadata": {
    "collapsed": false,
    "deletable": true,
    "editable": true,
    "solution2": "hidden"
   },
   "outputs": [],
   "source": [
    "## retrieve scopus ids and titles\n",
    "results = scopus.search_venue(count = 5000, year_range=(2014,2016), \\\n",
    "                              sort_by='relevancy', show=False, \\\n",
    "                              venue_title='Journal of Machine Learning Research')"
   ]
  },
  {
   "cell_type": "code",
   "execution_count": null,
   "metadata": {
    "collapsed": false,
    "deletable": true,
    "editable": true,
    "scrolled": true,
    "solution2": "hidden"
   },
   "outputs": [],
   "source": [
    "abstracts = []\n",
    "for item in results:\n",
    "    abstracts.append(scopus.retrieve_abstract(scopus_id=item))"
   ]
  },
  {
   "cell_type": "markdown",
   "metadata": {
    "deletable": true,
    "editable": true
   },
   "source": [
    "### Text Mining"
   ]
  },
  {
   "cell_type": "markdown",
   "metadata": {
    "deletable": true,
    "editable": true
   },
   "source": [
    "Specifically, three popular clustering algorithms have been used to mine the underlying topical structures:\n",
    "\n",
    "(i) <a href=\"https://www.datascience.com/blog/introduction-to-k-means-clustering-algorithm-learn-data-science-tutorials\" target=\"_blank\">K-means</a>\n",
    "\n",
    "(ii) Latent Semantic Analysis (LSA) [1]\n",
    "\n",
    "(iii) <span style=\"color:red\">Latent Dirichlet Allocation (LDA)</span> [2]"
   ]
  },
  {
   "cell_type": "markdown",
   "metadata": {
    "deletable": true,
    "editable": true
   },
   "source": [
    "We will not cover WHAT these algorithms are, but it is good to understand the basics of the assumptions and the mechanisms."
   ]
  },
  {
   "cell_type": "markdown",
   "metadata": {
    "deletable": true,
    "editable": true
   },
   "source": [
    "###### In this workshop, we will use implementations of LDA mentioned above from package <a href=\"http://scikit-learn.org/stable/\" target=\"_blank\">scikit-learn</a>"
   ]
  },
  {
   "cell_type": "markdown",
   "metadata": {
    "deletable": true,
    "editable": true
   },
   "source": [
    "### 1. Preprocessing Text Data (Data Cleaning)"
   ]
  },
  {
   "cell_type": "markdown",
   "metadata": {
    "deletable": true,
    "editable": true
   },
   "source": [
    "Before we do anything with the fancy algorithms, we must keep in mind that the most important step is to clean the data. Real-world data has many noises in it. We may get results that do not make any sense without proper preprocessing."
   ]
  },
  {
   "cell_type": "code",
   "execution_count": 8,
   "metadata": {
    "collapsed": true,
    "deletable": true,
    "editable": true
   },
   "outputs": [],
   "source": [
    "import numpy as np"
   ]
  },
  {
   "cell_type": "code",
   "execution_count": 1,
   "metadata": {
    "collapsed": false,
    "deletable": true,
    "editable": true
   },
   "outputs": [],
   "source": [
    "## Let's look at the data first\n",
    "with open('data/corpus.csv', 'r') as f:\n",
    "    corpus = [text.replace('\\r', '').replace('\"','') \\\n",
    "              for text in f.read().split('\\n')\\\n",
    "              if len(text) > 0]"
   ]
  },
  {
   "cell_type": "code",
   "execution_count": 2,
   "metadata": {
    "collapsed": false,
    "deletable": true,
    "editable": true
   },
   "outputs": [
    {
     "name": "stdout",
     "output_type": "stream",
     "text": [
      "Many real-world applications require varying costs for different types of mis-classification errors. Such a cost-sensitive classification setup can be very different from the regular classification one, especially in the multiclass case. Thus, traditional meta-algorithms for regular multiclass classification, such as the popular one-versus-one approach, may not always work well under the cost-sensitive classification setup. In this paper, we extend the one-versus-one approach to the field of cost-sensitive classification. The extension is derived using a rigorous mathematical tool called the cost-transformation technique, and takes the original one-versus-one as a special case. Experimental results demonstrate that the proposed approach can achieve better performance in many cost-sensitive classification scenarios when compared with the original one-versus-one as well as existing cost-sensitive classification algorithms. Reduction from cost-sensitive multiclass classification to one-versus-one binary classification\n",
      "--------------\n",
      "Variational inference has become a widely used method to approximate posteriors in complex latent variables models. However, deriving a variational inference algorithm generally requires significant model-specific analysis. These efforts can hinder and deter us from quickly developing and exploring a variety of models for a problem at hand. In this paper, we present a black box variational inference algorithm, one that can be quickly applied to many models with little additional derivation. Our method is based on a stochastic optimization of the variational objective where the noisy gradient is computed from Monte Carlo samples from the variational distribution. We develop a number of methods to reduce the variance of the gradient, always maintaining the criterion that we want to avoid difficult model-based derivations. We evaluate our method against the corresponding black box sampling based methods. We find that our method reaches better predictive likelihoods much faster than sampling methods. Finally, we demonstrate that Black Box Variational Inference lets us easily explore a wide space of models by quickly constructing and evaluating several models of longitudinal healthcare data. Black box variational inference\n",
      "--------------\n",
      "BayesPy is an open-source Python software package for performing variational Bayesian inference. It is based on the variational message passing framework and supports conjugate exponential family models. By removing the tedious task of implementing the variational Bayesian update equations, the user can construct models faster and in a less error-prone way. Simple syntax, flexible model construction and efficient inference make BayesPy suitable for both average and expert Bayesian users. It also supports some advanced methods such as stochastic and collapsed variational inference. BayesPy: Variational Bayesian inference in Python\n",
      "--------------\n"
     ]
    }
   ],
   "source": [
    "## Show 3 abstracts\n",
    "for doc in corpus[:3]:\n",
    "    print(doc)\n",
    "    print('--------------')"
   ]
  },
  {
   "cell_type": "markdown",
   "metadata": {
    "collapsed": true,
    "deletable": true,
    "editable": true
   },
   "source": [
    "#### Bag of words\n",
    "We do not really care the order of the words. We consider each document a <a href=\"https://en.wikipedia.org/wiki/Bag-of-words_model\" target=\"_blank\">bag of words</a>."
   ]
  },
  {
   "cell_type": "code",
   "execution_count": 3,
   "metadata": {
    "collapsed": false,
    "deletable": true,
    "editable": true
   },
   "outputs": [
    {
     "data": {
      "text/plain": [
       "[u'2008',\n",
       " u'2011',\n",
       " u'2013',\n",
       " u'97',\n",
       " u'able',\n",
       " u'access',\n",
       " u'account',\n",
       " u'accuracy',\n",
       " u'accurate',\n",
       " u'achieve',\n",
       " u'achieves',\n",
       " u'active',\n",
       " u'actually',\n",
       " u'acyclic',\n",
       " u'adapt']"
      ]
     },
     "execution_count": 3,
     "metadata": {},
     "output_type": "execute_result"
    }
   ],
   "source": [
    "## scikit-learn provides convenient functions to preprocess data\n",
    "from sklearn.feature_extraction.text import CountVectorizer\n",
    "## remove stop words, which are some common words like I, you, and we.\n",
    "counter = CountVectorizer(max_df=0.95, min_df=2, \\\n",
    "                                stop_words='english')\n",
    "corpus_counter = counter.fit_transform(corpus)\n",
    "counter.get_feature_names()[:15]"
   ]
  },
  {
   "cell_type": "code",
   "execution_count": 4,
   "metadata": {
    "collapsed": false
   },
   "outputs": [
    {
     "data": {
      "text/plain": [
       "917"
      ]
     },
     "execution_count": 4,
     "metadata": {},
     "output_type": "execute_result"
    }
   ],
   "source": [
    "len(counter.get_feature_names())"
   ]
  },
  {
   "cell_type": "markdown",
   "metadata": {
    "deletable": true,
    "editable": true
   },
   "source": [
    "However, this seems not reasonable: (i) we probably do not want numbers; (ii) words in different forms are redundant (`achieve` and `achieves` are basically the same thing)."
   ]
  },
  {
   "cell_type": "code",
   "execution_count": 5,
   "metadata": {
    "collapsed": true,
    "deletable": true,
    "editable": true
   },
   "outputs": [],
   "source": [
    "## first remove numbers\n",
    "from string import digits\n",
    "corpus_nodigits = [doc.translate(None, digits) for doc in corpus]"
   ]
  },
  {
   "cell_type": "markdown",
   "metadata": {
    "deletable": true,
    "editable": true
   },
   "source": [
    "Let's try the `CountVectorizer` again."
   ]
  },
  {
   "cell_type": "code",
   "execution_count": 6,
   "metadata": {
    "collapsed": false,
    "deletable": true,
    "editable": true
   },
   "outputs": [],
   "source": [
    "## stemming: get the `stem` of the words\n",
    "from nltk.stem.porter import PorterStemmer\n",
    "stemmer = PorterStemmer()\n",
    "corpus_for_stem = [doc.split() for doc in corpus_nodigits]\n",
    "corpus_stemmed_nodigits = [' '.join([stemmer.stem(word) for word in doc])\\\n",
    "                            for doc in corpus_for_stem]"
   ]
  },
  {
   "cell_type": "code",
   "execution_count": 9,
   "metadata": {
    "collapsed": false,
    "deletable": true,
    "editable": true
   },
   "outputs": [
    {
     "name": "stdout",
     "output_type": "stream",
     "text": [
      "(80, 789)\n",
      "(789,)\n"
     ]
    }
   ],
   "source": [
    "counter = CountVectorizer(max_df=0.95, min_df=2, \\\n",
    "                                stop_words='english')\n",
    "## corpus_counter is a doc-term sparse matrix\n",
    "corpus_counter = counter.fit_transform(corpus_stemmed_nodigits)\n",
    "print(corpus_counter.shape)\n",
    "words = np.asarray(counter.get_feature_names())\n",
    "print(words.shape)"
   ]
  },
  {
   "cell_type": "code",
   "execution_count": 10,
   "metadata": {
    "collapsed": false
   },
   "outputs": [
    {
     "data": {
      "text/plain": [
       "[u'abl',\n",
       " u'access',\n",
       " u'account',\n",
       " u'accur',\n",
       " u'accuraci',\n",
       " u'accuracy',\n",
       " u'achiev',\n",
       " u'activ',\n",
       " u'actual',\n",
       " u'acycl',\n",
       " u'ad',\n",
       " u'adapt',\n",
       " u'addit',\n",
       " u'addition',\n",
       " u'additionally']"
      ]
     },
     "execution_count": 10,
     "metadata": {},
     "output_type": "execute_result"
    }
   ],
   "source": [
    "counter.get_feature_names()[:15]"
   ]
  },
  {
   "cell_type": "markdown",
   "metadata": {
    "deletable": true,
    "editable": true
   },
   "source": [
    "### 2. Some summary statistics (Know your data)"
   ]
  },
  {
   "cell_type": "code",
   "execution_count": 8,
   "metadata": {
    "collapsed": false,
    "deletable": true,
    "editable": true
   },
   "outputs": [
    {
     "name": "stdout",
     "output_type": "stream",
     "text": [
      "[array([u'cost', u'classif', u'sensit', u'approach', u'multiclass'], \n",
      "      dtype='<U14'), array([u'variat', u'model', u'infer', u'method', u'box'], \n",
      "      dtype='<U14'), array([u'variat', u'bayesian', u'model', u'construct', u'support'], \n",
      "      dtype='<U14')]\n",
      "[array([[8, 8, 6, 3, 3]]), array([[7, 6, 5, 5, 4]]), array([[5, 4, 2, 2, 2]])]\n"
     ]
    }
   ],
   "source": [
    "## Top 5 words of each document and their frequencies\n",
    "## NOTE: toarray is not recommended. This is just for illustration purpose.\n",
    "top_word_indices = np.argsort(-corpus_counter.toarray())[:, :5]\n",
    "top_words = [words[top_word_indices[index,:]] \\\n",
    "             for index in range(top_word_indices.shape[0])]\n",
    "top_word_frequency = [corpus_counter[index, top_word_indices[index]].toarray() \\\n",
    "             for index in range(top_word_indices.shape[0])]\n",
    "print(top_words[:3])\n",
    "print(top_word_frequency[:3])"
   ]
  },
  {
   "cell_type": "markdown",
   "metadata": {
    "deletable": true,
    "editable": true
   },
   "source": [
    "#### Word Cloud\n",
    "See https://github.com/amueller/word_cloud."
   ]
  },
  {
   "cell_type": "code",
   "execution_count": 16,
   "metadata": {
    "collapsed": false,
    "deletable": true,
    "editable": true
   },
   "outputs": [
    {
     "data": {
      "image/png": "[encoded data removed]",
      "text/plain": [
       "<matplotlib.figure.Figure at 0x10bf05cd0>"
      ]
     },
     "metadata": {},
     "output_type": "display_data"
    }
   ],
   "source": [
    "from wordcloud import WordCloud\n",
    "## plot the first document\n",
    "wordcloud = WordCloud(background_color=\"white\", max_words=20)\n",
    "wordcloud.generate(corpus_stemmed_nodigits[0])\n",
    "import matplotlib.pyplot as plt\n",
    "plt.imshow(wordcloud, interpolation='bilinear')\n",
    "plt.axis(\"off\")\n",
    "plt.show()"
   ]
  },
  {
   "cell_type": "markdown",
   "metadata": {
    "deletable": true,
    "editable": true
   },
   "source": [
    "### 3. Run LDA"
   ]
  },
  {
   "cell_type": "code",
   "execution_count": 12,
   "metadata": {
    "collapsed": false,
    "deletable": true,
    "editable": true
   },
   "outputs": [
    {
     "name": "stderr",
     "output_type": "stream",
     "text": [
      "/Users/zhiyzuo/.virtualenvs/PyEnv/lib/python2.7/site-packages/sklearn/decomposition/online_lda.py:508: DeprecationWarning: The default value for 'learning_method' will be changed from 'online' to 'batch' in the release 0.20. This warning was introduced in 0.18.\n",
      "  DeprecationWarning)\n"
     ]
    }
   ],
   "source": [
    "from sklearn.decomposition import LatentDirichletAllocation\n",
    "## large n will produce fine-grained topics\n",
    "## small n will produce coarse-grained topics\n",
    "lda = LatentDirichletAllocation(n_topics=5)\n",
    "corpus_lda = lda.fit_transform(corpus_counter)"
   ]
  },
  {
   "cell_type": "code",
   "execution_count": 13,
   "metadata": {
    "collapsed": false,
    "deletable": true,
    "editable": true
   },
   "outputs": [],
   "source": [
    "def print_top_words(model, feature_names, n_top_words):\n",
    "    top_word_list = []\n",
    "    for topic_idx, topic in enumerate(model.components_):\n",
    "        print(\"Topic #%d:\" % topic_idx)\n",
    "        top_words = [feature_names[i] \\\n",
    "                     for i in topic.argsort()[:-n_top_words - 1:-1]]\n",
    "        print(\" \".join(top_words))\n",
    "        top_word_list.append(top_words)\n",
    "        \n",
    "    return top_word_list"
   ]
  },
  {
   "cell_type": "code",
   "execution_count": 14,
   "metadata": {
    "collapsed": false,
    "deletable": true,
    "editable": true
   },
   "outputs": [
    {
     "name": "stdout",
     "output_type": "stream",
     "text": [
      "Topic #0:\n",
      "class learn thi size equival data markov dimension approach set\n",
      "Topic #1:\n",
      "data label learn model function algorithm thi stream set use\n",
      "Topic #2:\n",
      "thi algorithm data cluster use problem method model learn estim\n",
      "Topic #3:\n",
      "algorithm learn problem use thi bound method function sampl model\n",
      "Topic #4:\n",
      "data model method learn thi infer use propos variat machin\n"
     ]
    }
   ],
   "source": [
    "top_word_list = print_top_words(lda, words, 10)"
   ]
  },
  {
   "cell_type": "code",
   "execution_count": 17,
   "metadata": {
    "collapsed": false,
    "deletable": true,
    "editable": true
   },
   "outputs": [
    {
     "data": {
      "image/png": "[encoded data removed]",
      "text/plain": [
       "<matplotlib.figure.Figure at 0x10bf425d0>"
      ]
     },
     "metadata": {},
     "output_type": "display_data"
    }
   ],
   "source": [
    "lda_wordcloud = WordCloud(background_color=\"white\", max_words=10, relative_scaling=0)\n",
    "lda_wordcloud.generate(' '.join(top_word_list[4]))\n",
    "import matplotlib.pyplot as plt\n",
    "plt.imshow(lda_wordcloud, interpolation='bilinear')\n",
    "plt.axis(\"off\")\n",
    "plt.show()"
   ]
  },
  {
   "cell_type": "code",
   "execution_count": 20,
   "metadata": {
    "collapsed": false
   },
   "outputs": [
    {
     "name": "stdout",
     "output_type": "stream",
     "text": [
      "[[ 0.40434032  0.3684704   0.35107134 ...,  5.23276586  0.3734939\n",
      "   1.13729281]\n",
      " [ 0.42525372  0.33952421  0.35985204 ...,  1.17029832  0.40808637\n",
      "   0.32377033]\n",
      " [ 0.35091375  1.17582242  0.36610332 ...,  3.67024033  3.03098443\n",
      "   1.15579953]\n",
      " [ 3.50968539  0.36678288  1.127191   ...,  3.32732841  2.51637274\n",
      "   0.40427492]\n",
      " [ 0.36939509  1.14205867  1.15214277 ...,  2.74948649  0.36806541\n",
      "   0.35835541]]\n",
      "(5, 789)\n"
     ]
    }
   ],
   "source": [
    "print(lda.components_)\n",
    "print(lda.components_.shape)"
   ]
  },
  {
   "cell_type": "markdown",
   "metadata": {
    "deletable": true,
    "editable": true
   },
   "source": [
    "### 4. Conclusion"
   ]
  },
  {
   "cell_type": "markdown",
   "metadata": {
    "deletable": true,
    "editable": true
   },
   "source": [
    "Of course there are a lot of things to do. We can, for example, compare the document similarity across the latent topic space. To interprete the meaning of the topics corresponding to the top keywords, we may need to rerun LDA with different number of topics. This tutorial provides a simple procedure on how we can conduct text analyses in Python (in this case, dimensionality reduction by mapping document and words onto a lower-dimemnsion topic space)."
   ]
  },
  {
   "cell_type": "markdown",
   "metadata": {
    "deletable": true,
    "editable": true
   },
   "source": [
    "While `scikit-learn` provides many handy functions to conduct topic modeling, I actually recommend using the `LDA` in package `gensim` (see <a href=\"https://radimrehurek.com/gensim/wiki.html#latent-dirichlet-allocation\" target=\"_blank\">here</a>). One of the reasons is that it is very hard to interprete what the `components_` mean in the trained `LDA` model in `sklearn`: "
   ]
  },
  {
   "cell_type": "markdown",
   "metadata": {
    "deletable": true,
    "editable": true
   },
   "source": [
    "Finally, let's try to use a fantastic tool `pyLDAVis`. See <a href=\"http://nbviewer.jupyter.org/github/bmabey/pyLDAvis/blob/master/notebooks/sklearn.ipynb\" target=\"_blank\">here</a> for a more detailed example. "
   ]
  },
  {
   "cell_type": "code",
   "execution_count": 14,
   "metadata": {
    "collapsed": false,
    "deletable": true,
    "editable": true
   },
   "outputs": [
    {
     "name": "stderr",
     "output_type": "stream",
     "text": [
      "/usr/local/Cellar/python/2.7.13/Frameworks/Python.framework/Versions/2.7/lib/python2.7/json/encoder.py:207: DeprecationWarning: Interpreting naive datetime as local 2017-04-02 18:07:47.607245. Please add timezone info to timestamps.\n",
      "  chunks = self.iterencode(o, _one_shot=True)\n"
     ]
    }
   ],
   "source": [
    "import pyLDAvis\n",
    "import pyLDAvis.sklearn\n",
    "pyLDAvis.enable_notebook()"
   ]
  },
  {
   "cell_type": "code",
   "execution_count": 15,
   "metadata": {
    "collapsed": false,
    "deletable": true,
    "editable": true
   },
   "outputs": [
    {
     "data": {
      "text/html": [
       "\n",
       "<link rel=\"stylesheet\" type=\"text/css\" href=\"https://cdn.rawgit.com/bmabey/pyLDAvis/files/ldavis.v1.0.0.css\">\n",
       "\n",
       "\n",
       "<div id=\"ldavis_el7836844925577765330763488\"></div>\n",
       "<script type=\"text/javascript\">\n",
       "\n",
       "var ldavis_el7836844925577765330763488_data = {\"plot.opts\": {\"xlab\": \"PC1\", \"ylab\": \"PC2\"}, \"topic.order\": [5, 3, 1, 4, 2], \"token.table\": {\"Topic\": [1, 1, 2, 3, 4, 5, 1, 1, 1, 2, 3, 4, 1, 2, 3, 4, 5, 1, 2, 3, 4, 5, 1, 2, 1, 2, 5, 4, 1, 2, 1, 4, 1, 2, 3, 5, 1, 3, 2, 3, 2, 2, 5, 3, 4, 2, 5, 2, 5, 1, 2, 3, 5, 1, 3, 4, 1, 1, 3, 4, 1, 1, 3, 1, 3, 4, 5, 1, 2, 3, 4, 5, 1, 2, 4, 1, 4, 1, 3, 4, 1, 2, 5, 3, 1, 1, 4, 1, 2, 4, 1, 1, 2, 1, 2, 3, 4, 1, 4, 1, 3, 5, 1, 2, 5, 1, 2, 1, 2, 3, 5, 5, 2, 1, 4, 1, 2, 4, 1, 3, 4, 1, 3, 2, 1, 2, 3, 1, 2, 3, 4, 5, 2, 5, 3, 5, 1, 2, 3, 4, 5, 1, 1, 2, 3, 5, 1, 2, 3, 4, 5, 3, 5, 1, 5, 1, 2, 3, 1, 2, 3, 5, 1, 3, 1, 2, 3, 4, 5, 4, 5, 4, 3, 5, 1, 1, 4, 1, 2, 3, 4, 5, 1, 2, 3, 4, 5, 1, 2, 3, 5, 2, 1, 2, 3, 4, 4, 5, 1, 2, 4, 1, 2, 3, 4, 5, 1, 2, 3, 5, 2, 3, 5, 1, 1, 3, 1, 5, 1, 4, 4, 5, 1, 1, 2, 4, 1, 2, 3, 4, 5, 5, 1, 2, 3, 4, 1, 2, 3, 1, 3, 5, 1, 3, 4, 3, 4, 1, 2, 3, 1, 4, 5, 1, 4, 1, 2, 4, 5, 2, 3, 4, 5, 1, 2, 3, 4, 5, 2, 3, 1, 2, 3, 5, 1, 1, 3, 5, 1, 2, 3, 4, 5, 1, 3, 1, 3, 2, 1, 2, 4, 1, 2, 3, 5, 1, 3, 2, 4, 1, 2, 3, 4, 5, 1, 4, 1, 2, 3, 4, 5, 1, 2, 3, 1, 2, 3, 5, 3, 5, 1, 2, 3, 4, 1, 2, 4, 1, 2, 3, 4, 5, 5, 1, 1, 1, 2, 3, 1, 3, 5, 1, 2, 3, 4, 5, 1, 3, 4, 2, 1, 3, 5, 1, 2, 3, 5, 4, 5, 1, 2, 3, 4, 5, 1, 2, 5, 1, 2, 3, 4, 5, 1, 2, 3, 1, 2, 3, 1, 2, 5, 2, 5, 1, 2, 3, 5, 1, 1, 2, 3, 4, 5, 5, 1, 2, 1, 2, 3, 5, 2, 1, 1, 2, 3, 4, 5, 1, 3, 4, 2, 3, 2, 1, 4, 1, 3, 4, 5, 1, 2, 3, 5, 1, 2, 4, 1, 2, 3, 4, 5, 1, 2, 3, 5, 1, 2, 3, 4, 5, 2, 1, 2, 1, 5, 1, 3, 4, 5, 1, 1, 2, 3, 4, 5, 1, 2, 3, 4, 5, 1, 2, 3, 4, 5, 1, 3, 1, 2, 4, 1, 5, 1, 2, 5, 5, 5, 1, 3, 4, 5, 1, 2, 5, 1, 4, 1, 2, 5, 4, 4, 1, 2, 3, 4, 1, 2, 5, 1, 2, 3, 4, 5, 2, 2, 3, 1, 2, 3, 4, 5, 2, 1, 3, 1, 5, 2, 1, 4, 1, 2, 3, 4, 5, 1, 4, 1, 3, 1, 2, 3, 4, 5, 2, 4, 1, 2, 3, 4, 1, 2, 3, 5, 2, 2, 3, 1, 2, 2, 1, 2, 1, 2, 3, 4, 1, 2, 3, 4, 5, 5, 1, 3, 2, 3, 5, 1, 2, 3, 4, 5, 1, 4, 5, 2, 3, 1, 2, 3, 4, 5, 1, 2, 5, 1, 2, 3, 5, 1, 4, 5, 1, 2, 3, 4, 1, 3, 1, 4, 1, 5, 1, 2, 3, 4, 5, 1, 2, 3, 3, 1, 3, 1, 2, 4, 3, 4, 1, 3, 1, 4], \"Freq\": [0.834752151558033, 0.5419843237368264, 0.28454176996183383, 0.09484725665394461, 0.0677480404671033, 0.02709921618684132, 0.890015035364864, 0.8294294182816525, 0.4977663463209866, 0.14221895609171045, 0.2844379121834209, 0.07110947804585523, 0.5829476932780553, 0.21198097937383828, 0.05299524484345957, 0.10599048968691914, 0.05299524484345957, 0.31387213893094046, 0.3661841620860972, 0.15693606946547023, 0.1046240463103135, 0.05231202315515675, 0.15409022896210675, 0.616360915848427, 0.28080092925065075, 0.28080092925065075, 0.28080092925065075, 0.6829402751486598, 0.18999302723467426, 0.66497559532136, 0.761660293626621, 0.169257843028138, 0.4110528185246533, 0.319707747741397, 0.1826901415665126, 0.0913450707832563, 0.22674912402717382, 0.45349824805434763, 0.6550183115599224, 0.21833943718664078, 0.629265830565862, 0.6655299548366151, 0.22184331827887172, 0.7186324292848097, 0.17965810732120244, 0.7555348813802647, 0.18888372034506618, 0.2901368565251058, 0.2901368565251058, 0.4375564877698991, 0.35800076272082654, 0.07955572504907256, 0.11933358757360885, 0.17552777078218992, 0.35105554156437985, 0.35105554156437985, 0.8289143394359989, 0.37506982746578776, 0.25004655164385853, 0.37506982746578776, 0.8346170689483422, 0.17214130723614976, 0.688565228944599, 0.24793186149038468, 0.24793186149038468, 0.24793186149038468, 0.24793186149038468, 0.8622655189684502, 0.07185545991403752, 0.02395181997134584, 0.02395181997134584, 0.02395181997134584, 0.6304256252922444, 0.04849427886863419, 0.2909656732118051, 0.4340978905817264, 0.4340978905817264, 0.3365571134663155, 0.3365571134663155, 0.16827855673315775, 0.6802570832519444, 0.25914555552455026, 0.03239319444056878, 0.6765979055578472, 0.821206589382922, 0.22891420847728822, 0.45782841695457643, 0.7537996273039206, 0.08375551414488007, 0.08375551414488007, 0.7253246717571122, 0.7336515083818179, 0.1048073583402597, 0.23446286382775822, 0.23446286382775822, 0.4103100116985769, 0.11723143191387911, 0.26729390881245074, 0.5345878176249015, 0.7727126660882914, 0.11038752372689876, 0.05519376186344938, 0.8535737286929282, 0.05021021933487813, 0.05021021933487813, 0.17873083772398374, 0.714923350895935, 0.3709523303728747, 0.24730155358191644, 0.12365077679095822, 0.24730155358191644, 0.37916128343321676, 0.7836855172627063, 0.2293972181287587, 0.4587944362575174, 0.10899594573410022, 0.21799189146820044, 0.5449797286705012, 0.3720279128276792, 0.49603721710357224, 0.12400930427589306, 0.7701907656642426, 0.1283651276107071, 0.6363352016161835, 0.22557177512594134, 0.22557177512594134, 0.4511435502518827, 0.6926400224636269, 0.18470400599030048, 0.02308800074878756, 0.08080800262075646, 0.03463200112318134, 0.6305989132954936, 0.37511891427719196, 0.6277738278577423, 0.2092579426192474, 0.4561828455039373, 0.3193279918527561, 0.09123656910078747, 0.09123656910078747, 0.09123656910078747, 0.8679971578628688, 0.15788417491478643, 0.4736525247443593, 0.15788417491478643, 0.3731105233244858, 0.35468037965122995, 0.23645358643415332, 0.039408931072358884, 0.23645358643415332, 0.15763572428943554, 0.48120143000299187, 0.24060071500149594, 0.20181038490233605, 0.6054311547070081, 0.8592581289524354, 0.27168463027829143, 0.5433692605565829, 0.15453534174495873, 0.15453534174495873, 0.46360602523487615, 0.15453534174495873, 0.342398312243017, 0.342398312243017, 0.45527281968694416, 0.2731636918121665, 0.09105456393738882, 0.13658184590608324, 0.04552728196869441, 0.3670489831960329, 0.3670489831960329, 0.3587117430619631, 0.16295060869662503, 0.6518024347865001, 0.8190319844968682, 0.34608797032230304, 0.34608797032230304, 0.6034066501977564, 0.1149346000376679, 0.1149346000376679, 0.08620095002825093, 0.08620095002825093, 0.361439717585329, 0.3098054722159963, 0.20653698147733085, 0.10326849073866542, 0.05163424536933271, 0.08064682085823158, 0.24194046257469473, 0.564527746007621, 0.08064682085823158, 0.6351339287264428, 0.6761298322983416, 0.09658997604262022, 0.09658997604262022, 0.09658997604262022, 0.36083579847239355, 0.36083579847239355, 0.3790847409010831, 0.5212415187389893, 0.09477118522527077, 0.507422102373091, 0.10148442047461823, 0.12685552559327276, 0.228339946067891, 0.07611331535596366, 0.4732319153904193, 0.23661595769520966, 0.15774397179680644, 0.15774397179680644, 0.23942977520384, 0.23942977520384, 0.23942977520384, 0.9438239141306088, 0.9034165401677423, 0.08212877637888567, 0.28031281810746866, 0.28031281810746866, 0.3449304014612883, 0.3449304014612883, 0.30562414757448386, 0.30562414757448386, 0.7997855720917364, 0.624132636946784, 0.156033159236696, 0.23404973885504401, 0.4843412015880551, 0.20757480068059503, 0.06919160022686502, 0.06919160022686502, 0.13838320045373004, 0.378404697894677, 0.48185302836513055, 0.2810809332129928, 0.20077209515213773, 0.040154419030427546, 0.7953892832937124, 0.05302595221958083, 0.10605190443916165, 0.2547261753456174, 0.5094523506912348, 0.1273630876728087, 0.22642058896228856, 0.22642058896228856, 0.4528411779245771, 0.5697894302167913, 0.28489471510839565, 0.7160006241967789, 0.15342870518502405, 0.1022858034566827, 0.26710011784135945, 0.5342002356827189, 0.3700386635358213, 0.2587266465706767, 0.6468166164266917, 0.6658933072050601, 0.14797629049001335, 0.14797629049001335, 0.036994072622503336, 0.6449821757977606, 0.6605799340243969, 0.1651449835060992, 0.1651449835060992, 0.4252809525545205, 0.30567068464856156, 0.02658005953465753, 0.13290029767328765, 0.10632023813863012, 0.19719394353078756, 0.5915818305923627, 0.44684939613401764, 0.22342469806700882, 0.11171234903350441, 0.22342469806700882, 0.8926668023700137, 0.27937357800347556, 0.46562263000579257, 0.09312452600115852, 0.4825663795337757, 0.14476991386013272, 0.24128318976688784, 0.04825663795337757, 0.09651327590675514, 0.34580888427744716, 0.34580888427744716, 0.0956967525868723, 0.7655740206949784, 0.6315016736614035, 0.41742268117525516, 0.5009072174103062, 0.041742268117525516, 0.7925986610400269, 0.03302494421000112, 0.06604988842000224, 0.06604988842000224, 0.3395143370074896, 0.3395143370074896, 0.6629904818144943, 0.22099682727149808, 0.5949078667667762, 0.04576214359744432, 0.27457286158466593, 0.04576214359744432, 0.09152428719488864, 0.268038768527255, 0.268038768527255, 0.4361875383199346, 0.25444273068662854, 0.2180937691599673, 0.07269792305332244, 0.03634896152666122, 0.5280023331090702, 0.10560046662181403, 0.3168013998654421, 0.21285868709395425, 0.21285868709395425, 0.21285868709395425, 0.4257173741879085, 0.2997804009304328, 0.2997804009304328, 0.3369609671710368, 0.11232032239034559, 0.22464064478069118, 0.3369609671710368, 0.5277271766380839, 0.19789769123928144, 0.26386358831904194, 0.6455853426222337, 0.13591270370994393, 0.11892361574620093, 0.05096726389122897, 0.06795635185497197, 0.6159818092629549, 0.8660061482068998, 0.867270475354425, 0.10685857075094321, 0.6411514245056593, 0.21371714150188642, 0.255039341570808, 0.255039341570808, 0.510078683141616, 0.6031115853227551, 0.17652046399690394, 0.11768030933126929, 0.05884015466563464, 0.044130115999225984, 0.25304284694722234, 0.25304284694722234, 0.3795642704208335, 0.6161051745532372, 0.26407633282634124, 0.26407633282634124, 0.26407633282634124, 0.6601222082293929, 0.20628819007168528, 0.08251527602867412, 0.04125763801433706, 0.5891181970131393, 0.29455909850656964, 0.4555307722783845, 0.24847133033366428, 0.041411888388944045, 0.20705944194472023, 0.041411888388944045, 0.4408081335694993, 0.4408081335694993, 0.07346802226158322, 0.42274834293064417, 0.3623557225119807, 0.06039262041866345, 0.06039262041866345, 0.06039262041866345, 0.5406249778911779, 0.3964583171201972, 0.036041665192745195, 0.7413873504152572, 0.1853468376038143, 0.061782279201271426, 0.142692946521753, 0.42807883956525894, 0.285385893043506, 0.2856827030122556, 0.2856827030122556, 0.6350126066735747, 0.16710858070357232, 0.06684343228142893, 0.13368686456285786, 0.8297810108752663, 0.6545251484175553, 0.0981787722626333, 0.0981787722626333, 0.06545251484175553, 0.06545251484175553, 0.3884765002104408, 0.20664382263300363, 0.6199314678990109, 0.3662859209659219, 0.12209530698864063, 0.3662859209659219, 0.12209530698864063, 0.750792131453917, 0.8321945462572043, 0.5998502286397716, 0.15996006097060575, 0.03999001524265144, 0.07998003048530287, 0.07998003048530287, 0.17861334415207927, 0.4465333603801982, 0.35722668830415855, 0.2299847229489034, 0.4599694458978068, 0.6281817406881598, 0.4320306816014703, 0.4320306816014703, 0.31015921454441686, 0.20677280969627793, 0.31015921454441686, 0.20677280969627793, 0.4418628283778342, 0.2761642677361464, 0.2209314141889171, 0.055232853547229274, 0.43268913252770763, 0.21634456626385382, 0.3245168493957807, 0.6719302258250541, 0.18951878164296398, 0.034457960298720725, 0.05168694044808109, 0.05168694044808109, 0.19684305203828112, 0.4921076300957028, 0.19684305203828112, 0.3670938359567438, 0.41871430847061686, 0.08374286169412337, 0.3349714467764935, 0.08374286169412337, 0.08374286169412337, 0.8342756033572684, 0.17893067748683558, 0.5367920324605068, 0.7518269015178588, 0.10740384307397983, 0.5313361802928052, 0.15181033722651577, 0.15181033722651577, 0.22771550583977365, 0.8297520865760214, 0.6507053327477595, 0.11619738084781421, 0.06971842850868852, 0.13943685701737704, 0.02323947616956284, 0.38089933950414445, 0.25393289300276295, 0.21161074416896913, 0.08464429766758766, 0.08464429766758766, 0.5724883172672505, 0.2671612147247169, 0.07633177563563338, 0.07633177563563338, 0.03816588781781669, 0.8250165320260913, 0.08250165320260913, 0.7450730629615854, 0.1241788438269309, 0.1241788438269309, 0.6538343185440622, 0.2615337274176249, 0.44258937831719786, 0.14752979277239928, 0.29505958554479855, 0.3838527003511136, 0.3627842530769966, 0.39650671853321634, 0.09912667963330409, 0.09912667963330409, 0.39650671853321634, 0.2541391670657965, 0.508278334131593, 0.12706958353289824, 0.26745714234702933, 0.26745714234702933, 0.3417240115876365, 0.17086200579381824, 0.3417240115876365, 0.5678735124707827, 0.6999277613560086, 0.2370221309200162, 0.31602950789335493, 0.2370221309200162, 0.15801475394667747, 0.22982181686715983, 0.22982181686715983, 0.22982181686715983, 0.608470773100352, 0.11408826995631599, 0.076058846637544, 0.11408826995631599, 0.076058846637544, 0.6271019630864143, 0.7756740390608232, 0.1292790065101372, 0.5310156830769557, 0.14750435641026546, 0.20650609897437164, 0.08850261384615928, 0.02950087128205309, 0.6426587382240775, 0.2636680627302006, 0.5273361254604012, 0.8399644522664995, 0.11999492175235707, 0.6231595310901745, 0.3739483252319856, 0.4985977669759808, 0.6623714386341426, 0.19319166960162493, 0.027598809943089275, 0.08279642982926783, 0.027598809943089275, 0.26754612783204323, 0.5350922556640865, 0.3413611118995199, 0.3413611118995199, 0.7829306149636107, 0.09786632687045134, 0.04893316343522567, 0.04893316343522567, 0.04893316343522567, 0.39252532173303095, 0.39252532173303095, 0.3307590374302698, 0.3307590374302698, 0.13230361497210794, 0.26460722994421587, 0.5069884176074039, 0.16899613920246795, 0.16899613920246795, 0.1126640928016453, 0.758486016183052, 0.3845082688136738, 0.3845082688136738, 0.13812652210089313, 0.6906326105044656, 0.756492446369252, 0.24448511185444535, 0.6112127796361133, 0.14016671659799335, 0.7008335829899668, 0.14016671659799335, 0.5686333928740533, 0.6264565380030428, 0.09637792892354505, 0.09637792892354505, 0.14456689338531759, 0.048188964461772524, 0.3725858139975918, 0.8883422699665632, 0.06345301928332595, 0.5676620842369324, 0.22706483369477296, 0.11353241684738648, 0.33249909409550116, 0.2216660627303341, 0.055416515682583524, 0.2770825784129176, 0.055416515682583524, 0.6450788213284347, 0.08063485266605434, 0.24190455799816304, 0.27236087032117884, 0.5447217406423577, 0.679876959825172, 0.15505965750398662, 0.0477106638473805, 0.07156599577107074, 0.0477106638473805, 0.21112299627049075, 0.21112299627049075, 0.4222459925409815, 0.37241963194954864, 0.26601402282110614, 0.21281121825688493, 0.1596084136926637, 0.1652958435906201, 0.49588753077186026, 0.1652958435906201, 0.6775031114320339, 0.09678615877600484, 0.09678615877600484, 0.09678615877600484, 0.23502122182979351, 0.7050636654893805, 0.7253956371726197, 0.14507912743452392, 0.21741610323477406, 0.4348322064695481, 0.5635863238104566, 0.23729950476229753, 0.08898731428586157, 0.07415609523821798, 0.02966243809528719, 0.1424762308260159, 0.4274286924780477, 0.4274286924780477, 0.689068225377359, 0.37523032163268755, 0.37523032163268755, 0.7663040062175928, 0.7365786376322627, 0.18414465940806568, 0.28408324557840187, 0.5681664911568037, 0.4394149952818145, 0.4394149952818145, 0.2657826261643013, 0.5315652523286026], \"Term\": [\"algebra\", \"algorithm\", \"algorithm\", \"algorithm\", \"algorithm\", \"algorithm\", \"ani\", \"anomali\", \"appli\", \"appli\", \"appli\", \"appli\", \"approach\", \"approach\", \"approach\", \"approach\", \"approach\", \"approxim\", \"approxim\", \"approxim\", \"approxim\", \"approxim\", \"arm\", \"arm\", \"asymptot\", \"asymptot\", \"asymptot\", \"attribut\", \"bandit\", \"bandit\", \"bas\", \"bas\", \"bayesian\", \"bayesian\", \"bayesian\", \"bayesian\", \"becaus\", \"becaus\", \"behavior\", \"behavior\", \"belong\", \"best\", \"best\", \"binari\", \"binari\", \"block\", \"block\", \"boolean\", \"boolean\", \"bound\", \"bound\", \"bound\", \"bound\", \"box\", \"box\", \"box\", \"captur\", \"carlo\", \"carlo\", \"carlo\", \"causal\", \"chain\", \"chain\", \"character\", \"character\", \"character\", \"character\", \"class\", \"class\", \"class\", \"class\", \"class\", \"classif\", \"classif\", \"classif\", \"classification\", \"classification\", \"close\", \"close\", \"close\", \"cluster\", \"cluster\", \"cluster\", \"column\", \"combinatori\", \"commun\", \"commun\", \"compar\", \"compar\", \"compar\", \"comparison\", \"complet\", \"complet\", \"complex\", \"complex\", \"complex\", \"complex\", \"compon\", \"compon\", \"condit\", \"condit\", \"condit\", \"consist\", \"consist\", \"consist\", \"constant\", \"constant\", \"constraint\", \"constraint\", \"constraint\", \"constraint\", \"contain\", \"contextu\", \"correctli\", \"correctli\", \"cost\", \"cost\", \"cost\", \"count\", \"count\", \"count\", \"criterion\", \"criterion\", \"critic\", \"cross\", \"cross\", \"cross\", \"data\", \"data\", \"data\", \"data\", \"data\", \"decade\", \"designs\", \"dimens\", \"dimens\", \"dimension\", \"dimension\", \"dimension\", \"dimension\", \"dimension\", \"direct\", \"discret\", \"discret\", \"discret\", \"discuss\", \"distribut\", \"distribut\", \"distribut\", \"distribut\", \"distribut\", \"distributions\", \"distributions\", \"divers\", \"divers\", \"domain\", \"dure\", \"dure\", \"dynam\", \"dynam\", \"dynam\", \"dynam\", \"easili\", \"easili\", \"effici\", \"effici\", \"effici\", \"effici\", \"effici\", \"efficient\", \"efficient\", \"embed\", \"ensembl\", \"ensembl\", \"entri\", \"especi\", \"especi\", \"estim\", \"estim\", \"estim\", \"estim\", \"estim\", \"exist\", \"exist\", \"exist\", \"exist\", \"exist\", \"factor\", \"factor\", \"factor\", \"factor\", \"factorization\", \"featur\", \"featur\", \"featur\", \"featur\", \"fourier\", \"fourier\", \"framework\", \"framework\", \"framework\", \"function\", \"function\", \"function\", \"function\", \"function\", \"gener\", \"gener\", \"gener\", \"gener\", \"global\", \"global\", \"global\", \"graph\", \"graphic\", \"graphic\", \"greedi\", \"greedi\", \"hilbert\", \"hilbert\", \"homotopi\", \"homotopi\", \"imbalanc\", \"implement\", \"implement\", \"implement\", \"improv\", \"improv\", \"improv\", \"improv\", \"improv\", \"include\", \"infer\", \"infer\", \"infer\", \"infer\", \"inform\", \"inform\", \"inform\", \"information\", \"information\", \"information\", \"integr\", \"integr\", \"integr\", \"integrand\", \"integrand\", \"introduc\", \"introduc\", \"introduc\", \"invari\", \"invari\", \"journal\", \"kernel\", \"kernel\", \"label\", \"label\", \"label\", \"label\", \"largest\", \"latent\", \"latent\", \"latent\", \"learn\", \"learn\", \"learn\", \"learn\", \"learn\", \"learner\", \"learner\", \"learning\", \"learning\", \"learning\", \"learning\", \"level\", \"likelihood\", \"likelihood\", \"likelihood\", \"linear\", \"linear\", \"linear\", \"linear\", \"linear\", \"littl\", \"littl\", \"log\", \"log\", \"logarithm\", \"low\", \"low\", \"low\", \"machin\", \"machin\", \"machin\", \"machin\", \"maintain\", \"maintain\", \"manifold\", \"manifold\", \"markov\", \"markov\", \"markov\", \"markov\", \"markov\", \"matlab\", \"matlab\", \"matrix\", \"matrix\", \"matrix\", \"matrix\", \"matrix\", \"maxim\", \"maxim\", \"maxim\", \"maximum\", \"maximum\", \"maximum\", \"maximum\", \"mcmc\", \"mcmc\", \"mean\", \"mean\", \"mean\", \"mean\", \"measur\", \"measur\", \"measur\", \"method\", \"method\", \"method\", \"method\", \"method\", \"minima\", \"minor\", \"miss\", \"mixtur\", \"mixtur\", \"mixtur\", \"mle\", \"mle\", \"mle\", \"model\", \"model\", \"model\", \"model\", \"model\", \"mont\", \"mont\", \"mont\", \"motiv\", \"mrf\", \"mrf\", \"mrf\", \"multi\", \"multi\", \"multi\", \"multi\", \"neural\", \"neural\", \"new\", \"new\", \"new\", \"new\", \"new\", \"non\", \"non\", \"non\", \"novel\", \"novel\", \"novel\", \"novel\", \"novel\", \"number\", \"number\", \"number\", \"onli\", \"onli\", \"onli\", \"onlin\", \"onlin\", \"onlin\", \"open\", \"open\", \"optim\", \"optim\", \"optim\", \"optim\", \"ord\", \"paper\", \"paper\", \"paper\", \"paper\", \"paper\", \"papers\", \"partial\", \"partial\", \"partit\", \"partit\", \"partit\", \"partit\", \"past\", \"penal\", \"perform\", \"perform\", \"perform\", \"perform\", \"perform\", \"point\", \"point\", \"point\", \"poisson\", \"poisson\", \"polici\", \"possibl\", \"possibl\", \"predict\", \"predict\", \"predict\", \"predict\", \"present\", \"present\", \"present\", \"present\", \"probabl\", \"probabl\", \"probabl\", \"problem\", \"problem\", \"problem\", \"problem\", \"problem\", \"procedur\", \"procedur\", \"procedur\", \"proceed\", \"process\", \"process\", \"process\", \"process\", \"process\", \"processes\", \"product\", \"product\", \"program\", \"program\", \"properti\", \"properti\", \"properti\", \"properti\", \"proport\", \"propos\", \"propos\", \"propos\", \"propos\", \"propos\", \"random\", \"random\", \"random\", \"random\", \"random\", \"rank\", \"rank\", \"rank\", \"rank\", \"rank\", \"rate\", \"rate\", \"real\", \"real\", \"real\", \"recov\", \"recov\", \"recoveri\", \"recoveri\", \"recoveri\", \"recovery\", \"regim\", \"regress\", \"regress\", \"regress\", \"regress\", \"regret\", \"regret\", \"regret\", \"relationship\", \"relationship\", \"relax\", \"relax\", \"relax\", \"relev\", \"reproduc\", \"requir\", \"requir\", \"requir\", \"requir\", \"research\", \"research\", \"research\", \"result\", \"result\", \"result\", \"result\", \"result\", \"retain\", \"robust\", \"robust\", \"sampl\", \"sampl\", \"sampl\", \"sampl\", \"sampl\", \"samples\", \"scalabl\", \"scalabl\", \"second\", \"second\", \"sens\", \"sensit\", \"sensit\", \"set\", \"set\", \"set\", \"set\", \"set\", \"shift\", \"shift\", \"signific\", \"signific\", \"size\", \"size\", \"size\", \"size\", \"size\", \"sketch\", \"sketch\", \"space\", \"space\", \"space\", \"space\", \"spars\", \"spars\", \"spars\", \"spars\", \"sparsiti\", \"stochast\", \"stochast\", \"stream\", \"stream\", \"strong\", \"structur\", \"structur\", \"sup\", \"sup\", \"sup\", \"supervis\", \"support\", \"support\", \"support\", \"support\", \"support\", \"surrog\", \"svm\", \"svm\", \"tensor\", \"tensor\", \"tensor\", \"theoret\", \"theoret\", \"theoret\", \"theoret\", \"theoret\", \"theori\", \"theori\", \"theori\", \"therebi\", \"therebi\", \"thi\", \"thi\", \"thi\", \"thi\", \"thi\", \"tight\", \"tight\", \"tight\", \"time\", \"time\", \"time\", \"time\", \"topic\", \"topic\", \"topic\", \"train\", \"train\", \"train\", \"train\", \"transit\", \"transit\", \"tree\", \"tree\", \"uniform\", \"uniform\", \"use\", \"use\", \"use\", \"use\", \"use\", \"variat\", \"variat\", \"variat\", \"vectors\", \"version\", \"version\", \"video\", \"weak\", \"weak\", \"web\", \"web\", \"wide\", \"wide\", \"word\", \"word\"]}, \"mdsDat\": {\"y\": [0.014841103350945167, 0.07192418607236398, -0.012134291141910914, -0.053080076220073436, -0.021550922061324803], \"cluster\": [1, 1, 1, 1, 1], \"Freq\": [49.93191929905031, 20.78200044285792, 11.774719237061673, 9.973945800501893, 7.537415220528206], \"topics\": [1, 2, 3, 4, 5], \"x\": [0.03367342140537426, 0.011931666624606332, -0.08121295072700409, 0.049985655962883534, -0.014377793265860023]}, \"R\": 30, \"lambda.step\": 0.01, \"tinfo\": {\"Category\": [\"Default\", \"Default\", \"Default\", \"Default\", \"Default\", \"Default\", \"Default\", \"Default\", \"Default\", \"Default\", \"Default\", \"Default\", \"Default\", \"Default\", \"Default\", \"Default\", \"Default\", \"Default\", \"Default\", \"Default\", \"Default\", \"Default\", \"Default\", \"Default\", \"Default\", \"Default\", \"Default\", \"Default\", \"Default\", \"Default\", \"Topic1\", \"Topic1\", \"Topic1\", \"Topic1\", \"Topic1\", \"Topic1\", \"Topic1\", \"Topic1\", \"Topic1\", \"Topic1\", \"Topic1\", \"Topic1\", \"Topic1\", \"Topic1\", \"Topic1\", \"Topic1\", \"Topic1\", \"Topic1\", \"Topic1\", \"Topic1\", \"Topic1\", \"Topic1\", \"Topic1\", \"Topic1\", \"Topic1\", \"Topic1\", \"Topic1\", \"Topic1\", \"Topic1\", \"Topic1\", \"Topic1\", \"Topic1\", \"Topic1\", \"Topic1\", \"Topic1\", \"Topic1\", \"Topic1\", \"Topic1\", \"Topic1\", \"Topic1\", \"Topic1\", \"Topic1\", \"Topic1\", \"Topic1\", \"Topic1\", \"Topic1\", \"Topic1\", \"Topic1\", \"Topic1\", \"Topic1\", \"Topic1\", \"Topic1\", \"Topic1\", \"Topic1\", \"Topic1\", \"Topic1\", \"Topic1\", \"Topic1\", \"Topic1\", \"Topic1\", \"Topic1\", \"Topic1\", \"Topic1\", \"Topic2\", \"Topic2\", \"Topic2\", \"Topic2\", \"Topic2\", \"Topic2\", \"Topic2\", \"Topic2\", \"Topic2\", \"Topic2\", \"Topic2\", \"Topic2\", \"Topic2\", \"Topic2\", \"Topic2\", \"Topic2\", \"Topic2\", \"Topic2\", \"Topic2\", \"Topic2\", \"Topic2\", \"Topic2\", \"Topic2\", \"Topic2\", \"Topic2\", \"Topic2\", \"Topic2\", \"Topic2\", \"Topic2\", \"Topic2\", \"Topic2\", \"Topic2\", \"Topic2\", \"Topic2\", \"Topic2\", \"Topic2\", \"Topic2\", \"Topic2\", \"Topic2\", \"Topic2\", \"Topic2\", \"Topic2\", \"Topic2\", \"Topic2\", \"Topic2\", \"Topic2\", \"Topic2\", \"Topic2\", \"Topic2\", \"Topic2\", \"Topic2\", \"Topic2\", \"Topic2\", \"Topic2\", \"Topic2\", \"Topic2\", \"Topic2\", \"Topic2\", \"Topic2\", \"Topic2\", \"Topic2\", \"Topic2\", \"Topic2\", \"Topic3\", \"Topic3\", \"Topic3\", \"Topic3\", \"Topic3\", \"Topic3\", \"Topic3\", \"Topic3\", \"Topic3\", \"Topic3\", \"Topic3\", \"Topic3\", \"Topic3\", \"Topic3\", \"Topic3\", \"Topic3\", \"Topic3\", \"Topic3\", \"Topic3\", \"Topic3\", \"Topic3\", \"Topic3\", \"Topic3\", \"Topic3\", \"Topic3\", \"Topic3\", \"Topic3\", \"Topic3\", \"Topic3\", \"Topic3\", \"Topic3\", \"Topic3\", \"Topic3\", \"Topic3\", \"Topic3\", \"Topic3\", \"Topic3\", \"Topic3\", \"Topic3\", \"Topic3\", \"Topic3\", \"Topic3\", \"Topic3\", \"Topic3\", \"Topic3\", \"Topic3\", \"Topic3\", \"Topic3\", \"Topic3\", \"Topic3\", \"Topic3\", \"Topic3\", \"Topic3\", \"Topic3\", \"Topic3\", \"Topic3\", \"Topic3\", \"Topic4\", \"Topic4\", \"Topic4\", \"Topic4\", \"Topic4\", \"Topic4\", \"Topic4\", \"Topic4\", \"Topic4\", \"Topic4\", \"Topic4\", \"Topic4\", \"Topic4\", \"Topic4\", \"Topic4\", \"Topic4\", \"Topic4\", \"Topic4\", \"Topic4\", \"Topic4\", \"Topic4\", \"Topic4\", \"Topic4\", \"Topic4\", \"Topic4\", \"Topic4\", \"Topic4\", \"Topic4\", \"Topic4\", \"Topic4\", \"Topic4\", \"Topic4\", \"Topic4\", \"Topic4\", \"Topic4\", \"Topic4\", \"Topic4\", \"Topic4\", \"Topic4\", \"Topic4\", \"Topic4\", \"Topic4\", \"Topic4\", \"Topic4\", \"Topic4\", \"Topic4\", \"Topic4\", \"Topic4\", \"Topic4\", \"Topic4\", \"Topic4\", \"Topic4\", \"Topic4\", \"Topic4\", \"Topic4\", \"Topic4\", \"Topic4\", \"Topic5\", \"Topic5\", \"Topic5\", \"Topic5\", \"Topic5\", \"Topic5\", \"Topic5\", \"Topic5\", \"Topic5\", \"Topic5\", \"Topic5\", \"Topic5\", \"Topic5\", \"Topic5\", \"Topic5\", \"Topic5\", \"Topic5\", \"Topic5\", \"Topic5\", \"Topic5\", \"Topic5\", \"Topic5\", \"Topic5\", \"Topic5\", \"Topic5\", \"Topic5\", \"Topic5\", \"Topic5\", \"Topic5\", \"Topic5\", \"Topic5\", \"Topic5\", \"Topic5\", \"Topic5\", \"Topic5\", \"Topic5\", \"Topic5\", \"Topic5\", \"Topic5\", \"Topic5\", \"Topic5\", \"Topic5\", \"Topic5\", \"Topic5\", \"Topic5\", \"Topic5\", \"Topic5\", \"Topic5\", \"Topic5\", \"Topic5\", \"Topic5\", \"Topic5\", \"Topic5\", \"Topic5\", \"Topic5\", \"Topic5\"], \"Term\": [\"learn\", \"kernel\", \"function\", \"distribut\", \"classif\", \"log\", \"factor\", \"markov\", \"regress\", \"gener\", \"variat\", \"point\", \"cost\", \"theoret\", \"complex\", \"optim\", \"likelihood\", \"bound\", \"ensembl\", \"sampl\", \"time\", \"properti\", \"theori\", \"linear\", \"data\", \"low\", \"sensit\", \"method\", \"framework\", \"new\", \"graph\", \"svm\", \"ord\", \"consist\", \"graphic\", \"class\", \"imbalanc\", \"rate\", \"level\", \"ani\", \"minor\", \"miss\", \"criterion\", \"domain\", \"video\", \"inform\", \"machin\", \"proport\", \"combinatori\", \"algebra\", \"direct\", \"program\", \"second\", \"causal\", \"anomali\", \"entri\", \"tree\", \"penal\", \"comparison\", \"captur\", \"size\", \"condit\", \"bas\", \"complet\", \"data\", \"thi\", \"problem\", \"compar\", \"real\", \"onli\", \"method\", \"cluster\", \"model\", \"set\", \"propos\", \"introduc\", \"train\", \"label\", \"use\", \"paper\", \"optim\", \"algorithm\", \"featur\", \"estim\", \"multi\", \"approach\", \"result\", \"learn\", \"perform\", \"function\", \"sampl\", \"number\", \"rank\", \"contextu\", \"robust\", \"sup\", \"processes\", \"polici\", \"stream\", \"bandit\", \"sparsiti\", \"past\", \"strong\", \"block\", \"constant\", \"arm\", \"weak\", \"manifold\", \"structur\", \"decade\", \"factorization\", \"largest\", \"belong\", \"sens\", \"mixtur\", \"logarithm\", \"samples\", \"critic\", \"behavior\", \"product\", \"motiv\", \"retain\", \"best\", \"tensor\", \"low\", \"framework\", \"regret\", \"procedur\", \"partial\", \"discret\", \"learn\", \"number\", \"non\", \"algorithm\", \"variat\", \"bound\", \"use\", \"approxim\", \"data\", \"cluster\", \"novel\", \"model\", \"problem\", \"thi\", \"rank\", \"dimension\", \"bayesian\", \"approach\", \"infer\", \"matrix\", \"method\", \"set\", \"new\", \"effici\", \"random\", \"gener\", \"log\", \"transit\", \"binari\", \"chain\", \"dimens\", \"factor\", \"latent\", \"learner\", \"vectors\", \"column\", \"distributions\", \"count\", \"information\", \"poisson\", \"littl\", \"easili\", \"becaus\", \"likelihood\", \"signific\", \"maintain\", \"dynam\", \"integrand\", \"wide\", \"therebi\", \"point\", \"scalabl\", \"stochast\", \"cross\", \"dure\", \"box\", \"variat\", \"complex\", \"process\", \"markov\", \"version\", \"close\", \"appli\", \"linear\", \"partit\", \"sampl\", \"matrix\", \"random\", \"infer\", \"model\", \"maxim\", \"present\", \"method\", \"time\", \"algorithm\", \"requir\", \"exist\", \"use\", \"function\", \"estim\", \"thi\", \"bayesian\", \"gener\", \"kernel\", \"relev\", \"supervis\", \"cost\", \"reproduc\", \"attribut\", \"embed\", \"hilbert\", \"especi\", \"commun\", \"sensit\", \"correctli\", \"topic\", \"neural\", \"web\", \"sketch\", \"invari\", \"compon\", \"word\", \"shift\", \"matlab\", \"relationship\", \"mont\", \"carlo\", \"integr\", \"mean\", \"possibl\", \"efficient\", \"classification\", \"fourier\", \"point\", \"classif\", \"theoret\", \"probabl\", \"function\", \"distribut\", \"space\", \"learn\", \"predict\", \"measur\", \"new\", \"propos\", \"implement\", \"data\", \"label\", \"support\", \"thi\", \"use\", \"approach\", \"algorithm\", \"set\", \"model\", \"estim\", \"problem\", \"method\", \"effici\", \"sampl\", \"divers\", \"ensembl\", \"minima\", \"uniform\", \"papers\", \"contain\", \"include\", \"surrog\", \"recovery\", \"designs\", \"journal\", \"discuss\", \"proceed\", \"tight\", \"mle\", \"regim\", \"regress\", \"homotopi\", \"mcmc\", \"boolean\", \"maximum\", \"greedi\", \"open\", \"onlin\", \"asymptot\", \"global\", \"mrf\", \"research\", \"relax\", \"efficient\", \"character\", \"recoveri\", \"properti\", \"distribut\", \"learn\", \"gener\", \"theori\", \"learning\", \"optim\", \"recov\", \"bound\", \"improv\", \"time\", \"method\", \"spars\", \"constraint\", \"thi\", \"function\", \"problem\", \"estim\", \"model\", \"data\", \"machin\", \"algorithm\", \"result\", \"paper\"], \"loglift\": [30.0, 29.0, 28.0, 27.0, 26.0, 25.0, 24.0, 23.0, 22.0, 21.0, 20.0, 19.0, 18.0, 17.0, 16.0, 15.0, 14.0, 13.0, 12.0, 11.0, 10.0, 9.0, 8.0, 7.0, 6.0, 5.0, 4.0, 3.0, 2.0, 1.0, 0.6143, 0.562, 0.5584, 0.5577, 0.5519, 0.5473, 0.5392, 0.5258, 0.5206, 0.5153, 0.5095, 0.5022, 0.4937, 0.4918, 0.4905, 0.4886, 0.4811, 0.475, 0.4739, 0.4719, 0.469, 0.4659, 0.4658, 0.4653, 0.4615, 0.4608, 0.4605, 0.4599, 0.4595, 0.4542, 0.4429, 0.4384, 0.4455, 0.4424, 0.323, 0.3052, 0.3076, 0.422, 0.3882, 0.3837, 0.2507, 0.3152, 0.1925, 0.2738, 0.247, 0.3474, 0.3313, 0.2845, 0.1213, 0.2606, 0.2593, 0.0739, 0.3268, 0.1958, 0.2727, 0.1369, 0.2239, -0.1752, 0.213, -0.0062, 0.0458, 0.0959, 0.1029, 1.3396, 1.2983, 1.274, 1.2663, 1.2487, 1.2306, 1.2293, 1.2067, 1.1803, 1.1734, 1.1682, 1.1611, 1.1601, 1.15, 1.1464, 1.0994, 1.0989, 1.0908, 1.0869, 1.0819, 1.0803, 1.0799, 1.0764, 1.0728, 1.0707, 1.0576, 1.0543, 1.0539, 1.0448, 1.0177, 0.9919, 0.9005, 0.8873, 0.9648, 0.8809, 0.9989, 0.9382, 0.405, 0.6006, 0.7635, 0.2943, 0.7069, 0.5323, 0.1566, 0.5209, -0.1434, 0.2722, 0.5508, -0.1569, -0.1013, -0.3191, 0.2904, 0.3869, 0.3651, 0.0207, 0.2664, 0.1528, -0.4457, -0.1356, 0.1965, 0.2665, 0.1921, 0.1144, 1.8901, 1.7499, 1.6864, 1.6542, 1.642, 1.6223, 1.5936, 1.5872, 1.5607, 1.5482, 1.5239, 1.5044, 1.5043, 1.5019, 1.4758, 1.4721, 1.4614, 1.4599, 1.4395, 1.4235, 1.3678, 1.3579, 1.3253, 1.3059, 1.2972, 1.2941, 1.293, 1.2858, 1.2834, 1.2701, 1.2608, 1.1964, 1.1118, 0.8739, 1.2391, 1.2015, 0.9171, 0.774, 1.0894, 0.5836, 0.6181, 0.588, 0.5327, 0.0342, 0.9879, 0.6264, -0.0561, 0.591, -0.2447, 0.8165, 0.5252, -0.3072, -0.0111, 0.0546, -0.8006, 0.3239, 0.1756, 1.8772, 1.8168, 1.8078, 1.7595, 1.6787, 1.6698, 1.6671, 1.6323, 1.6236, 1.6181, 1.613, 1.5874, 1.543, 1.5158, 1.4612, 1.4502, 1.4232, 1.4114, 1.409, 1.4033, 1.3899, 1.3818, 1.2546, 1.2499, 1.2395, 1.2019, 1.1989, 1.1922, 1.1912, 1.1754, 1.1524, 1.077, 1.0566, 1.1109, 0.7753, 0.7946, 0.9123, 0.3253, 1.0334, 0.8516, 0.6287, 0.2989, 0.8081, -0.2356, 0.3774, 0.5134, -0.3305, -0.204, 0.0952, -0.4765, -0.0429, -0.6334, -0.0824, -0.6425, -0.6727, 0.2642, -0.1652, 2.2159, 2.1588, 2.0426, 1.9431, 1.9193, 1.9059, 1.9005, 1.8971, 1.8938, 1.8863, 1.883, 1.8829, 1.8727, 1.8331, 1.8107, 1.8026, 1.6968, 1.6723, 1.6579, 1.6361, 1.6346, 1.6173, 1.581, 1.5231, 1.5183, 1.4766, 1.4732, 1.4198, 1.3752, 1.36, 1.3452, 1.2695, 1.09, 0.8449, 0.3574, 0.6658, 0.996, 1.1333, 0.4619, 1.2003, 0.5012, 0.8026, 0.6215, -0.1775, 0.6128, 1.1421, -0.4744, 0.0211, -0.3777, -0.0282, -0.5785, -0.8234, -0.0954, -0.9444, 0.0282, -0.1211], \"Freq\": [75.0, 15.0, 39.0, 25.0, 20.0, 10.0, 12.0, 21.0, 10.0, 25.0, 14.0, 11.0, 9.0, 18.0, 17.0, 29.0, 10.0, 25.0, 6.0, 33.0, 18.0, 13.0, 12.0, 20.0, 86.0, 23.0, 8.0, 58.0, 21.0, 24.0, 19.557238762934343, 13.80388340178982, 8.414296367614357, 17.368895562779535, 10.557670577027523, 36.03600567847296, 7.493234830132567, 10.23895048170242, 6.589892107392628, 6.574415260536, 5.758245743527523, 5.707782447474264, 6.372887026683204, 5.701818537007184, 6.384791657692578, 15.348798076677348, 24.461488590037682, 4.83803897495359, 4.883293048947266, 4.794507330251941, 5.516843545053084, 7.4082458907437365, 6.6300774279401695, 4.763438597263051, 4.775295028139444, 4.832586808912954, 5.454512069575684, 4.751960922657092, 5.449754157347587, 4.743234534605442, 15.890665939732159, 14.023961148656088, 9.212074211774928, 7.414953273532443, 59.744098488033465, 56.80191642636781, 39.41848660426719, 9.091213951445175, 11.85689360389114, 11.861884605007138, 37.76477641519174, 21.125357540498605, 41.14964930327982, 23.790767014941345, 27.504842954551762, 13.818515812221484, 14.370190084225522, 17.938570731568884, 38.006757603848776, 19.799241170294483, 19.362232851486112, 39.677494102286275, 14.335193211614225, 21.13498920153253, 15.897394858216899, 21.607971197197404, 16.424567624310143, 31.5323017976517, 15.450626480823068, 19.559900343871643, 17.718003156828367, 15.248979220214654, 14.501204852121905, 5.061494485165957, 5.888674732257309, 5.3007496893872865, 3.535108555476589, 3.459523066911449, 5.150355679078541, 7.479185725763073, 2.747430403738249, 2.7031875837489614, 2.6643895579973362, 3.538582057523574, 3.7131085338237866, 4.302503901627514, 3.5641706580603003, 5.918544861346589, 5.1043835576833265, 1.9779579905304032, 1.9479764854507058, 1.910744027366758, 1.9486260061420304, 1.9646655194787577, 5.7260659890333425, 1.931199625788254, 1.8909011188645888, 1.9056504051076328, 2.7408571484222937, 3.333385269843995, 1.9354494333527927, 1.8841760702441146, 2.591816934587876, 4.935682721604847, 12.251829700811498, 10.651489630448054, 4.292002678950945, 5.0953247567623565, 2.730629786820101, 3.3636517450352583, 23.44469037748828, 10.512702644272824, 6.069704188396129, 20.586885064424358, 5.915208129366331, 8.89688950766674, 16.387891918088325, 6.6880620375519735, 15.597673762751457, 8.422399971228154, 5.96928043134041, 12.076376469648869, 10.900652603923302, 12.662973370836081, 7.279889662717275, 6.707852557549002, 6.555222966650446, 8.006698964138664, 6.755341287256006, 6.661459841837404, 7.83311922889774, 6.575182453641872, 6.10802092974929, 5.958824665512204, 5.9502074032861705, 5.908526072346556, 8.145108466982533, 2.8827044804841138, 3.5392773105281328, 3.5764634208692248, 2.9066386449130177, 7.3948322670923465, 3.5089241896440373, 2.919786071397193, 1.6275380338089807, 1.6369658686410498, 2.246396420206466, 4.273963804369883, 4.160988605187861, 2.2988935526581513, 1.489445751520459, 1.4987754810946328, 2.2391965029921916, 5.443680572927962, 1.4551240387450874, 1.4397636749498943, 2.9917968005388262, 1.606861623592663, 2.01695461684517, 1.5956336925210801, 4.824176705562463, 1.6289508688614527, 2.2317146868139135, 1.8883291607033967, 1.5640520648770395, 2.3890187964993244, 5.831987363200157, 6.645330384845355, 4.274154837924488, 6.165562373956225, 2.166854267710633, 2.326587567108523, 4.14298917620001, 5.29113521439623, 2.866595643759762, 7.154553513649215, 6.010022224309872, 5.008754597200384, 4.995390404386124, 8.28275056495689, 2.9943645480956578, 3.9882194326479277, 6.552605661061933, 3.996501970495243, 6.804049912740982, 3.372114704367044, 3.8555526541831475, 5.839483439386776, 4.589833925128721, 4.327953508567991, 4.432917855082034, 3.564233190482547, 3.558827061579446, 10.077447729485524, 2.160995486078561, 2.138892118707221, 5.3162596551017876, 1.5272140816439557, 1.551342702552721, 1.4727355328043308, 1.4792970046763765, 1.4614675123656877, 2.1973939614236913, 4.0151238617268366, 2.1265142978900564, 2.8230991905825698, 1.541636554349688, 1.5135839792143237, 2.1670027538470626, 1.5498330115114374, 1.5305376227450274, 1.5355185734780306, 1.5168195401874291, 1.4938651532031224, 1.484916044823312, 2.7643160557666593, 2.784213319811932, 1.5214800640133792, 2.95396125262586, 1.531367974853627, 0.8951532854459663, 1.5123380676363094, 0.8954516384088832, 3.53553560770272, 6.038089026566769, 5.177436518373268, 2.8004244462881283, 8.53552994610107, 5.6023268462896745, 3.754257095017231, 10.390429847898892, 2.7115379252897975, 3.5432124670331677, 4.516159077843416, 5.787052920124172, 2.868338160828874, 6.8264640875715195, 3.9323896767423707, 3.4584783754994004, 6.008779801127536, 5.484071679288529, 4.140107381795838, 4.571030494438291, 3.4620874651730302, 3.598906421337502, 3.1967079797345814, 3.0449732147656268, 2.9958962383713317, 2.8531059459202983, 2.8659847555136886, 3.4247988961404343, 4.006240129721764, 1.8869716909872667, 2.419923352558324, 1.3224677417477821, 1.3369437961763637, 1.3324905855697127, 1.3485946253578074, 1.3047526392976463, 1.3251121897681273, 1.338858343388784, 1.3278064769529685, 1.3357729031666452, 2.2325964268500584, 1.8071216011605375, 1.2601369914263738, 4.148944676348547, 1.3131870673446744, 1.3195311911004248, 1.3339733727395124, 1.8156471494077129, 1.3550095870419199, 1.2822331307134214, 2.422560635314591, 2.4504549717866904, 1.3781702339567241, 2.4906971568509078, 1.3565694637419, 1.7451212566349572, 0.8000993606092116, 1.1671006924994007, 1.818279998790241, 2.9533379578460486, 4.452019431350934, 8.108164484579165, 3.7196170918079425, 2.530862948684227, 2.095698806639986, 3.579213154047534, 1.914364706803672, 3.127734623466117, 2.4307418559997935, 2.6376017875787587, 3.7149140309499575, 2.4695706184152, 1.9100622567599181, 3.9321118527923953, 3.0342845413048143, 2.998791536857325, 2.550254641757751, 2.8731038775629663, 2.865932456865462, 2.074754886007174, 2.163413033589733, 2.0387235923688944, 2.040521298664257], \"Total\": [75.0, 15.0, 39.0, 25.0, 20.0, 10.0, 12.0, 21.0, 10.0, 25.0, 14.0, 11.0, 9.0, 18.0, 17.0, 29.0, 10.0, 25.0, 6.0, 33.0, 18.0, 13.0, 12.0, 20.0, 86.0, 23.0, 8.0, 58.0, 21.0, 24.0, 21.19039335681883, 15.759691363698087, 9.64109794650696, 19.916264323214335, 12.176000229038943, 41.75048080673306, 8.752345934038795, 12.120969231297474, 7.841671698124239, 7.865035670021385, 6.9283572783209895, 6.918256957321183, 7.790277769463213, 6.982767806124686, 7.829790724461245, 18.858690096860368, 30.28014199331076, 6.025896265753955, 6.088601899501491, 5.989801871930119, 6.912465030153837, 9.310653803246122, 8.333686004344237, 5.990771320193872, 6.028240486524594, 6.1047676948434475, 6.892790284055939, 6.008210486943833, 6.893464671327681, 6.031986373166191, 20.43603825703463, 18.117989537912322, 11.816291429801058, 9.541314806861891, 86.62508381567112, 83.83869930620585, 58.04174079550064, 11.939512403567873, 16.10580303668648, 16.18587097996574, 58.861311574472694, 30.870681859879, 67.98078663678605, 36.233446371857035, 43.03022979965951, 19.55305557967275, 20.66411174172808, 27.031357434047536, 67.42534088314753, 30.556503517632557, 29.9206658266658, 73.80287260747964, 20.706082369432437, 34.80240065819228, 24.23793624958606, 37.73923501830619, 26.295428979234146, 75.24437623596049, 25.00624203147209, 39.4149169034317, 33.897303928387764, 27.745665874541483, 26.20140804200492, 6.380110248131464, 7.735207958312912, 7.13436131109542, 4.794578654707524, 4.7756879986889835, 7.23973922451736, 10.526702106439169, 3.955247606405421, 3.9957797562295543, 3.96567079340759, 5.294262513323695, 5.595005387622658, 6.489704160579293, 5.430513180314363, 9.049903678223256, 8.180457226330835, 3.171588085282374, 3.1489421514771823, 3.100860884296927, 3.1783070092992602, 3.209451031746459, 9.35816372025707, 3.1670541558570013, 3.1120715879889818, 3.142997581966767, 4.5800246299306, 5.5887565734700395, 3.2461989975173977, 3.189274021973363, 4.507685909849824, 8.808057009340589, 23.95653243337176, 21.10346088049872, 7.86970392282037, 10.160378937891338, 4.8392445864495315, 6.333757012314388, 75.24437623596049, 27.745665874541483, 13.61136409034526, 73.80287260747964, 14.03742917962428, 25.139611244399255, 67.42534088314753, 19.11606433255341, 86.62508381567112, 30.870681859879, 16.558314460734422, 67.98078663678605, 58.04174079550064, 83.83869930620585, 26.20140804200492, 21.92103473104775, 21.894996444259185, 37.73923501830619, 24.903859254998476, 27.511102325895074, 58.861311574472694, 36.233446371857035, 24.147655151774615, 21.964851771463593, 23.628289856622537, 25.357545866491115, 10.44967538571607, 4.2549349042369355, 5.566127879840937, 5.809180934290009, 4.778791129661143, 12.399744830089363, 6.055285354538593, 5.071149661570979, 2.902470214621675, 2.9559654021556914, 4.156263625375272, 8.063911057635021, 7.851568443197332, 4.348114897275911, 2.8917707018703616, 2.9205751437531933, 4.4101603668385465, 10.738309690699092, 2.9294490940560074, 2.9453837172653485, 6.471011670911985, 3.5100686217346078, 4.551506028412434, 3.6715993704263026, 11.19737167172186, 3.792647428153838, 5.20144860907833, 4.4331787496094295, 3.6807382109752846, 5.697104199203252, 14.03742917962428, 17.06027101562016, 11.941316307682076, 21.852123204644787, 5.330059658552321, 5.942527790903968, 14.062822952450109, 20.722537715249352, 8.190322991636664, 33.897303928387764, 27.511102325895074, 23.628289856622537, 24.903859254998476, 67.98078663678605, 9.469655125495711, 18.105166323606767, 58.861311574472694, 18.79600160538337, 73.80287260747964, 12.657045940627201, 19.36699167087921, 67.42534088314753, 39.4149169034317, 34.80240065819228, 83.83869930620585, 21.894996444259185, 25.357545866491115, 15.460332567280869, 3.521911052512598, 3.517204626150016, 9.174653178747935, 2.8574377391822403, 2.928513770204353, 2.7877537307923097, 2.8991355814492636, 2.889438772080766, 4.368448802946259, 8.022498825576758, 4.359250771030312, 6.0497588945832765, 3.3949044693239943, 3.5200949565468758, 5.095212688877851, 3.743914484507778, 3.7412001060662377, 3.7624731700175946, 3.737673230792439, 3.730803590445227, 3.7389167895261743, 7.9037997877772215, 7.998510624727997, 4.416559485968632, 8.903108348680757, 4.629300846380429, 2.7244320125685286, 4.60725574436641, 2.771343653355688, 11.19737167172186, 20.620989183257947, 18.045161946446285, 9.244512282137931, 39.4149169034317, 25.374958741304003, 15.116744923573233, 75.24437623596049, 9.672451629098319, 15.159348152135081, 24.147655151774615, 43.03022979965951, 12.817788281567001, 86.62508381567112, 27.031357434047536, 20.751639118397797, 83.83869930620585, 67.42534088314753, 37.73923501830619, 73.80287260747964, 36.233446371857035, 67.98078663678605, 34.80240065819228, 58.04174079550064, 58.861311574472694, 21.964851771463593, 33.897303928387764, 4.955146388942963, 6.13682887102165, 3.2468491275628324, 4.599475315405513, 2.574158281024186, 2.63740008195255, 2.642673321879144, 2.6839454494272923, 2.605165989675964, 2.6658213220916283, 2.702420310474383, 2.68017098818283, 2.7240991322933414, 4.736575444954372, 3.920963698545169, 2.7564592220262716, 10.088101444528007, 3.27199276606993, 3.3357751103684077, 3.446649322587767, 4.697952494457543, 3.5674429972610517, 3.500386930870997, 7.008054878504831, 7.122483552092323, 4.176589979874658, 7.573567758210336, 4.3511969996217275, 5.852676230470542, 2.7244320125685286, 4.033366240178784, 6.778291904352798, 13.174333425106656, 25.374958741304003, 75.24437623596049, 25.357545866491115, 12.401585256706, 8.951561834046505, 29.9206658266658, 7.647197245831091, 25.139611244399255, 14.45262136908535, 18.79600160538337, 58.861311574472694, 17.751884830965352, 8.087292501935366, 83.83869930620585, 39.4149169034317, 58.04174079550064, 34.80240065819228, 67.98078663678605, 86.62508381567112, 30.28014199331076, 73.80287260747964, 26.295428979234146, 30.556503517632557], \"logprob\": [30.0, 29.0, 28.0, 27.0, 26.0, 25.0, 24.0, 23.0, 22.0, 21.0, 20.0, 19.0, 18.0, 17.0, 16.0, 15.0, 14.0, 13.0, 12.0, 11.0, 10.0, 9.0, 8.0, 7.0, 6.0, 5.0, 4.0, 3.0, 2.0, 1.0, -5.0475, -5.3959, -5.8909, -5.1662, -5.664, -4.4364, -6.0069, -5.6947, -6.1353, -6.1377, -6.2702, -6.279, -6.1688, -6.2801, -6.167, -5.2898, -4.8238, -6.4444, -6.4351, -6.4534, -6.3131, -6.0183, -6.1293, -6.4599, -6.4574, -6.4455, -6.3244, -6.4623, -6.3253, -6.4642, -5.2551, -5.3801, -5.8004, -6.0174, -3.9308, -3.9813, -4.3466, -5.8136, -5.548, -5.5475, -4.3895, -4.9704, -4.3037, -4.8516, -4.7065, -5.3949, -5.3557, -5.1339, -4.3831, -5.0352, -5.0576, -4.3401, -5.3582, -4.9699, -5.2547, -4.9478, -5.2221, -4.5699, -5.2832, -5.0474, -5.1463, -5.2964, -5.3466, -5.5226, -5.3713, -5.4765, -5.8816, -5.9032, -5.5052, -5.1322, -6.1336, -6.1499, -6.1643, -5.8806, -5.8324, -5.6851, -5.8734, -5.3662, -5.5142, -6.4622, -6.4775, -6.4968, -6.4772, -6.469, -5.3993, -6.4862, -6.5073, -6.4995, -6.136, -5.9403, -6.484, -6.5108, -6.1919, -5.5478, -4.6386, -4.7786, -5.6876, -5.516, -6.1398, -5.9313, -3.9897, -4.7917, -5.341, -4.1197, -5.3668, -4.9586, -4.3478, -5.244, -4.3972, -5.0134, -5.3577, -4.6531, -4.7555, -4.6056, -5.1592, -5.241, -5.264, -5.064, -5.234, -5.248, -5.0859, -5.261, -5.3347, -5.3594, -5.3609, -5.3679, -4.4788, -5.5174, -5.3123, -5.3018, -5.5092, -4.5754, -5.3209, -5.5047, -6.0891, -6.0833, -5.7668, -5.1236, -5.1504, -5.7437, -6.1778, -6.1715, -5.7701, -4.8817, -6.2011, -6.2117, -5.4803, -6.1019, -5.8746, -6.1089, -5.0025, -6.0882, -5.7734, -5.9405, -6.1289, -5.7053, -4.8128, -4.6823, -5.1236, -4.7572, -5.8029, -5.7318, -5.1548, -4.9101, -5.523, -4.6084, -4.7827, -4.965, -4.9677, -4.462, -5.4794, -5.1928, -4.6963, -5.1908, -4.6587, -5.3606, -5.2267, -4.8115, -5.0523, -5.1111, -5.0871, -5.3052, -5.3067, -4.0999, -5.6396, -5.6499, -4.7394, -5.9867, -5.9711, -6.0231, -6.0186, -6.0308, -5.6229, -5.0201, -5.6557, -5.3724, -5.9773, -5.9957, -5.6368, -5.972, -5.9846, -5.9813, -5.9936, -6.0088, -6.0148, -5.3934, -5.3862, -5.9905, -5.327, -5.984, -6.521, -5.9965, -6.5206, -5.1473, -4.6121, -4.7659, -5.3804, -4.266, -4.687, -5.0873, -4.0693, -5.4127, -5.1452, -4.9025, -4.6546, -5.3565, -4.4894, -5.0409, -5.1694, -4.617, -4.7083, -4.9895, -4.8905, -5.1683, -5.1296, -5.2481, -5.2967, -5.313, -5.3618, -5.3573, -4.8991, -4.7422, -5.4951, -5.2464, -5.8506, -5.8397, -5.843, -5.831, -5.8641, -5.8486, -5.8383, -5.8466, -5.8406, -5.3269, -5.5384, -5.8989, -4.7072, -5.8576, -5.8528, -5.8419, -5.5337, -5.8263, -5.8815, -5.2453, -5.2338, -5.8093, -5.2175, -5.8251, -5.5733, -6.3531, -5.9756, -5.5322, -5.0472, -4.6367, -4.0372, -4.8165, -5.2015, -5.3902, -4.855, -5.4807, -4.9898, -5.2419, -5.1602, -4.8177, -5.2261, -5.483, -4.7609, -5.0201, -5.0319, -5.1939, -5.0747, -5.0772, -5.4003, -5.3584, -5.4178, -5.4169]}};\n",
       "\n",
       "function LDAvis_load_lib(url, callback){\n",
       "  var s = document.createElement('script');\n",
       "  s.src = url;\n",
       "  s.async = true;\n",
       "  s.onreadystatechange = s.onload = callback;\n",
       "  s.onerror = function(){console.warn(\"failed to load library \" + url);};\n",
       "  document.getElementsByTagName(\"head\")[0].appendChild(s);\n",
       "}\n",
       "\n",
       "if(typeof(LDAvis) !== \"undefined\"){\n",
       "   // already loaded: just create the visualization\n",
       "   !function(LDAvis){\n",
       "       new LDAvis(\"#\" + \"ldavis_el7836844925577765330763488\", ldavis_el7836844925577765330763488_data);\n",
       "   }(LDAvis);\n",
       "}else if(typeof define === \"function\" && define.amd){\n",
       "   // require.js is available: use it to load d3/LDAvis\n",
       "   require.config({paths: {d3: \"https://cdnjs.cloudflare.com/ajax/libs/d3/3.5.5/d3.min\"}});\n",
       "   require([\"d3\"], function(d3){\n",
       "      window.d3 = d3;\n",
       "      LDAvis_load_lib(\"https://cdn.rawgit.com/bmabey/pyLDAvis/files/ldavis.v1.0.0.js\", function(){\n",
       "        new LDAvis(\"#\" + \"ldavis_el7836844925577765330763488\", ldavis_el7836844925577765330763488_data);\n",
       "      });\n",
       "    });\n",
       "}else{\n",
       "    // require.js not available: dynamically load d3 & LDAvis\n",
       "    LDAvis_load_lib(\"https://cdnjs.cloudflare.com/ajax/libs/d3/3.5.5/d3.min.js\", function(){\n",
       "         LDAvis_load_lib(\"https://cdn.rawgit.com/bmabey/pyLDAvis/files/ldavis.v1.0.0.js\", function(){\n",
       "                 new LDAvis(\"#\" + \"ldavis_el7836844925577765330763488\", ldavis_el7836844925577765330763488_data);\n",
       "            })\n",
       "         });\n",
       "}\n",
       "</script>"
      ],
      "text/plain": [
       "PreparedData(topic_coordinates=            Freq  cluster  topics         x         y\n",
       "topic                                                \n",
       "4      49.931919        1       1  0.033673  0.014841\n",
       "2      20.782000        1       2  0.011932  0.071924\n",
       "0      11.774719        1       3 -0.081213 -0.012134\n",
       "3       9.973946        1       4  0.049986 -0.053080\n",
       "1       7.537415        1       5 -0.014378 -0.021551, topic_info=     Category       Freq        Term      Total  loglift  logprob\n",
       "term                                                             \n",
       "380   Default  75.000000       learn  75.000000  30.0000  30.0000\n",
       "366   Default  15.000000      kernel  15.000000  29.0000  29.0000\n",
       "290   Default  39.000000    function  39.000000  28.0000  28.0000\n",
       "207   Default  25.000000   distribut  25.000000  27.0000  27.0000\n",
       "104   Default  20.000000     classif  20.000000  26.0000  26.0000\n",
       "393   Default  10.000000         log  10.000000  25.0000  25.0000\n",
       "264   Default  12.000000      factor  12.000000  24.0000  24.0000\n",
       "410   Default  21.000000      markov  21.000000  23.0000  23.0000\n",
       "586   Default  10.000000     regress  10.000000  22.0000  22.0000\n",
       "296   Default  25.000000       gener  25.000000  21.0000  21.0000\n",
       "765   Default  14.000000      variat  14.000000  20.0000  20.0000\n",
       "515   Default  11.000000       point  11.000000  19.0000  19.0000\n",
       "160   Default   9.000000        cost   9.000000  18.0000  18.0000\n",
       "720   Default  18.000000     theoret  18.000000  17.0000  17.0000\n",
       "131   Default  17.000000     complex  17.000000  16.0000  16.0000\n",
       "487   Default  29.000000       optim  29.000000  15.0000  15.0000\n",
       "385   Default  10.000000  likelihood  10.000000  14.0000  14.0000\n",
       "80    Default  25.000000       bound  25.000000  13.0000  13.0000\n",
       "232   Default   6.000000     ensembl   6.000000  12.0000  12.0000\n",
       "623   Default  33.000000       sampl  33.000000  11.0000  11.0000\n",
       "729   Default  18.000000        time  18.000000  10.0000  10.0000\n",
       "548   Default  13.000000    properti  13.000000   9.0000   9.0000\n",
       "721   Default  12.000000      theori  12.000000   8.0000   8.0000\n",
       "388   Default  20.000000      linear  20.000000   7.0000   7.0000\n",
       "170   Default  86.000000        data  86.000000   6.0000   6.0000\n",
       "396   Default  23.000000         low  23.000000   5.0000   5.0000\n",
       "639   Default   8.000000      sensit   8.000000   4.0000   4.0000\n",
       "421   Default  58.000000      method  58.000000   3.0000   3.0000\n",
       "288   Default  21.000000   framework  21.000000   2.0000   2.0000\n",
       "463   Default  24.000000         new  24.000000   1.0000   1.0000\n",
       "...       ...        ...         ...        ...      ...      ...\n",
       "447    Topic5   2.490697         mrf   7.573568   1.4732  -5.2175\n",
       "601    Topic5   1.356569    research   4.351197   1.4198  -5.8251\n",
       "593    Topic5   1.745121       relax   5.852676   1.3752  -5.5733\n",
       "223    Topic5   0.800099   efficient   2.724432   1.3600  -6.3531\n",
       "97     Topic5   1.167101   character   4.033366   1.3452  -5.9756\n",
       "576    Topic5   1.818280    recoveri   6.778292   1.2695  -5.5322\n",
       "548    Topic5   2.953338    properti  13.174333   1.0900  -5.0472\n",
       "207    Topic5   4.452019   distribut  25.374959   0.8449  -4.6367\n",
       "380    Topic5   8.108164       learn  75.244376   0.3574  -4.0372\n",
       "296    Topic5   3.719617       gener  25.357546   0.6658  -4.8165\n",
       "721    Topic5   2.530863      theori  12.401585   0.9960  -5.2015\n",
       "382    Topic5   2.095699    learning   8.951562   1.1333  -5.3902\n",
       "487    Topic5   3.579213       optim  29.920666   0.4619  -4.8550\n",
       "575    Topic5   1.914365       recov   7.647197   1.2003  -5.4807\n",
       "80     Topic5   3.127735       bound  25.139611   0.5012  -4.9898\n",
       "335    Topic5   2.430742      improv  14.452621   0.8026  -5.2419\n",
       "729    Topic5   2.637602        time  18.796002   0.6215  -5.1602\n",
       "421    Topic5   3.714914      method  58.861312  -0.1775  -4.8177\n",
       "675    Topic5   2.469571       spars  17.751885   0.6128  -5.2261\n",
       "147    Topic5   1.910062  constraint   8.087293   1.1421  -5.4830\n",
       "724    Topic5   3.932112         thi  83.838699  -0.4744  -4.7609\n",
       "290    Topic5   3.034285    function  39.414917   0.0211  -5.0201\n",
       "535    Topic5   2.998792     problem  58.041741  -0.3777  -5.0319\n",
       "239    Topic5   2.550255       estim  34.802401  -0.0282  -5.1939\n",
       "440    Topic5   2.873104       model  67.980787  -0.5785  -5.0747\n",
       "170    Topic5   2.865932        data  86.625084  -0.8234  -5.0772\n",
       "399    Topic5   2.074755      machin  30.280142  -0.0954  -5.4003\n",
       "23     Topic5   2.163413   algorithm  73.802873  -0.9444  -5.3584\n",
       "607    Topic5   2.038724      result  26.295429   0.0282  -5.4178\n",
       "497    Topic5   2.040521       paper  30.556504  -0.1211  -5.4169\n",
       "\n",
       "[326 rows x 6 columns], token_table=      Topic      Freq       Term\n",
       "term                            \n",
       "22        1  0.834752    algebra\n",
       "23        1  0.541984  algorithm\n",
       "23        2  0.284542  algorithm\n",
       "23        3  0.094847  algorithm\n",
       "23        4  0.067748  algorithm\n",
       "23        5  0.027099  algorithm\n",
       "31        1  0.890015        ani\n",
       "32        1  0.829429    anomali\n",
       "33        1  0.497766      appli\n",
       "33        2  0.142219      appli\n",
       "33        3  0.284438      appli\n",
       "33        4  0.071109      appli\n",
       "36        1  0.582948   approach\n",
       "36        2  0.211981   approach\n",
       "36        3  0.052995   approach\n",
       "36        4  0.105990   approach\n",
       "36        5  0.052995   approach\n",
       "37        1  0.313872   approxim\n",
       "37        2  0.366184   approxim\n",
       "37        3  0.156936   approxim\n",
       "37        4  0.104624   approxim\n",
       "37        5  0.052312   approxim\n",
       "43        1  0.154090        arm\n",
       "43        2  0.616361        arm\n",
       "51        1  0.280801   asymptot\n",
       "51        2  0.280801   asymptot\n",
       "51        5  0.280801   asymptot\n",
       "52        4  0.682940   attribut\n",
       "58        1  0.189993     bandit\n",
       "58        2  0.664976     bandit\n",
       "...     ...       ...        ...\n",
       "736       1  0.677503      train\n",
       "736       2  0.096786      train\n",
       "736       3  0.096786      train\n",
       "736       4  0.096786      train\n",
       "738       1  0.235021    transit\n",
       "738       3  0.705064    transit\n",
       "740       1  0.725396       tree\n",
       "740       4  0.145079       tree\n",
       "749       1  0.217416    uniform\n",
       "749       5  0.434832    uniform\n",
       "755       1  0.563586        use\n",
       "755       2  0.237300        use\n",
       "755       3  0.088987        use\n",
       "755       4  0.074156        use\n",
       "755       5  0.029662        use\n",
       "765       1  0.142476     variat\n",
       "765       2  0.427429     variat\n",
       "765       3  0.427429     variat\n",
       "769       3  0.689068    vectors\n",
       "771       1  0.375230    version\n",
       "771       3  0.375230    version\n",
       "774       1  0.766304      video\n",
       "780       2  0.736579       weak\n",
       "780       4  0.184145       weak\n",
       "781       3  0.284083        web\n",
       "781       4  0.568166        web\n",
       "784       1  0.439415       wide\n",
       "784       3  0.439415       wide\n",
       "785       1  0.265783       word\n",
       "785       4  0.531565       word\n",
       "\n",
       "[621 rows x 3 columns], R=30, lambda_step=0.01, plot_opts={'xlab': 'PC1', 'ylab': 'PC2'}, topic_order=[5, 3, 1, 4, 2])"
      ]
     },
     "execution_count": 15,
     "metadata": {},
     "output_type": "execute_result"
    },
    {
     "name": "stderr",
     "output_type": "stream",
     "text": [
      "/usr/local/Cellar/python/2.7.13/Frameworks/Python.framework/Versions/2.7/lib/python2.7/json/encoder.py:207: DeprecationWarning: Interpreting naive datetime as local 2017-04-02 18:07:49.170864. Please add timezone info to timestamps.\n",
      "  chunks = self.iterencode(o, _one_shot=True)\n"
     ]
    }
   ],
   "source": [
    "pyLDAvis.sklearn.prepare(lda, corpus_counter, counter)"
   ]
  },
  {
   "cell_type": "markdown",
   "metadata": {
    "deletable": true,
    "editable": true
   },
   "source": [
    "Reference:\n",
    "\n",
    "[1] Deerwester, S., Dumais, S. T., Furnas, G. W., Landauer, T. K., & Harshman, R. (1990). Indexing by latent semantic analysis. Journal of the American society for information science, 41(6), 391.\n",
    "\n",
    "[2] Blei, D. M., Ng, A. Y., & Jordan, M. I. (2003). Latent dirichlet allocation. Journal of machine Learning research, 3(Jan), 993-1022."
   ]
  }
 ],
 "metadata": {
  "kernelspec": {
   "display_name": "Python 2",
   "language": "python",
   "name": "python2"
  },
  "language_info": {
   "codemirror_mode": {
    "name": "ipython",
    "version": 2
   },
   "file_extension": ".py",
   "mimetype": "text/x-python",
   "name": "python",
   "nbconvert_exporter": "python",
   "pygments_lexer": "ipython2",
   "version": "2.7.13"
  }
 },
 "nbformat": 4,
 "nbformat_minor": 2
}
